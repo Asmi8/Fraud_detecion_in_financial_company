{
 "cells": [
  {
   "cell_type": "code",
   "execution_count": 1,
   "id": "f20beda7",
   "metadata": {
    "_cell_guid": "b1076dfc-b9ad-4769-8c92-a6c4dae69d19",
    "_uuid": "8f2839f25d086af736a60e9eeb907d3b93b6e0e5",
    "execution": {
     "iopub.execute_input": "2022-04-13T16:04:47.668385Z",
     "iopub.status.busy": "2022-04-13T16:04:47.666585Z",
     "iopub.status.idle": "2022-04-13T16:04:47.688616Z",
     "shell.execute_reply": "2022-04-13T16:04:47.689164Z",
     "shell.execute_reply.started": "2022-04-13T15:03:53.811707Z"
    },
    "papermill": {
     "duration": 0.14169,
     "end_time": "2022-04-13T16:04:47.689457",
     "exception": false,
     "start_time": "2022-04-13T16:04:47.547767",
     "status": "completed"
    },
    "tags": []
   },
   "outputs": [
    {
     "name": "stdout",
     "output_type": "stream",
     "text": [
      "/kaggle/input/fraudulent-transactions-data/Fraud.csv\n"
     ]
    }
   ],
   "source": [
    "# This Python 3 environment comes with many helpful analytics libraries installed\n",
    "# It is defined by the kaggle/python Docker image: https://github.com/kaggle/docker-python\n",
    "# For example, here's several helpful packages to load\n",
    "\n",
    "import numpy as np # linear algebra\n",
    "import pandas as pd # data processing, CSV file I/O (e.g. pd.read_csv)\n",
    "\n",
    "# Input data files are available in the read-only \"../input/\" directory\n",
    "# For example, running this (by clicking run or pressing Shift+Enter) will list all files under the input directory\n",
    "\n",
    "import os\n",
    "for dirname, _, filenames in os.walk('/kaggle/input'):\n",
    "    for filename in filenames:\n",
    "        print(os.path.join(dirname, filename))\n",
    "\n",
    "# You can write up to 20GB to the current directory (/kaggle/working/) that gets preserved as output when you create a version using \"Save & Run All\" \n",
    "# You can also write temporary files to /kaggle/temp/, but they won't be saved outside of the current session"
   ]
  },
  {
   "cell_type": "markdown",
   "id": "d72caf96",
   "metadata": {
    "papermill": {
     "duration": 0.119454,
     "end_time": "2022-04-13T16:04:47.926375",
     "exception": false,
     "start_time": "2022-04-13T16:04:47.806921",
     "status": "completed"
    },
    "tags": []
   },
   "source": [
    "**Importing the libraries**"
   ]
  },
  {
   "cell_type": "code",
   "execution_count": 2,
   "id": "15acef50",
   "metadata": {
    "execution": {
     "iopub.execute_input": "2022-04-13T16:04:48.161174Z",
     "iopub.status.busy": "2022-04-13T16:04:48.160431Z",
     "iopub.status.idle": "2022-04-13T16:04:48.163941Z",
     "shell.execute_reply": "2022-04-13T16:04:48.164523Z",
     "shell.execute_reply.started": "2022-04-13T15:03:53.926750Z"
    },
    "papermill": {
     "duration": 0.122605,
     "end_time": "2022-04-13T16:04:48.164713",
     "exception": false,
     "start_time": "2022-04-13T16:04:48.042108",
     "status": "completed"
    },
    "tags": []
   },
   "outputs": [],
   "source": [
    "import numpy as np\n",
    "import pandas as pd\n",
    "import matplotlib.pyplot as plt"
   ]
  },
  {
   "cell_type": "markdown",
   "id": "0d40731c",
   "metadata": {
    "papermill": {
     "duration": 0.113693,
     "end_time": "2022-04-13T16:04:48.397462",
     "exception": false,
     "start_time": "2022-04-13T16:04:48.283769",
     "status": "completed"
    },
    "tags": []
   },
   "source": [
    "**Importing the dataset**"
   ]
  },
  {
   "cell_type": "code",
   "execution_count": 3,
   "id": "29f474aa",
   "metadata": {
    "execution": {
     "iopub.execute_input": "2022-04-13T16:04:48.630357Z",
     "iopub.status.busy": "2022-04-13T16:04:48.629683Z",
     "iopub.status.idle": "2022-04-13T16:05:09.024758Z",
     "shell.execute_reply": "2022-04-13T16:05:09.023991Z",
     "shell.execute_reply.started": "2022-04-13T15:03:53.933758Z"
    },
    "papermill": {
     "duration": 20.512481,
     "end_time": "2022-04-13T16:05:09.024915",
     "exception": false,
     "start_time": "2022-04-13T16:04:48.512434",
     "status": "completed"
    },
    "tags": []
   },
   "outputs": [],
   "source": [
    "dataset = pd.read_csv('../input/fraudulent-transactions-data/Fraud.csv')"
   ]
  },
  {
   "cell_type": "markdown",
   "id": "43bbe03a",
   "metadata": {
    "papermill": {
     "duration": 0.115594,
     "end_time": "2022-04-13T16:05:09.255042",
     "exception": false,
     "start_time": "2022-04-13T16:05:09.139448",
     "status": "completed"
    },
    "tags": []
   },
   "source": []
  },
  {
   "cell_type": "markdown",
   "id": "35c98b2a",
   "metadata": {
    "papermill": {
     "duration": 0.114251,
     "end_time": "2022-04-13T16:05:09.482986",
     "exception": false,
     "start_time": "2022-04-13T16:05:09.368735",
     "status": "completed"
    },
    "tags": []
   },
   "source": [
    "**Data Exploration**"
   ]
  },
  {
   "cell_type": "code",
   "execution_count": 4,
   "id": "e84dfa06",
   "metadata": {
    "execution": {
     "iopub.execute_input": "2022-04-13T16:05:09.726268Z",
     "iopub.status.busy": "2022-04-13T16:05:09.725579Z",
     "iopub.status.idle": "2022-04-13T16:05:09.747572Z",
     "shell.execute_reply": "2022-04-13T16:05:09.747000Z",
     "shell.execute_reply.started": "2022-04-13T15:04:12.959168Z"
    },
    "papermill": {
     "duration": 0.148699,
     "end_time": "2022-04-13T16:05:09.747718",
     "exception": false,
     "start_time": "2022-04-13T16:05:09.599019",
     "status": "completed"
    },
    "tags": []
   },
   "outputs": [
    {
     "data": {
      "text/html": [
       "<div>\n",
       "<style scoped>\n",
       "    .dataframe tbody tr th:only-of-type {\n",
       "        vertical-align: middle;\n",
       "    }\n",
       "\n",
       "    .dataframe tbody tr th {\n",
       "        vertical-align: top;\n",
       "    }\n",
       "\n",
       "    .dataframe thead th {\n",
       "        text-align: right;\n",
       "    }\n",
       "</style>\n",
       "<table border=\"1\" class=\"dataframe\">\n",
       "  <thead>\n",
       "    <tr style=\"text-align: right;\">\n",
       "      <th></th>\n",
       "      <th>step</th>\n",
       "      <th>type</th>\n",
       "      <th>amount</th>\n",
       "      <th>nameOrig</th>\n",
       "      <th>oldbalanceOrg</th>\n",
       "      <th>newbalanceOrig</th>\n",
       "      <th>nameDest</th>\n",
       "      <th>oldbalanceDest</th>\n",
       "      <th>newbalanceDest</th>\n",
       "      <th>isFraud</th>\n",
       "      <th>isFlaggedFraud</th>\n",
       "    </tr>\n",
       "  </thead>\n",
       "  <tbody>\n",
       "    <tr>\n",
       "      <th>0</th>\n",
       "      <td>1</td>\n",
       "      <td>PAYMENT</td>\n",
       "      <td>9839.64</td>\n",
       "      <td>C1231006815</td>\n",
       "      <td>170136.0</td>\n",
       "      <td>160296.36</td>\n",
       "      <td>M1979787155</td>\n",
       "      <td>0.0</td>\n",
       "      <td>0.0</td>\n",
       "      <td>0</td>\n",
       "      <td>0</td>\n",
       "    </tr>\n",
       "    <tr>\n",
       "      <th>1</th>\n",
       "      <td>1</td>\n",
       "      <td>PAYMENT</td>\n",
       "      <td>1864.28</td>\n",
       "      <td>C1666544295</td>\n",
       "      <td>21249.0</td>\n",
       "      <td>19384.72</td>\n",
       "      <td>M2044282225</td>\n",
       "      <td>0.0</td>\n",
       "      <td>0.0</td>\n",
       "      <td>0</td>\n",
       "      <td>0</td>\n",
       "    </tr>\n",
       "    <tr>\n",
       "      <th>2</th>\n",
       "      <td>1</td>\n",
       "      <td>TRANSFER</td>\n",
       "      <td>181.00</td>\n",
       "      <td>C1305486145</td>\n",
       "      <td>181.0</td>\n",
       "      <td>0.00</td>\n",
       "      <td>C553264065</td>\n",
       "      <td>0.0</td>\n",
       "      <td>0.0</td>\n",
       "      <td>1</td>\n",
       "      <td>0</td>\n",
       "    </tr>\n",
       "    <tr>\n",
       "      <th>3</th>\n",
       "      <td>1</td>\n",
       "      <td>CASH_OUT</td>\n",
       "      <td>181.00</td>\n",
       "      <td>C840083671</td>\n",
       "      <td>181.0</td>\n",
       "      <td>0.00</td>\n",
       "      <td>C38997010</td>\n",
       "      <td>21182.0</td>\n",
       "      <td>0.0</td>\n",
       "      <td>1</td>\n",
       "      <td>0</td>\n",
       "    </tr>\n",
       "    <tr>\n",
       "      <th>4</th>\n",
       "      <td>1</td>\n",
       "      <td>PAYMENT</td>\n",
       "      <td>11668.14</td>\n",
       "      <td>C2048537720</td>\n",
       "      <td>41554.0</td>\n",
       "      <td>29885.86</td>\n",
       "      <td>M1230701703</td>\n",
       "      <td>0.0</td>\n",
       "      <td>0.0</td>\n",
       "      <td>0</td>\n",
       "      <td>0</td>\n",
       "    </tr>\n",
       "  </tbody>\n",
       "</table>\n",
       "</div>"
      ],
      "text/plain": [
       "   step      type    amount     nameOrig  oldbalanceOrg  newbalanceOrig  \\\n",
       "0     1   PAYMENT   9839.64  C1231006815       170136.0       160296.36   \n",
       "1     1   PAYMENT   1864.28  C1666544295        21249.0        19384.72   \n",
       "2     1  TRANSFER    181.00  C1305486145          181.0            0.00   \n",
       "3     1  CASH_OUT    181.00   C840083671          181.0            0.00   \n",
       "4     1   PAYMENT  11668.14  C2048537720        41554.0        29885.86   \n",
       "\n",
       "      nameDest  oldbalanceDest  newbalanceDest  isFraud  isFlaggedFraud  \n",
       "0  M1979787155             0.0             0.0        0               0  \n",
       "1  M2044282225             0.0             0.0        0               0  \n",
       "2   C553264065             0.0             0.0        1               0  \n",
       "3    C38997010         21182.0             0.0        1               0  \n",
       "4  M1230701703             0.0             0.0        0               0  "
      ]
     },
     "execution_count": 4,
     "metadata": {},
     "output_type": "execute_result"
    }
   ],
   "source": [
    "dataset.head()"
   ]
  },
  {
   "cell_type": "code",
   "execution_count": 5,
   "id": "d25bc13e",
   "metadata": {
    "execution": {
     "iopub.execute_input": "2022-04-13T16:05:09.986306Z",
     "iopub.status.busy": "2022-04-13T16:05:09.985570Z",
     "iopub.status.idle": "2022-04-13T16:05:09.988278Z",
     "shell.execute_reply": "2022-04-13T16:05:09.988806Z",
     "shell.execute_reply.started": "2022-04-13T15:04:12.988677Z"
    },
    "papermill": {
     "duration": 0.125523,
     "end_time": "2022-04-13T16:05:09.988983",
     "exception": false,
     "start_time": "2022-04-13T16:05:09.863460",
     "status": "completed"
    },
    "tags": []
   },
   "outputs": [
    {
     "data": {
      "text/plain": [
       "(6362620, 11)"
      ]
     },
     "execution_count": 5,
     "metadata": {},
     "output_type": "execute_result"
    }
   ],
   "source": [
    "dataset.shape"
   ]
  },
  {
   "cell_type": "code",
   "execution_count": 6,
   "id": "7a681229",
   "metadata": {
    "execution": {
     "iopub.execute_input": "2022-04-13T16:05:10.224644Z",
     "iopub.status.busy": "2022-04-13T16:05:10.223940Z",
     "iopub.status.idle": "2022-04-13T16:05:10.248992Z",
     "shell.execute_reply": "2022-04-13T16:05:10.247821Z",
     "shell.execute_reply.started": "2022-04-13T15:04:12.996743Z"
    },
    "papermill": {
     "duration": 0.143265,
     "end_time": "2022-04-13T16:05:10.249208",
     "exception": false,
     "start_time": "2022-04-13T16:05:10.105943",
     "status": "completed"
    },
    "tags": []
   },
   "outputs": [
    {
     "name": "stdout",
     "output_type": "stream",
     "text": [
      "<class 'pandas.core.frame.DataFrame'>\n",
      "RangeIndex: 6362620 entries, 0 to 6362619\n",
      "Data columns (total 11 columns):\n",
      " #   Column          Dtype  \n",
      "---  ------          -----  \n",
      " 0   step            int64  \n",
      " 1   type            object \n",
      " 2   amount          float64\n",
      " 3   nameOrig        object \n",
      " 4   oldbalanceOrg   float64\n",
      " 5   newbalanceOrig  float64\n",
      " 6   nameDest        object \n",
      " 7   oldbalanceDest  float64\n",
      " 8   newbalanceDest  float64\n",
      " 9   isFraud         int64  \n",
      " 10  isFlaggedFraud  int64  \n",
      "dtypes: float64(5), int64(3), object(3)\n",
      "memory usage: 534.0+ MB\n"
     ]
    }
   ],
   "source": [
    "dataset.info()"
   ]
  },
  {
   "cell_type": "code",
   "execution_count": 7,
   "id": "8305c84f",
   "metadata": {
    "execution": {
     "iopub.execute_input": "2022-04-13T16:05:10.493736Z",
     "iopub.status.busy": "2022-04-13T16:05:10.493066Z",
     "iopub.status.idle": "2022-04-13T16:05:22.321576Z",
     "shell.execute_reply": "2022-04-13T16:05:22.322131Z",
     "shell.execute_reply.started": "2022-04-13T15:04:13.028014Z"
    },
    "papermill": {
     "duration": 11.950778,
     "end_time": "2022-04-13T16:05:22.322310",
     "exception": false,
     "start_time": "2022-04-13T16:05:10.371532",
     "status": "completed"
    },
    "tags": []
   },
   "outputs": [
    {
     "data": {
      "text/plain": [
       "isFraud                 2\n",
       "isFlaggedFraud          2\n",
       "type                    5\n",
       "step                  743\n",
       "oldbalanceOrg     1845844\n",
       "newbalanceOrig    2682586\n",
       "nameDest          2722362\n",
       "newbalanceDest    3555499\n",
       "oldbalanceDest    3614697\n",
       "amount            5316900\n",
       "nameOrig          6353307\n",
       "dtype: int64"
      ]
     },
     "execution_count": 7,
     "metadata": {},
     "output_type": "execute_result"
    }
   ],
   "source": [
    "dataset.nunique().sort_values(ascending=True)"
   ]
  },
  {
   "cell_type": "code",
   "execution_count": 8,
   "id": "14d54aff",
   "metadata": {
    "execution": {
     "iopub.execute_input": "2022-04-13T16:05:22.558265Z",
     "iopub.status.busy": "2022-04-13T16:05:22.557526Z",
     "iopub.status.idle": "2022-04-13T16:05:22.561407Z",
     "shell.execute_reply": "2022-04-13T16:05:22.561902Z",
     "shell.execute_reply.started": "2022-04-13T15:04:24.220655Z"
    },
    "papermill": {
     "duration": 0.124666,
     "end_time": "2022-04-13T16:05:22.562087",
     "exception": false,
     "start_time": "2022-04-13T16:05:22.437421",
     "status": "completed"
    },
    "tags": []
   },
   "outputs": [],
   "source": [
    "target = 'isFraud'\n",
    "features = [feature for feature in dataset.columns if feature not in [target]]"
   ]
  },
  {
   "cell_type": "code",
   "execution_count": 9,
   "id": "3cb592a6",
   "metadata": {
    "execution": {
     "iopub.execute_input": "2022-04-13T16:05:22.796842Z",
     "iopub.status.busy": "2022-04-13T16:05:22.796197Z",
     "iopub.status.idle": "2022-04-13T16:05:22.811626Z",
     "shell.execute_reply": "2022-04-13T16:05:22.812086Z",
     "shell.execute_reply.started": "2022-04-13T15:04:24.227638Z"
    },
    "papermill": {
     "duration": 0.135467,
     "end_time": "2022-04-13T16:05:22.812263",
     "exception": false,
     "start_time": "2022-04-13T16:05:22.676796",
     "status": "completed"
    },
    "tags": []
   },
   "outputs": [
    {
     "data": {
      "text/html": [
       "<div>\n",
       "<style scoped>\n",
       "    .dataframe tbody tr th:only-of-type {\n",
       "        vertical-align: middle;\n",
       "    }\n",
       "\n",
       "    .dataframe tbody tr th {\n",
       "        vertical-align: top;\n",
       "    }\n",
       "\n",
       "    .dataframe thead th {\n",
       "        text-align: right;\n",
       "    }\n",
       "</style>\n",
       "<table border=\"1\" class=\"dataframe\">\n",
       "  <thead>\n",
       "    <tr style=\"text-align: right;\">\n",
       "      <th></th>\n",
       "      <th>step</th>\n",
       "      <th>type</th>\n",
       "      <th>amount</th>\n",
       "      <th>nameOrig</th>\n",
       "      <th>oldbalanceOrg</th>\n",
       "      <th>newbalanceOrig</th>\n",
       "      <th>nameDest</th>\n",
       "      <th>oldbalanceDest</th>\n",
       "      <th>newbalanceDest</th>\n",
       "      <th>isFraud</th>\n",
       "      <th>isFlaggedFraud</th>\n",
       "    </tr>\n",
       "  </thead>\n",
       "  <tbody>\n",
       "    <tr>\n",
       "      <th>0</th>\n",
       "      <td>1</td>\n",
       "      <td>PAYMENT</td>\n",
       "      <td>9839.64</td>\n",
       "      <td>C1231006815</td>\n",
       "      <td>170136.0</td>\n",
       "      <td>160296.36</td>\n",
       "      <td>M1979787155</td>\n",
       "      <td>0.0</td>\n",
       "      <td>0.0</td>\n",
       "      <td>0</td>\n",
       "      <td>0</td>\n",
       "    </tr>\n",
       "    <tr>\n",
       "      <th>1</th>\n",
       "      <td>1</td>\n",
       "      <td>PAYMENT</td>\n",
       "      <td>1864.28</td>\n",
       "      <td>C1666544295</td>\n",
       "      <td>21249.0</td>\n",
       "      <td>19384.72</td>\n",
       "      <td>M2044282225</td>\n",
       "      <td>0.0</td>\n",
       "      <td>0.0</td>\n",
       "      <td>0</td>\n",
       "      <td>0</td>\n",
       "    </tr>\n",
       "    <tr>\n",
       "      <th>2</th>\n",
       "      <td>1</td>\n",
       "      <td>TRANSFER</td>\n",
       "      <td>181.00</td>\n",
       "      <td>C1305486145</td>\n",
       "      <td>181.0</td>\n",
       "      <td>0.00</td>\n",
       "      <td>C553264065</td>\n",
       "      <td>0.0</td>\n",
       "      <td>0.0</td>\n",
       "      <td>1</td>\n",
       "      <td>0</td>\n",
       "    </tr>\n",
       "    <tr>\n",
       "      <th>3</th>\n",
       "      <td>1</td>\n",
       "      <td>CASH_OUT</td>\n",
       "      <td>181.00</td>\n",
       "      <td>C840083671</td>\n",
       "      <td>181.0</td>\n",
       "      <td>0.00</td>\n",
       "      <td>C38997010</td>\n",
       "      <td>21182.0</td>\n",
       "      <td>0.0</td>\n",
       "      <td>1</td>\n",
       "      <td>0</td>\n",
       "    </tr>\n",
       "    <tr>\n",
       "      <th>4</th>\n",
       "      <td>1</td>\n",
       "      <td>PAYMENT</td>\n",
       "      <td>11668.14</td>\n",
       "      <td>C2048537720</td>\n",
       "      <td>41554.0</td>\n",
       "      <td>29885.86</td>\n",
       "      <td>M1230701703</td>\n",
       "      <td>0.0</td>\n",
       "      <td>0.0</td>\n",
       "      <td>0</td>\n",
       "      <td>0</td>\n",
       "    </tr>\n",
       "  </tbody>\n",
       "</table>\n",
       "</div>"
      ],
      "text/plain": [
       "   step      type    amount     nameOrig  oldbalanceOrg  newbalanceOrig  \\\n",
       "0     1   PAYMENT   9839.64  C1231006815       170136.0       160296.36   \n",
       "1     1   PAYMENT   1864.28  C1666544295        21249.0        19384.72   \n",
       "2     1  TRANSFER    181.00  C1305486145          181.0            0.00   \n",
       "3     1  CASH_OUT    181.00   C840083671          181.0            0.00   \n",
       "4     1   PAYMENT  11668.14  C2048537720        41554.0        29885.86   \n",
       "\n",
       "      nameDest  oldbalanceDest  newbalanceDest  isFraud  isFlaggedFraud  \n",
       "0  M1979787155             0.0             0.0        0               0  \n",
       "1  M2044282225             0.0             0.0        0               0  \n",
       "2   C553264065             0.0             0.0        1               0  \n",
       "3    C38997010         21182.0             0.0        1               0  \n",
       "4  M1230701703             0.0             0.0        0               0  "
      ]
     },
     "execution_count": 9,
     "metadata": {},
     "output_type": "execute_result"
    }
   ],
   "source": [
    "dataset.head()"
   ]
  },
  {
   "cell_type": "markdown",
   "id": "9fdaa9f4",
   "metadata": {
    "papermill": {
     "duration": 0.11779,
     "end_time": "2022-04-13T16:05:23.045648",
     "exception": false,
     "start_time": "2022-04-13T16:05:22.927858",
     "status": "completed"
    },
    "tags": []
   },
   "source": [
    "From above we will treat these are categorical features: isFlaggedFraud, type, nameOrig, nameDest"
   ]
  },
  {
   "cell_type": "markdown",
   "id": "a4ca2605",
   "metadata": {
    "papermill": {
     "duration": 0.117095,
     "end_time": "2022-04-13T16:05:23.282303",
     "exception": false,
     "start_time": "2022-04-13T16:05:23.165208",
     "status": "completed"
    },
    "tags": []
   },
   "source": [
    "All the others we will treat as numerical features"
   ]
  },
  {
   "cell_type": "code",
   "execution_count": 10,
   "id": "bd516055",
   "metadata": {
    "execution": {
     "iopub.execute_input": "2022-04-13T16:05:23.516933Z",
     "iopub.status.busy": "2022-04-13T16:05:23.516263Z",
     "iopub.status.idle": "2022-04-13T16:05:25.224956Z",
     "shell.execute_reply": "2022-04-13T16:05:25.224422Z",
     "shell.execute_reply.started": "2022-04-13T15:04:24.256122Z"
    },
    "papermill": {
     "duration": 1.828061,
     "end_time": "2022-04-13T16:05:25.225103",
     "exception": false,
     "start_time": "2022-04-13T16:05:23.397042",
     "status": "completed"
    },
    "tags": []
   },
   "outputs": [
    {
     "data": {
      "text/html": [
       "<div>\n",
       "<style scoped>\n",
       "    .dataframe tbody tr th:only-of-type {\n",
       "        vertical-align: middle;\n",
       "    }\n",
       "\n",
       "    .dataframe tbody tr th {\n",
       "        vertical-align: top;\n",
       "    }\n",
       "\n",
       "    .dataframe thead th {\n",
       "        text-align: right;\n",
       "    }\n",
       "</style>\n",
       "<table border=\"1\" class=\"dataframe\">\n",
       "  <thead>\n",
       "    <tr style=\"text-align: right;\">\n",
       "      <th></th>\n",
       "      <th>step</th>\n",
       "      <th>amount</th>\n",
       "      <th>oldbalanceOrg</th>\n",
       "      <th>newbalanceOrig</th>\n",
       "      <th>oldbalanceDest</th>\n",
       "      <th>newbalanceDest</th>\n",
       "      <th>isFraud</th>\n",
       "      <th>isFlaggedFraud</th>\n",
       "    </tr>\n",
       "  </thead>\n",
       "  <tbody>\n",
       "    <tr>\n",
       "      <th>count</th>\n",
       "      <td>6.362620e+06</td>\n",
       "      <td>6.362620e+06</td>\n",
       "      <td>6.362620e+06</td>\n",
       "      <td>6.362620e+06</td>\n",
       "      <td>6.362620e+06</td>\n",
       "      <td>6.362620e+06</td>\n",
       "      <td>6.362620e+06</td>\n",
       "      <td>6.362620e+06</td>\n",
       "    </tr>\n",
       "    <tr>\n",
       "      <th>mean</th>\n",
       "      <td>2.433972e+02</td>\n",
       "      <td>1.798619e+05</td>\n",
       "      <td>8.338831e+05</td>\n",
       "      <td>8.551137e+05</td>\n",
       "      <td>1.100702e+06</td>\n",
       "      <td>1.224996e+06</td>\n",
       "      <td>1.290820e-03</td>\n",
       "      <td>2.514687e-06</td>\n",
       "    </tr>\n",
       "    <tr>\n",
       "      <th>std</th>\n",
       "      <td>1.423320e+02</td>\n",
       "      <td>6.038582e+05</td>\n",
       "      <td>2.888243e+06</td>\n",
       "      <td>2.924049e+06</td>\n",
       "      <td>3.399180e+06</td>\n",
       "      <td>3.674129e+06</td>\n",
       "      <td>3.590480e-02</td>\n",
       "      <td>1.585775e-03</td>\n",
       "    </tr>\n",
       "    <tr>\n",
       "      <th>min</th>\n",
       "      <td>1.000000e+00</td>\n",
       "      <td>0.000000e+00</td>\n",
       "      <td>0.000000e+00</td>\n",
       "      <td>0.000000e+00</td>\n",
       "      <td>0.000000e+00</td>\n",
       "      <td>0.000000e+00</td>\n",
       "      <td>0.000000e+00</td>\n",
       "      <td>0.000000e+00</td>\n",
       "    </tr>\n",
       "    <tr>\n",
       "      <th>25%</th>\n",
       "      <td>1.560000e+02</td>\n",
       "      <td>1.338957e+04</td>\n",
       "      <td>0.000000e+00</td>\n",
       "      <td>0.000000e+00</td>\n",
       "      <td>0.000000e+00</td>\n",
       "      <td>0.000000e+00</td>\n",
       "      <td>0.000000e+00</td>\n",
       "      <td>0.000000e+00</td>\n",
       "    </tr>\n",
       "    <tr>\n",
       "      <th>50%</th>\n",
       "      <td>2.390000e+02</td>\n",
       "      <td>7.487194e+04</td>\n",
       "      <td>1.420800e+04</td>\n",
       "      <td>0.000000e+00</td>\n",
       "      <td>1.327057e+05</td>\n",
       "      <td>2.146614e+05</td>\n",
       "      <td>0.000000e+00</td>\n",
       "      <td>0.000000e+00</td>\n",
       "    </tr>\n",
       "    <tr>\n",
       "      <th>75%</th>\n",
       "      <td>3.350000e+02</td>\n",
       "      <td>2.087215e+05</td>\n",
       "      <td>1.073152e+05</td>\n",
       "      <td>1.442584e+05</td>\n",
       "      <td>9.430367e+05</td>\n",
       "      <td>1.111909e+06</td>\n",
       "      <td>0.000000e+00</td>\n",
       "      <td>0.000000e+00</td>\n",
       "    </tr>\n",
       "    <tr>\n",
       "      <th>max</th>\n",
       "      <td>7.430000e+02</td>\n",
       "      <td>9.244552e+07</td>\n",
       "      <td>5.958504e+07</td>\n",
       "      <td>4.958504e+07</td>\n",
       "      <td>3.560159e+08</td>\n",
       "      <td>3.561793e+08</td>\n",
       "      <td>1.000000e+00</td>\n",
       "      <td>1.000000e+00</td>\n",
       "    </tr>\n",
       "  </tbody>\n",
       "</table>\n",
       "</div>"
      ],
      "text/plain": [
       "               step        amount  oldbalanceOrg  newbalanceOrig  \\\n",
       "count  6.362620e+06  6.362620e+06   6.362620e+06    6.362620e+06   \n",
       "mean   2.433972e+02  1.798619e+05   8.338831e+05    8.551137e+05   \n",
       "std    1.423320e+02  6.038582e+05   2.888243e+06    2.924049e+06   \n",
       "min    1.000000e+00  0.000000e+00   0.000000e+00    0.000000e+00   \n",
       "25%    1.560000e+02  1.338957e+04   0.000000e+00    0.000000e+00   \n",
       "50%    2.390000e+02  7.487194e+04   1.420800e+04    0.000000e+00   \n",
       "75%    3.350000e+02  2.087215e+05   1.073152e+05    1.442584e+05   \n",
       "max    7.430000e+02  9.244552e+07   5.958504e+07    4.958504e+07   \n",
       "\n",
       "       oldbalanceDest  newbalanceDest       isFraud  isFlaggedFraud  \n",
       "count    6.362620e+06    6.362620e+06  6.362620e+06    6.362620e+06  \n",
       "mean     1.100702e+06    1.224996e+06  1.290820e-03    2.514687e-06  \n",
       "std      3.399180e+06    3.674129e+06  3.590480e-02    1.585775e-03  \n",
       "min      0.000000e+00    0.000000e+00  0.000000e+00    0.000000e+00  \n",
       "25%      0.000000e+00    0.000000e+00  0.000000e+00    0.000000e+00  \n",
       "50%      1.327057e+05    2.146614e+05  0.000000e+00    0.000000e+00  \n",
       "75%      9.430367e+05    1.111909e+06  0.000000e+00    0.000000e+00  \n",
       "max      3.560159e+08    3.561793e+08  1.000000e+00    1.000000e+00  "
      ]
     },
     "execution_count": 10,
     "metadata": {},
     "output_type": "execute_result"
    }
   ],
   "source": [
    "dataset.describe()"
   ]
  },
  {
   "cell_type": "markdown",
   "id": "91ebb4bb",
   "metadata": {
    "papermill": {
     "duration": 0.115331,
     "end_time": "2022-04-13T16:05:25.457481",
     "exception": false,
     "start_time": "2022-04-13T16:05:25.342150",
     "status": "completed"
    },
    "tags": []
   },
   "source": [
    "****Performing Exploratory Data Analysis****"
   ]
  },
  {
   "cell_type": "markdown",
   "id": "4c3c36da",
   "metadata": {
    "papermill": {
     "duration": 0.115665,
     "end_time": "2022-04-13T16:05:25.689432",
     "exception": false,
     "start_time": "2022-04-13T16:05:25.573767",
     "status": "completed"
    },
    "tags": []
   },
   "source": [
    "Let's check out the distribution of out target variable i.e. isFraud"
   ]
  },
  {
   "cell_type": "code",
   "execution_count": 11,
   "id": "48d7588c",
   "metadata": {
    "execution": {
     "iopub.execute_input": "2022-04-13T16:05:25.926676Z",
     "iopub.status.busy": "2022-04-13T16:05:25.925951Z",
     "iopub.status.idle": "2022-04-13T16:05:27.011659Z",
     "shell.execute_reply": "2022-04-13T16:05:27.010939Z",
     "shell.execute_reply.started": "2022-04-13T15:04:25.934260Z"
    },
    "papermill": {
     "duration": 1.206822,
     "end_time": "2022-04-13T16:05:27.011858",
     "exception": false,
     "start_time": "2022-04-13T16:05:25.805036",
     "status": "completed"
    },
    "tags": []
   },
   "outputs": [],
   "source": [
    "import seaborn as sns"
   ]
  },
  {
   "cell_type": "code",
   "execution_count": 12,
   "id": "21862f0b",
   "metadata": {
    "execution": {
     "iopub.execute_input": "2022-04-13T16:05:27.298916Z",
     "iopub.status.busy": "2022-04-13T16:05:27.298237Z",
     "iopub.status.idle": "2022-04-13T16:05:28.069308Z",
     "shell.execute_reply": "2022-04-13T16:05:28.069868Z",
     "shell.execute_reply.started": "2022-04-13T15:04:26.989500Z"
    },
    "papermill": {
     "duration": 0.910077,
     "end_time": "2022-04-13T16:05:28.070044",
     "exception": false,
     "start_time": "2022-04-13T16:05:27.159967",
     "status": "completed"
    },
    "tags": []
   },
   "outputs": [
    {
     "name": "stderr",
     "output_type": "stream",
     "text": [
      "/opt/conda/lib/python3.7/site-packages/seaborn/_decorators.py:43: FutureWarning: Pass the following variable as a keyword arg: x. From version 0.12, the only valid positional argument will be `data`, and passing other arguments without an explicit keyword will result in an error or misinterpretation.\n",
      "  FutureWarning\n"
     ]
    },
    {
     "data": {
      "text/plain": [
       "<AxesSubplot:xlabel='isFraud', ylabel='count'>"
      ]
     },
     "execution_count": 12,
     "metadata": {},
     "output_type": "execute_result"
    },
    {
     "data": {
      "image/png": "[encoded data removed]",
      "text/plain": [
       "<Figure size 504x504 with 1 Axes>"
      ]
     },
     "metadata": {
      "needs_background": "light"
     },
     "output_type": "display_data"
    }
   ],
   "source": [
    "plt.figure(figsize=[7, 7])\n",
    "sns.countplot(dataset[target])"
   ]
  },
  {
   "cell_type": "code",
   "execution_count": 13,
   "id": "20957ede",
   "metadata": {
    "execution": {
     "iopub.execute_input": "2022-04-13T16:05:28.314485Z",
     "iopub.status.busy": "2022-04-13T16:05:28.313805Z",
     "iopub.status.idle": "2022-04-13T16:05:28.353861Z",
     "shell.execute_reply": "2022-04-13T16:05:28.354330Z",
     "shell.execute_reply.started": "2022-04-13T15:04:27.735943Z"
    },
    "papermill": {
     "duration": 0.164333,
     "end_time": "2022-04-13T16:05:28.354526",
     "exception": false,
     "start_time": "2022-04-13T16:05:28.190193",
     "status": "completed"
    },
    "tags": []
   },
   "outputs": [
    {
     "data": {
      "text/plain": [
       "0    6354407\n",
       "1       8213\n",
       "Name: isFraud, dtype: int64"
      ]
     },
     "execution_count": 13,
     "metadata": {},
     "output_type": "execute_result"
    }
   ],
   "source": [
    "dataset[target].value_counts()"
   ]
  },
  {
   "cell_type": "markdown",
   "id": "ae499b7b",
   "metadata": {
    "papermill": {
     "duration": 0.117781,
     "end_time": "2022-04-13T16:05:28.592744",
     "exception": false,
     "start_time": "2022-04-13T16:05:28.474963",
     "status": "completed"
    },
    "tags": []
   },
   "source": [
    "Inference: As we can see from above, we facing a big problem of class imbalance, we will need to deal with this before applying statistical techniques or training our machine learning algorithm"
   ]
  },
  {
   "cell_type": "markdown",
   "id": "72421fe0",
   "metadata": {
    "papermill": {
     "duration": 0.11722,
     "end_time": "2022-04-13T16:05:28.830896",
     "exception": false,
     "start_time": "2022-04-13T16:05:28.713676",
     "status": "completed"
    },
    "tags": []
   },
   "source": [
    "Now, Let's check out distribution of our categorical features."
   ]
  },
  {
   "cell_type": "code",
   "execution_count": 14,
   "id": "29d70b76",
   "metadata": {
    "execution": {
     "iopub.execute_input": "2022-04-13T16:05:29.069514Z",
     "iopub.status.busy": "2022-04-13T16:05:29.068569Z",
     "iopub.status.idle": "2022-04-13T16:05:36.612304Z",
     "shell.execute_reply": "2022-04-13T16:05:36.611746Z",
     "shell.execute_reply.started": "2022-04-13T15:04:27.778641Z"
    },
    "papermill": {
     "duration": 7.664169,
     "end_time": "2022-04-13T16:05:36.612448",
     "exception": false,
     "start_time": "2022-04-13T16:05:28.948279",
     "status": "completed"
    },
    "tags": []
   },
   "outputs": [
    {
     "name": "stderr",
     "output_type": "stream",
     "text": [
      "/opt/conda/lib/python3.7/site-packages/seaborn/_decorators.py:43: FutureWarning: Pass the following variable as a keyword arg: x. From version 0.12, the only valid positional argument will be `data`, and passing other arguments without an explicit keyword will result in an error or misinterpretation.\n",
      "  FutureWarning\n"
     ]
    },
    {
     "data": {
      "text/plain": [
       "<AxesSubplot:xlabel='type', ylabel='count'>"
      ]
     },
     "execution_count": 14,
     "metadata": {},
     "output_type": "execute_result"
    },
    {
     "data": {
      "image/png": "[encoded data removed]",
      "text/plain": [
       "<Figure size 432x288 with 1 Axes>"
      ]
     },
     "metadata": {
      "needs_background": "light"
     },
     "output_type": "display_data"
    }
   ],
   "source": [
    "sns.countplot(dataset['type'])"
   ]
  },
  {
   "cell_type": "markdown",
   "id": "88cb0047",
   "metadata": {
    "papermill": {
     "duration": 0.118221,
     "end_time": "2022-04-13T16:05:36.849470",
     "exception": false,
     "start_time": "2022-04-13T16:05:36.731249",
     "status": "completed"
    },
    "tags": []
   },
   "source": [
    "This seems fine, but we have very low number of debit transactions, let's check the number of fraud transations in each of them"
   ]
  },
  {
   "cell_type": "code",
   "execution_count": 15,
   "id": "1312016e",
   "metadata": {
    "execution": {
     "iopub.execute_input": "2022-04-13T16:05:37.098973Z",
     "iopub.status.busy": "2022-04-13T16:05:37.097904Z",
     "iopub.status.idle": "2022-04-13T16:05:38.012678Z",
     "shell.execute_reply": "2022-04-13T16:05:38.012121Z",
     "shell.execute_reply.started": "2022-04-13T15:04:35.336576Z"
    },
    "papermill": {
     "duration": 1.039657,
     "end_time": "2022-04-13T16:05:38.012821",
     "exception": false,
     "start_time": "2022-04-13T16:05:36.973164",
     "status": "completed"
    },
    "tags": []
   },
   "outputs": [
    {
     "data": {
      "text/html": [
       "<div>\n",
       "<style scoped>\n",
       "    .dataframe tbody tr th:only-of-type {\n",
       "        vertical-align: middle;\n",
       "    }\n",
       "\n",
       "    .dataframe tbody tr th {\n",
       "        vertical-align: top;\n",
       "    }\n",
       "\n",
       "    .dataframe thead th {\n",
       "        text-align: right;\n",
       "    }\n",
       "</style>\n",
       "<table border=\"1\" class=\"dataframe\">\n",
       "  <thead>\n",
       "    <tr style=\"text-align: right;\">\n",
       "      <th>type</th>\n",
       "      <th>CASH_IN</th>\n",
       "      <th>CASH_OUT</th>\n",
       "      <th>DEBIT</th>\n",
       "      <th>PAYMENT</th>\n",
       "      <th>TRANSFER</th>\n",
       "    </tr>\n",
       "    <tr>\n",
       "      <th>isFraud</th>\n",
       "      <th></th>\n",
       "      <th></th>\n",
       "      <th></th>\n",
       "      <th></th>\n",
       "      <th></th>\n",
       "    </tr>\n",
       "  </thead>\n",
       "  <tbody>\n",
       "    <tr>\n",
       "      <th>0</th>\n",
       "      <td>1399284</td>\n",
       "      <td>2233384</td>\n",
       "      <td>41432</td>\n",
       "      <td>2151495</td>\n",
       "      <td>528812</td>\n",
       "    </tr>\n",
       "    <tr>\n",
       "      <th>1</th>\n",
       "      <td>0</td>\n",
       "      <td>4116</td>\n",
       "      <td>0</td>\n",
       "      <td>0</td>\n",
       "      <td>4097</td>\n",
       "    </tr>\n",
       "  </tbody>\n",
       "</table>\n",
       "</div>"
      ],
      "text/plain": [
       "type     CASH_IN  CASH_OUT  DEBIT  PAYMENT  TRANSFER\n",
       "isFraud                                             \n",
       "0        1399284   2233384  41432  2151495    528812\n",
       "1              0      4116      0        0      4097"
      ]
     },
     "execution_count": 15,
     "metadata": {},
     "output_type": "execute_result"
    }
   ],
   "source": [
    "dataset.groupby([target, 'type']).size().unstack(fill_value=0)"
   ]
  },
  {
   "cell_type": "markdown",
   "id": "7dd15e1f",
   "metadata": {
    "papermill": {
     "duration": 0.121531,
     "end_time": "2022-04-13T16:05:38.255592",
     "exception": false,
     "start_time": "2022-04-13T16:05:38.134061",
     "status": "completed"
    },
    "tags": []
   },
   "source": [
    "We can see from this that there are no fraud transactions in CASH_IN(obviously), DEBIT, PAYMENT"
   ]
  },
  {
   "cell_type": "markdown",
   "id": "b01cb27f",
   "metadata": {
    "papermill": {
     "duration": 0.12142,
     "end_time": "2022-04-13T16:05:38.496622",
     "exception": false,
     "start_time": "2022-04-13T16:05:38.375202",
     "status": "completed"
    },
    "tags": []
   },
   "source": [
    "nameOrig feature is just customer name/ID which makes it pretty irrelevent when training our models, same is probably true for nameDest"
   ]
  },
  {
   "cell_type": "code",
   "execution_count": 16,
   "id": "e6844378",
   "metadata": {
    "execution": {
     "iopub.execute_input": "2022-04-13T16:05:38.744117Z",
     "iopub.status.busy": "2022-04-13T16:05:38.743089Z",
     "iopub.status.idle": "2022-04-13T16:05:39.460300Z",
     "shell.execute_reply": "2022-04-13T16:05:39.459764Z",
     "shell.execute_reply.started": "2022-04-13T15:04:36.265500Z"
    },
    "papermill": {
     "duration": 0.841846,
     "end_time": "2022-04-13T16:05:39.460456",
     "exception": false,
     "start_time": "2022-04-13T16:05:38.618610",
     "status": "completed"
    },
    "tags": []
   },
   "outputs": [
    {
     "name": "stderr",
     "output_type": "stream",
     "text": [
      "/opt/conda/lib/python3.7/site-packages/seaborn/_decorators.py:43: FutureWarning: Pass the following variable as a keyword arg: x. From version 0.12, the only valid positional argument will be `data`, and passing other arguments without an explicit keyword will result in an error or misinterpretation.\n",
      "  FutureWarning\n"
     ]
    },
    {
     "data": {
      "text/plain": [
       "<AxesSubplot:xlabel='isFlaggedFraud', ylabel='count'>"
      ]
     },
     "execution_count": 16,
     "metadata": {},
     "output_type": "execute_result"
    },
    {
     "data": {
      "image/png": "[encoded data removed]",
      "text/plain": [
       "<Figure size 432x288 with 1 Axes>"
      ]
     },
     "metadata": {
      "needs_background": "light"
     },
     "output_type": "display_data"
    }
   ],
   "source": [
    "sns.countplot(dataset['isFlaggedFraud'])"
   ]
  },
  {
   "cell_type": "code",
   "execution_count": 17,
   "id": "7666e1ac",
   "metadata": {
    "execution": {
     "iopub.execute_input": "2022-04-13T16:05:39.711045Z",
     "iopub.status.busy": "2022-04-13T16:05:39.710038Z",
     "iopub.status.idle": "2022-04-13T16:05:39.750706Z",
     "shell.execute_reply": "2022-04-13T16:05:39.750099Z",
     "shell.execute_reply.started": "2022-04-13T15:04:36.984503Z"
    },
    "papermill": {
     "duration": 0.167464,
     "end_time": "2022-04-13T16:05:39.750857",
     "exception": false,
     "start_time": "2022-04-13T16:05:39.583393",
     "status": "completed"
    },
    "tags": []
   },
   "outputs": [
    {
     "data": {
      "text/plain": [
       "0    6362604\n",
       "1         16\n",
       "Name: isFlaggedFraud, dtype: int64"
      ]
     },
     "execution_count": 17,
     "metadata": {},
     "output_type": "execute_result"
    }
   ],
   "source": [
    "dataset['isFlaggedFraud'].value_counts()"
   ]
  },
  {
   "cell_type": "markdown",
   "id": "3f930ac0",
   "metadata": {
    "papermill": {
     "duration": 0.120724,
     "end_time": "2022-04-13T16:05:39.993343",
     "exception": false,
     "start_time": "2022-04-13T16:05:39.872619",
     "status": "completed"
    },
    "tags": []
   },
   "source": [
    "We can see that this feature is very imbalanced and is almost irrelevent, and hence we should drop it"
   ]
  },
  {
   "cell_type": "markdown",
   "id": "5275b7a0",
   "metadata": {
    "papermill": {
     "duration": 0.122686,
     "end_time": "2022-04-13T16:05:40.238674",
     "exception": false,
     "start_time": "2022-04-13T16:05:40.115988",
     "status": "completed"
    },
    "tags": []
   },
   "source": [
    "Let's check out numerical features now"
   ]
  },
  {
   "cell_type": "code",
   "execution_count": 18,
   "id": "b3d887aa",
   "metadata": {
    "execution": {
     "iopub.execute_input": "2022-04-13T16:05:40.487356Z",
     "iopub.status.busy": "2022-04-13T16:05:40.486358Z",
     "iopub.status.idle": "2022-04-13T16:06:01.392527Z",
     "shell.execute_reply": "2022-04-13T16:06:01.393066Z",
     "shell.execute_reply.started": "2022-04-13T15:04:37.028322Z"
    },
    "papermill": {
     "duration": 21.032653,
     "end_time": "2022-04-13T16:06:01.393239",
     "exception": false,
     "start_time": "2022-04-13T16:05:40.360586",
     "status": "completed"
    },
    "tags": []
   },
   "outputs": [
    {
     "name": "stderr",
     "output_type": "stream",
     "text": [
      "/opt/conda/lib/python3.7/site-packages/seaborn/distributions.py:2619: FutureWarning: `distplot` is a deprecated function and will be removed in a future version. Please adapt your code to use either `displot` (a figure-level function with similar flexibility) or `histplot` (an axes-level function for histograms).\n",
      "  warnings.warn(msg, FutureWarning)\n"
     ]
    },
    {
     "data": {
      "text/plain": [
       "<AxesSubplot:xlabel='amount', ylabel='Density'>"
      ]
     },
     "execution_count": 18,
     "metadata": {},
     "output_type": "execute_result"
    },
    {
     "data": {
      "image/png": "[encoded data removed]",
      "text/plain": [
       "<Figure size 432x432 with 1 Axes>"
      ]
     },
     "metadata": {
      "needs_background": "light"
     },
     "output_type": "display_data"
    }
   ],
   "source": [
    "plt.figure(figsize=[6, 6])\n",
    "sns.distplot(dataset['amount'], color='b', hist_kws=dict(edgecolor='black', linewidth=2), bins=50)"
   ]
  },
  {
   "cell_type": "code",
   "execution_count": 19,
   "id": "3c29fe8e",
   "metadata": {
    "execution": {
     "iopub.execute_input": "2022-04-13T16:06:01.650163Z",
     "iopub.status.busy": "2022-04-13T16:06:01.649453Z",
     "iopub.status.idle": "2022-04-13T16:06:03.363466Z",
     "shell.execute_reply": "2022-04-13T16:06:03.364003Z",
     "shell.execute_reply.started": "2022-04-13T15:04:57.888307Z"
    },
    "papermill": {
     "duration": 1.847597,
     "end_time": "2022-04-13T16:06:03.364190",
     "exception": false,
     "start_time": "2022-04-13T16:06:01.516593",
     "status": "completed"
    },
    "tags": []
   },
   "outputs": [
    {
     "name": "stderr",
     "output_type": "stream",
     "text": [
      "/opt/conda/lib/python3.7/site-packages/seaborn/_decorators.py:43: FutureWarning: Pass the following variable as a keyword arg: x. From version 0.12, the only valid positional argument will be `data`, and passing other arguments without an explicit keyword will result in an error or misinterpretation.\n",
      "  FutureWarning\n"
     ]
    },
    {
     "data": {
      "text/plain": [
       "<AxesSubplot:xlabel='amount'>"
      ]
     },
     "execution_count": 19,
     "metadata": {},
     "output_type": "execute_result"
    },
    {
     "data": {
      "image/png": "[encoded data removed]",
      "text/plain": [
       "<Figure size 432x288 with 1 Axes>"
      ]
     },
     "metadata": {
      "needs_background": "light"
     },
     "output_type": "display_data"
    }
   ],
   "source": [
    "sns.boxplot(dataset['amount'])"
   ]
  },
  {
   "cell_type": "code",
   "execution_count": 20,
   "id": "da93708d",
   "metadata": {
    "execution": {
     "iopub.execute_input": "2022-04-13T16:06:03.622131Z",
     "iopub.status.busy": "2022-04-13T16:06:03.621421Z",
     "iopub.status.idle": "2022-04-13T16:06:03.877246Z",
     "shell.execute_reply": "2022-04-13T16:06:03.876563Z",
     "shell.execute_reply.started": "2022-04-13T15:04:59.574921Z"
    },
    "papermill": {
     "duration": 0.385687,
     "end_time": "2022-04-13T16:06:03.877398",
     "exception": false,
     "start_time": "2022-04-13T16:06:03.491711",
     "status": "completed"
    },
    "tags": []
   },
   "outputs": [
    {
     "data": {
      "text/plain": [
       "count    6.362620e+06\n",
       "mean     1.798619e+05\n",
       "std      6.038582e+05\n",
       "min      0.000000e+00\n",
       "25%      1.338957e+04\n",
       "50%      7.487194e+04\n",
       "75%      2.087215e+05\n",
       "max      9.244552e+07\n",
       "Name: amount, dtype: float64"
      ]
     },
     "execution_count": 20,
     "metadata": {},
     "output_type": "execute_result"
    }
   ],
   "source": [
    "dataset['amount'].describe()"
   ]
  },
  {
   "cell_type": "code",
   "execution_count": 21,
   "id": "53cd741f",
   "metadata": {
    "execution": {
     "iopub.execute_input": "2022-04-13T16:06:04.173538Z",
     "iopub.status.busy": "2022-04-13T16:06:04.172656Z",
     "iopub.status.idle": "2022-04-13T16:06:04.176246Z",
     "shell.execute_reply": "2022-04-13T16:06:04.175745Z",
     "shell.execute_reply.started": "2022-04-13T15:04:59.824689Z"
    },
    "papermill": {
     "duration": 0.1708,
     "end_time": "2022-04-13T16:06:04.176395",
     "exception": false,
     "start_time": "2022-04-13T16:06:04.005595",
     "status": "completed"
    },
    "tags": []
   },
   "outputs": [
    {
     "data": {
      "text/plain": [
       "0    6354407\n",
       "1       8213\n",
       "Name: isFraud, dtype: int64"
      ]
     },
     "execution_count": 21,
     "metadata": {},
     "output_type": "execute_result"
    }
   ],
   "source": [
    "from scipy.stats import zscore\n",
    "dataset[target].value_counts()"
   ]
  },
  {
   "cell_type": "code",
   "execution_count": 22,
   "id": "8d20f864",
   "metadata": {
    "execution": {
     "iopub.execute_input": "2022-04-13T16:06:04.433611Z",
     "iopub.status.busy": "2022-04-13T16:06:04.432888Z",
     "iopub.status.idle": "2022-04-13T16:06:05.205665Z",
     "shell.execute_reply": "2022-04-13T16:06:05.206188Z",
     "shell.execute_reply.started": "2022-04-13T15:04:59.866132Z"
    },
    "papermill": {
     "duration": 0.904596,
     "end_time": "2022-04-13T16:06:05.206361",
     "exception": false,
     "start_time": "2022-04-13T16:06:04.301765",
     "status": "completed"
    },
    "tags": []
   },
   "outputs": [
    {
     "data": {
      "text/plain": [
       "0    6311148\n",
       "1       6527\n",
       "Name: isFraud, dtype: int64"
      ]
     },
     "execution_count": 22,
     "metadata": {},
     "output_type": "execute_result"
    }
   ],
   "source": [
    "dataset[np.abs(zscore(dataset['amount'])) < 3][target].value_counts()"
   ]
  },
  {
   "cell_type": "markdown",
   "id": "83264d64",
   "metadata": {
    "papermill": {
     "duration": 0.12771,
     "end_time": "2022-04-13T16:06:05.460324",
     "exception": false,
     "start_time": "2022-04-13T16:06:05.332614",
     "status": "completed"
    },
    "tags": []
   },
   "source": [
    "There are a lot of outliers in this feature but we cannot remove much of the data because many of the outliers are associated with fraudulent transactions which are already a minority for predictive modelling"
   ]
  },
  {
   "cell_type": "code",
   "execution_count": 23,
   "id": "0a253503",
   "metadata": {
    "execution": {
     "iopub.execute_input": "2022-04-13T16:06:05.725015Z",
     "iopub.status.busy": "2022-04-13T16:06:05.721168Z",
     "iopub.status.idle": "2022-04-13T16:06:27.729473Z",
     "shell.execute_reply": "2022-04-13T16:06:27.728895Z",
     "shell.execute_reply.started": "2022-04-13T15:05:00.665992Z"
    },
    "papermill": {
     "duration": 22.140821,
     "end_time": "2022-04-13T16:06:27.729666",
     "exception": false,
     "start_time": "2022-04-13T16:06:05.588845",
     "status": "completed"
    },
    "tags": []
   },
   "outputs": [
    {
     "name": "stderr",
     "output_type": "stream",
     "text": [
      "/opt/conda/lib/python3.7/site-packages/seaborn/distributions.py:2619: FutureWarning: `distplot` is a deprecated function and will be removed in a future version. Please adapt your code to use either `displot` (a figure-level function with similar flexibility) or `histplot` (an axes-level function for histograms).\n",
      "  warnings.warn(msg, FutureWarning)\n"
     ]
    },
    {
     "data": {
      "text/plain": [
       "<AxesSubplot:xlabel='oldbalanceOrg', ylabel='Density'>"
      ]
     },
     "execution_count": 23,
     "metadata": {},
     "output_type": "execute_result"
    },
    {
     "data": {
      "image/png": "[encoded data removed]",
      "text/plain": [
       "<Figure size 432x432 with 1 Axes>"
      ]
     },
     "metadata": {
      "needs_background": "light"
     },
     "output_type": "display_data"
    }
   ],
   "source": [
    "plt.figure(figsize=[6, 6])\n",
    "sns.distplot(dataset['oldbalanceOrg'], color='b', hist_kws=dict(edgecolor='black', linewidth=2), bins=50)"
   ]
  },
  {
   "cell_type": "code",
   "execution_count": 24,
   "id": "55a754cd",
   "metadata": {
    "execution": {
     "iopub.execute_input": "2022-04-13T16:06:27.989976Z",
     "iopub.status.busy": "2022-04-13T16:06:27.989353Z",
     "iopub.status.idle": "2022-04-13T16:06:32.547715Z",
     "shell.execute_reply": "2022-04-13T16:06:32.547036Z",
     "shell.execute_reply.started": "2022-04-13T15:05:22.720418Z"
    },
    "papermill": {
     "duration": 4.688693,
     "end_time": "2022-04-13T16:06:32.547912",
     "exception": false,
     "start_time": "2022-04-13T16:06:27.859219",
     "status": "completed"
    },
    "tags": []
   },
   "outputs": [
    {
     "name": "stderr",
     "output_type": "stream",
     "text": [
      "/opt/conda/lib/python3.7/site-packages/seaborn/_decorators.py:43: FutureWarning: Pass the following variable as a keyword arg: x. From version 0.12, the only valid positional argument will be `data`, and passing other arguments without an explicit keyword will result in an error or misinterpretation.\n",
      "  FutureWarning\n"
     ]
    },
    {
     "data": {
      "text/plain": [
       "<AxesSubplot:xlabel='oldbalanceOrg'>"
      ]
     },
     "execution_count": 24,
     "metadata": {},
     "output_type": "execute_result"
    },
    {
     "data": {
      "image/png": "[encoded data removed]",
      "text/plain": [
       "<Figure size 432x288 with 1 Axes>"
      ]
     },
     "metadata": {
      "needs_background": "light"
     },
     "output_type": "display_data"
    }
   ],
   "source": [
    "sns.boxplot(dataset['oldbalanceOrg'])"
   ]
  },
  {
   "cell_type": "code",
   "execution_count": 25,
   "id": "55fa7f09",
   "metadata": {
    "execution": {
     "iopub.execute_input": "2022-04-13T16:06:32.846072Z",
     "iopub.status.busy": "2022-04-13T16:06:32.845337Z",
     "iopub.status.idle": "2022-04-13T16:06:33.084946Z",
     "shell.execute_reply": "2022-04-13T16:06:33.085432Z",
     "shell.execute_reply.started": "2022-04-13T15:05:27.192763Z"
    },
    "papermill": {
     "duration": 0.379832,
     "end_time": "2022-04-13T16:06:33.085694",
     "exception": false,
     "start_time": "2022-04-13T16:06:32.705862",
     "status": "completed"
    },
    "tags": []
   },
   "outputs": [
    {
     "data": {
      "text/plain": [
       "count    6.362620e+06\n",
       "mean     8.338831e+05\n",
       "std      2.888243e+06\n",
       "min      0.000000e+00\n",
       "25%      0.000000e+00\n",
       "50%      1.420800e+04\n",
       "75%      1.073152e+05\n",
       "max      5.958504e+07\n",
       "Name: oldbalanceOrg, dtype: float64"
      ]
     },
     "execution_count": 25,
     "metadata": {},
     "output_type": "execute_result"
    }
   ],
   "source": [
    "dataset['oldbalanceOrg'].describe()"
   ]
  },
  {
   "cell_type": "code",
   "execution_count": 26,
   "id": "ca63d2c1",
   "metadata": {
    "execution": {
     "iopub.execute_input": "2022-04-13T16:06:33.373573Z",
     "iopub.status.busy": "2022-04-13T16:06:33.372666Z",
     "iopub.status.idle": "2022-04-13T16:06:33.412695Z",
     "shell.execute_reply": "2022-04-13T16:06:33.412120Z",
     "shell.execute_reply.started": "2022-04-13T15:05:27.425137Z"
    },
    "papermill": {
     "duration": 0.184149,
     "end_time": "2022-04-13T16:06:33.412858",
     "exception": false,
     "start_time": "2022-04-13T16:06:33.228709",
     "status": "completed"
    },
    "tags": []
   },
   "outputs": [
    {
     "data": {
      "text/plain": [
       "0    6354407\n",
       "1       8213\n",
       "Name: isFraud, dtype: int64"
      ]
     },
     "execution_count": 26,
     "metadata": {},
     "output_type": "execute_result"
    }
   ],
   "source": [
    "dataset[target].value_counts()"
   ]
  },
  {
   "cell_type": "code",
   "execution_count": 27,
   "id": "8a32d5c3",
   "metadata": {
    "execution": {
     "iopub.execute_input": "2022-04-13T16:06:33.719213Z",
     "iopub.status.busy": "2022-04-13T16:06:33.718394Z",
     "iopub.status.idle": "2022-04-13T16:06:34.506352Z",
     "shell.execute_reply": "2022-04-13T16:06:34.505766Z",
     "shell.execute_reply.started": "2022-04-13T15:05:27.467181Z"
    },
    "papermill": {
     "duration": 0.944427,
     "end_time": "2022-04-13T16:06:34.506528",
     "exception": false,
     "start_time": "2022-04-13T16:06:33.562101",
     "status": "completed"
    },
    "tags": []
   },
   "outputs": [
    {
     "data": {
      "text/plain": [
       "0    6199579\n",
       "1       7901\n",
       "Name: isFraud, dtype: int64"
      ]
     },
     "execution_count": 27,
     "metadata": {},
     "output_type": "execute_result"
    }
   ],
   "source": [
    "dataset[np.abs(zscore(dataset['oldbalanceOrg'])) < 3][target].value_counts()"
   ]
  },
  {
   "cell_type": "markdown",
   "id": "c9621b44",
   "metadata": {
    "papermill": {
     "duration": 0.141716,
     "end_time": "2022-04-13T16:06:34.785720",
     "exception": false,
     "start_time": "2022-04-13T16:06:34.644004",
     "status": "completed"
    },
    "tags": []
   },
   "source": [
    "We can try an remove some outliers in this case"
   ]
  },
  {
   "cell_type": "code",
   "execution_count": 28,
   "id": "db8131f8",
   "metadata": {
    "execution": {
     "iopub.execute_input": "2022-04-13T16:06:35.075067Z",
     "iopub.status.busy": "2022-04-13T16:06:35.074206Z",
     "iopub.status.idle": "2022-04-13T16:06:35.855073Z",
     "shell.execute_reply": "2022-04-13T16:06:35.855692Z",
     "shell.execute_reply.started": "2022-04-13T15:05:28.216314Z"
    },
    "papermill": {
     "duration": 0.928117,
     "end_time": "2022-04-13T16:06:35.855886",
     "exception": false,
     "start_time": "2022-04-13T16:06:34.927769",
     "status": "completed"
    },
    "tags": []
   },
   "outputs": [
    {
     "data": {
      "text/plain": [
       "(6207480, 11)"
      ]
     },
     "execution_count": 28,
     "metadata": {},
     "output_type": "execute_result"
    }
   ],
   "source": [
    "dataset[np.abs(zscore(dataset['oldbalanceOrg'])) < 3].shape"
   ]
  },
  {
   "cell_type": "code",
   "execution_count": 29,
   "id": "23d34f06",
   "metadata": {
    "execution": {
     "iopub.execute_input": "2022-04-13T16:06:36.161026Z",
     "iopub.status.busy": "2022-04-13T16:06:36.160138Z",
     "iopub.status.idle": "2022-04-13T16:06:36.163553Z",
     "shell.execute_reply": "2022-04-13T16:06:36.164150Z",
     "shell.execute_reply.started": "2022-04-13T15:05:28.920163Z"
    },
    "papermill": {
     "duration": 0.155857,
     "end_time": "2022-04-13T16:06:36.164333",
     "exception": false,
     "start_time": "2022-04-13T16:06:36.008476",
     "status": "completed"
    },
    "tags": []
   },
   "outputs": [
    {
     "data": {
      "text/plain": [
       "(6362620, 11)"
      ]
     },
     "execution_count": 29,
     "metadata": {},
     "output_type": "execute_result"
    }
   ],
   "source": [
    "dataset.shape"
   ]
  },
  {
   "cell_type": "code",
   "execution_count": 30,
   "id": "1b69a5e6",
   "metadata": {
    "execution": {
     "iopub.execute_input": "2022-04-13T16:06:36.470755Z",
     "iopub.status.busy": "2022-04-13T16:06:36.469874Z",
     "iopub.status.idle": "2022-04-13T16:06:37.132273Z",
     "shell.execute_reply": "2022-04-13T16:06:37.131617Z",
     "shell.execute_reply.started": "2022-04-13T15:05:28.927749Z"
    },
    "papermill": {
     "duration": 0.814959,
     "end_time": "2022-04-13T16:06:37.132442",
     "exception": false,
     "start_time": "2022-04-13T16:06:36.317483",
     "status": "completed"
    },
    "tags": []
   },
   "outputs": [],
   "source": [
    "dataset = dataset[np.abs(zscore(dataset['oldbalanceOrg'])) < 3]"
   ]
  },
  {
   "cell_type": "code",
   "execution_count": 31,
   "id": "3ff24781",
   "metadata": {
    "execution": {
     "iopub.execute_input": "2022-04-13T16:06:37.426273Z",
     "iopub.status.busy": "2022-04-13T16:06:37.421068Z",
     "iopub.status.idle": "2022-04-13T16:07:00.047234Z",
     "shell.execute_reply": "2022-04-13T16:07:00.046697Z",
     "shell.execute_reply.started": "2022-04-13T15:05:29.535898Z"
    },
    "papermill": {
     "duration": 22.767413,
     "end_time": "2022-04-13T16:07:00.047386",
     "exception": false,
     "start_time": "2022-04-13T16:06:37.279973",
     "status": "completed"
    },
    "tags": []
   },
   "outputs": [
    {
     "name": "stderr",
     "output_type": "stream",
     "text": [
      "/opt/conda/lib/python3.7/site-packages/seaborn/distributions.py:2619: FutureWarning: `distplot` is a deprecated function and will be removed in a future version. Please adapt your code to use either `displot` (a figure-level function with similar flexibility) or `histplot` (an axes-level function for histograms).\n",
      "  warnings.warn(msg, FutureWarning)\n"
     ]
    },
    {
     "data": {
      "text/plain": [
       "<AxesSubplot:xlabel='newbalanceOrig', ylabel='Density'>"
      ]
     },
     "execution_count": 31,
     "metadata": {},
     "output_type": "execute_result"
    },
    {
     "data": {
      "image/png": "[encoded data removed]",
      "text/plain": [
       "<Figure size 432x432 with 1 Axes>"
      ]
     },
     "metadata": {
      "needs_background": "light"
     },
     "output_type": "display_data"
    }
   ],
   "source": [
    "plt.figure(figsize=[6, 6])\n",
    "sns.distplot(dataset['newbalanceOrig'], color='b', hist_kws=dict(edgecolor='black', linewidth=2), bins=50)"
   ]
  },
  {
   "cell_type": "code",
   "execution_count": 32,
   "id": "e65f0a13",
   "metadata": {
    "execution": {
     "iopub.execute_input": "2022-04-13T16:07:00.321196Z",
     "iopub.status.busy": "2022-04-13T16:07:00.320170Z",
     "iopub.status.idle": "2022-04-13T16:07:04.495649Z",
     "shell.execute_reply": "2022-04-13T16:07:04.494986Z",
     "shell.execute_reply.started": "2022-04-13T15:05:52.082421Z"
    },
    "papermill": {
     "duration": 4.313509,
     "end_time": "2022-04-13T16:07:04.495816",
     "exception": false,
     "start_time": "2022-04-13T16:07:00.182307",
     "status": "completed"
    },
    "tags": []
   },
   "outputs": [
    {
     "name": "stderr",
     "output_type": "stream",
     "text": [
      "/opt/conda/lib/python3.7/site-packages/seaborn/_decorators.py:43: FutureWarning: Pass the following variable as a keyword arg: x. From version 0.12, the only valid positional argument will be `data`, and passing other arguments without an explicit keyword will result in an error or misinterpretation.\n",
      "  FutureWarning\n"
     ]
    },
    {
     "data": {
      "text/plain": [
       "<AxesSubplot:xlabel='newbalanceOrig'>"
      ]
     },
     "execution_count": 32,
     "metadata": {},
     "output_type": "execute_result"
    },
    {
     "data": {
      "image/png": "[encoded data removed]",
      "text/plain": [
       "<Figure size 432x288 with 1 Axes>"
      ]
     },
     "metadata": {
      "needs_background": "light"
     },
     "output_type": "display_data"
    }
   ],
   "source": [
    "sns.boxplot(dataset['newbalanceOrig'])"
   ]
  },
  {
   "cell_type": "code",
   "execution_count": 33,
   "id": "9a71be2f",
   "metadata": {
    "execution": {
     "iopub.execute_input": "2022-04-13T16:07:04.809739Z",
     "iopub.status.busy": "2022-04-13T16:07:04.809043Z",
     "iopub.status.idle": "2022-04-13T16:07:04.815548Z",
     "shell.execute_reply": "2022-04-13T16:07:04.814990Z",
     "shell.execute_reply.started": "2022-04-13T15:05:56.237165Z"
    },
    "papermill": {
     "duration": 0.178259,
     "end_time": "2022-04-13T16:07:04.815692",
     "exception": false,
     "start_time": "2022-04-13T16:07:04.637433",
     "status": "completed"
    },
    "tags": []
   },
   "outputs": [
    {
     "data": {
      "text/plain": [
       "0    6199579\n",
       "1       7901\n",
       "Name: isFraud, dtype: int64"
      ]
     },
     "execution_count": 33,
     "metadata": {},
     "output_type": "execute_result"
    }
   ],
   "source": [
    "dataset[target].value_counts()"
   ]
  },
  {
   "cell_type": "code",
   "execution_count": 34,
   "id": "eafd0948",
   "metadata": {
    "execution": {
     "iopub.execute_input": "2022-04-13T16:07:05.093643Z",
     "iopub.status.busy": "2022-04-13T16:07:05.092964Z",
     "iopub.status.idle": "2022-04-13T16:07:05.816760Z",
     "shell.execute_reply": "2022-04-13T16:07:05.816251Z",
     "shell.execute_reply.started": "2022-04-13T15:05:56.278044Z"
    },
    "papermill": {
     "duration": 0.864713,
     "end_time": "2022-04-13T16:07:05.816906",
     "exception": false,
     "start_time": "2022-04-13T16:07:04.952193",
     "status": "completed"
    },
    "tags": []
   },
   "outputs": [
    {
     "data": {
      "text/plain": [
       "0    5969852\n",
       "1       7899\n",
       "Name: isFraud, dtype: int64"
      ]
     },
     "execution_count": 34,
     "metadata": {},
     "output_type": "execute_result"
    }
   ],
   "source": [
    "dataset[np.abs(zscore(dataset['newbalanceOrig'])) < 3][target].value_counts()"
   ]
  },
  {
   "cell_type": "code",
   "execution_count": 35,
   "id": "9b43f835",
   "metadata": {
    "execution": {
     "iopub.execute_input": "2022-04-13T16:07:06.095330Z",
     "iopub.status.busy": "2022-04-13T16:07:06.094666Z",
     "iopub.status.idle": "2022-04-13T16:07:06.098901Z",
     "shell.execute_reply": "2022-04-13T16:07:06.099479Z",
     "shell.execute_reply.started": "2022-04-13T15:05:57.024372Z"
    },
    "papermill": {
     "duration": 0.143087,
     "end_time": "2022-04-13T16:07:06.099670",
     "exception": false,
     "start_time": "2022-04-13T16:07:05.956583",
     "status": "completed"
    },
    "tags": []
   },
   "outputs": [
    {
     "data": {
      "text/plain": [
       "(6207480, 11)"
      ]
     },
     "execution_count": 35,
     "metadata": {},
     "output_type": "execute_result"
    }
   ],
   "source": [
    "dataset.shape"
   ]
  },
  {
   "cell_type": "code",
   "execution_count": 36,
   "id": "72d02b2d",
   "metadata": {
    "execution": {
     "iopub.execute_input": "2022-04-13T16:07:06.377465Z",
     "iopub.status.busy": "2022-04-13T16:07:06.376786Z",
     "iopub.status.idle": "2022-04-13T16:07:07.079041Z",
     "shell.execute_reply": "2022-04-13T16:07:07.078319Z",
     "shell.execute_reply.started": "2022-04-13T15:05:57.031767Z"
    },
    "papermill": {
     "duration": 0.841082,
     "end_time": "2022-04-13T16:07:07.079192",
     "exception": false,
     "start_time": "2022-04-13T16:07:06.238110",
     "status": "completed"
    },
    "tags": []
   },
   "outputs": [],
   "source": [
    "dataset = dataset[np.abs(zscore(dataset['newbalanceOrig'])) < 3]"
   ]
  },
  {
   "cell_type": "code",
   "execution_count": 37,
   "id": "bd248382",
   "metadata": {
    "execution": {
     "iopub.execute_input": "2022-04-13T16:07:07.357964Z",
     "iopub.status.busy": "2022-04-13T16:07:07.357270Z",
     "iopub.status.idle": "2022-04-13T16:07:07.361126Z",
     "shell.execute_reply": "2022-04-13T16:07:07.360601Z",
     "shell.execute_reply.started": "2022-04-13T15:05:57.728450Z"
    },
    "papermill": {
     "duration": 0.14434,
     "end_time": "2022-04-13T16:07:07.361269",
     "exception": false,
     "start_time": "2022-04-13T16:07:07.216929",
     "status": "completed"
    },
    "tags": []
   },
   "outputs": [
    {
     "data": {
      "text/plain": [
       "(5977751, 11)"
      ]
     },
     "execution_count": 37,
     "metadata": {},
     "output_type": "execute_result"
    }
   ],
   "source": [
    "dataset.shape"
   ]
  },
  {
   "cell_type": "code",
   "execution_count": 38,
   "id": "cd8d2ee3",
   "metadata": {
    "execution": {
     "iopub.execute_input": "2022-04-13T16:07:07.641375Z",
     "iopub.status.busy": "2022-04-13T16:07:07.640307Z",
     "iopub.status.idle": "2022-04-13T16:07:07.657694Z",
     "shell.execute_reply": "2022-04-13T16:07:07.656845Z",
     "shell.execute_reply.started": "2022-04-13T15:05:57.736656Z"
    },
    "papermill": {
     "duration": 0.159615,
     "end_time": "2022-04-13T16:07:07.657863",
     "exception": false,
     "start_time": "2022-04-13T16:07:07.498248",
     "status": "completed"
    },
    "tags": []
   },
   "outputs": [
    {
     "data": {
      "text/html": [
       "<div>\n",
       "<style scoped>\n",
       "    .dataframe tbody tr th:only-of-type {\n",
       "        vertical-align: middle;\n",
       "    }\n",
       "\n",
       "    .dataframe tbody tr th {\n",
       "        vertical-align: top;\n",
       "    }\n",
       "\n",
       "    .dataframe thead th {\n",
       "        text-align: right;\n",
       "    }\n",
       "</style>\n",
       "<table border=\"1\" class=\"dataframe\">\n",
       "  <thead>\n",
       "    <tr style=\"text-align: right;\">\n",
       "      <th></th>\n",
       "      <th>step</th>\n",
       "      <th>type</th>\n",
       "      <th>amount</th>\n",
       "      <th>nameOrig</th>\n",
       "      <th>oldbalanceOrg</th>\n",
       "      <th>newbalanceOrig</th>\n",
       "      <th>nameDest</th>\n",
       "      <th>oldbalanceDest</th>\n",
       "      <th>newbalanceDest</th>\n",
       "      <th>isFraud</th>\n",
       "      <th>isFlaggedFraud</th>\n",
       "    </tr>\n",
       "  </thead>\n",
       "  <tbody>\n",
       "    <tr>\n",
       "      <th>0</th>\n",
       "      <td>1</td>\n",
       "      <td>PAYMENT</td>\n",
       "      <td>9839.64</td>\n",
       "      <td>C1231006815</td>\n",
       "      <td>170136.0</td>\n",
       "      <td>160296.36</td>\n",
       "      <td>M1979787155</td>\n",
       "      <td>0.0</td>\n",
       "      <td>0.0</td>\n",
       "      <td>0</td>\n",
       "      <td>0</td>\n",
       "    </tr>\n",
       "    <tr>\n",
       "      <th>1</th>\n",
       "      <td>1</td>\n",
       "      <td>PAYMENT</td>\n",
       "      <td>1864.28</td>\n",
       "      <td>C1666544295</td>\n",
       "      <td>21249.0</td>\n",
       "      <td>19384.72</td>\n",
       "      <td>M2044282225</td>\n",
       "      <td>0.0</td>\n",
       "      <td>0.0</td>\n",
       "      <td>0</td>\n",
       "      <td>0</td>\n",
       "    </tr>\n",
       "    <tr>\n",
       "      <th>2</th>\n",
       "      <td>1</td>\n",
       "      <td>TRANSFER</td>\n",
       "      <td>181.00</td>\n",
       "      <td>C1305486145</td>\n",
       "      <td>181.0</td>\n",
       "      <td>0.00</td>\n",
       "      <td>C553264065</td>\n",
       "      <td>0.0</td>\n",
       "      <td>0.0</td>\n",
       "      <td>1</td>\n",
       "      <td>0</td>\n",
       "    </tr>\n",
       "    <tr>\n",
       "      <th>3</th>\n",
       "      <td>1</td>\n",
       "      <td>CASH_OUT</td>\n",
       "      <td>181.00</td>\n",
       "      <td>C840083671</td>\n",
       "      <td>181.0</td>\n",
       "      <td>0.00</td>\n",
       "      <td>C38997010</td>\n",
       "      <td>21182.0</td>\n",
       "      <td>0.0</td>\n",
       "      <td>1</td>\n",
       "      <td>0</td>\n",
       "    </tr>\n",
       "    <tr>\n",
       "      <th>4</th>\n",
       "      <td>1</td>\n",
       "      <td>PAYMENT</td>\n",
       "      <td>11668.14</td>\n",
       "      <td>C2048537720</td>\n",
       "      <td>41554.0</td>\n",
       "      <td>29885.86</td>\n",
       "      <td>M1230701703</td>\n",
       "      <td>0.0</td>\n",
       "      <td>0.0</td>\n",
       "      <td>0</td>\n",
       "      <td>0</td>\n",
       "    </tr>\n",
       "  </tbody>\n",
       "</table>\n",
       "</div>"
      ],
      "text/plain": [
       "   step      type    amount     nameOrig  oldbalanceOrg  newbalanceOrig  \\\n",
       "0     1   PAYMENT   9839.64  C1231006815       170136.0       160296.36   \n",
       "1     1   PAYMENT   1864.28  C1666544295        21249.0        19384.72   \n",
       "2     1  TRANSFER    181.00  C1305486145          181.0            0.00   \n",
       "3     1  CASH_OUT    181.00   C840083671          181.0            0.00   \n",
       "4     1   PAYMENT  11668.14  C2048537720        41554.0        29885.86   \n",
       "\n",
       "      nameDest  oldbalanceDest  newbalanceDest  isFraud  isFlaggedFraud  \n",
       "0  M1979787155             0.0             0.0        0               0  \n",
       "1  M2044282225             0.0             0.0        0               0  \n",
       "2   C553264065             0.0             0.0        1               0  \n",
       "3    C38997010         21182.0             0.0        1               0  \n",
       "4  M1230701703             0.0             0.0        0               0  "
      ]
     },
     "execution_count": 38,
     "metadata": {},
     "output_type": "execute_result"
    }
   ],
   "source": [
    "dataset.head()"
   ]
  },
  {
   "cell_type": "code",
   "execution_count": 39,
   "id": "02e3dc74",
   "metadata": {
    "execution": {
     "iopub.execute_input": "2022-04-13T16:07:07.960237Z",
     "iopub.status.busy": "2022-04-13T16:07:07.940756Z",
     "iopub.status.idle": "2022-04-13T16:07:27.703288Z",
     "shell.execute_reply": "2022-04-13T16:07:27.702709Z",
     "shell.execute_reply.started": "2022-04-13T15:05:57.762227Z"
    },
    "papermill": {
     "duration": 19.906017,
     "end_time": "2022-04-13T16:07:27.703435",
     "exception": false,
     "start_time": "2022-04-13T16:07:07.797418",
     "status": "completed"
    },
    "tags": []
   },
   "outputs": [
    {
     "name": "stderr",
     "output_type": "stream",
     "text": [
      "/opt/conda/lib/python3.7/site-packages/seaborn/distributions.py:2619: FutureWarning: `distplot` is a deprecated function and will be removed in a future version. Please adapt your code to use either `displot` (a figure-level function with similar flexibility) or `histplot` (an axes-level function for histograms).\n",
      "  warnings.warn(msg, FutureWarning)\n"
     ]
    },
    {
     "data": {
      "text/plain": [
       "<AxesSubplot:xlabel='oldbalanceDest', ylabel='Density'>"
      ]
     },
     "execution_count": 39,
     "metadata": {},
     "output_type": "execute_result"
    },
    {
     "data": {
      "image/png": "[encoded data removed]",
      "text/plain": [
       "<Figure size 432x432 with 1 Axes>"
      ]
     },
     "metadata": {
      "needs_background": "light"
     },
     "output_type": "display_data"
    }
   ],
   "source": [
    "plt.figure(figsize=[6, 6])\n",
    "sns.distplot(dataset['oldbalanceDest'], color = 'b', hist_kws=dict(edgecolor='black', linewidth=2), bins=50)"
   ]
  },
  {
   "cell_type": "code",
   "execution_count": 40,
   "id": "e0fd4e8c",
   "metadata": {
    "execution": {
     "iopub.execute_input": "2022-04-13T16:07:28.623084Z",
     "iopub.status.busy": "2022-04-13T16:07:28.622085Z",
     "iopub.status.idle": "2022-04-13T16:07:31.826127Z",
     "shell.execute_reply": "2022-04-13T16:07:31.825456Z",
     "shell.execute_reply.started": "2022-04-13T15:06:18.103564Z"
    },
    "papermill": {
     "duration": 3.984093,
     "end_time": "2022-04-13T16:07:31.826273",
     "exception": false,
     "start_time": "2022-04-13T16:07:27.842180",
     "status": "completed"
    },
    "tags": []
   },
   "outputs": [
    {
     "data": {
      "text/html": [
       "<div>\n",
       "<style scoped>\n",
       "    .dataframe tbody tr th:only-of-type {\n",
       "        vertical-align: middle;\n",
       "    }\n",
       "\n",
       "    .dataframe tbody tr th {\n",
       "        vertical-align: top;\n",
       "    }\n",
       "\n",
       "    .dataframe thead th {\n",
       "        text-align: right;\n",
       "    }\n",
       "</style>\n",
       "<table border=\"1\" class=\"dataframe\">\n",
       "  <thead>\n",
       "    <tr style=\"text-align: right;\">\n",
       "      <th></th>\n",
       "      <th>step</th>\n",
       "      <th>type</th>\n",
       "      <th>amount</th>\n",
       "      <th>nameOrig</th>\n",
       "      <th>oldbalanceOrg</th>\n",
       "      <th>newbalanceOrig</th>\n",
       "      <th>nameDest</th>\n",
       "      <th>oldbalanceDest</th>\n",
       "      <th>newbalanceDest</th>\n",
       "      <th>isFraud</th>\n",
       "      <th>isFlaggedFraud</th>\n",
       "    </tr>\n",
       "  </thead>\n",
       "  <tbody>\n",
       "    <tr>\n",
       "      <th>0</th>\n",
       "      <td>1</td>\n",
       "      <td>PAYMENT</td>\n",
       "      <td>9839.64</td>\n",
       "      <td>C1231006815</td>\n",
       "      <td>170136.0</td>\n",
       "      <td>160296.36</td>\n",
       "      <td>M1979787155</td>\n",
       "      <td>0.0</td>\n",
       "      <td>0.0</td>\n",
       "      <td>0</td>\n",
       "      <td>0</td>\n",
       "    </tr>\n",
       "    <tr>\n",
       "      <th>1</th>\n",
       "      <td>1</td>\n",
       "      <td>PAYMENT</td>\n",
       "      <td>1864.28</td>\n",
       "      <td>C1666544295</td>\n",
       "      <td>21249.0</td>\n",
       "      <td>19384.72</td>\n",
       "      <td>M2044282225</td>\n",
       "      <td>0.0</td>\n",
       "      <td>0.0</td>\n",
       "      <td>0</td>\n",
       "      <td>0</td>\n",
       "    </tr>\n",
       "    <tr>\n",
       "      <th>4</th>\n",
       "      <td>1</td>\n",
       "      <td>PAYMENT</td>\n",
       "      <td>11668.14</td>\n",
       "      <td>C2048537720</td>\n",
       "      <td>41554.0</td>\n",
       "      <td>29885.86</td>\n",
       "      <td>M1230701703</td>\n",
       "      <td>0.0</td>\n",
       "      <td>0.0</td>\n",
       "      <td>0</td>\n",
       "      <td>0</td>\n",
       "    </tr>\n",
       "    <tr>\n",
       "      <th>5</th>\n",
       "      <td>1</td>\n",
       "      <td>PAYMENT</td>\n",
       "      <td>7817.71</td>\n",
       "      <td>C90045638</td>\n",
       "      <td>53860.0</td>\n",
       "      <td>46042.29</td>\n",
       "      <td>M573487274</td>\n",
       "      <td>0.0</td>\n",
       "      <td>0.0</td>\n",
       "      <td>0</td>\n",
       "      <td>0</td>\n",
       "    </tr>\n",
       "    <tr>\n",
       "      <th>6</th>\n",
       "      <td>1</td>\n",
       "      <td>PAYMENT</td>\n",
       "      <td>7107.77</td>\n",
       "      <td>C154988899</td>\n",
       "      <td>183195.0</td>\n",
       "      <td>176087.23</td>\n",
       "      <td>M408069119</td>\n",
       "      <td>0.0</td>\n",
       "      <td>0.0</td>\n",
       "      <td>0</td>\n",
       "      <td>0</td>\n",
       "    </tr>\n",
       "    <tr>\n",
       "      <th>...</th>\n",
       "      <td>...</td>\n",
       "      <td>...</td>\n",
       "      <td>...</td>\n",
       "      <td>...</td>\n",
       "      <td>...</td>\n",
       "      <td>...</td>\n",
       "      <td>...</td>\n",
       "      <td>...</td>\n",
       "      <td>...</td>\n",
       "      <td>...</td>\n",
       "      <td>...</td>\n",
       "    </tr>\n",
       "    <tr>\n",
       "      <th>6362312</th>\n",
       "      <td>718</td>\n",
       "      <td>PAYMENT</td>\n",
       "      <td>8178.01</td>\n",
       "      <td>C1213413071</td>\n",
       "      <td>11742.0</td>\n",
       "      <td>3563.99</td>\n",
       "      <td>M1112540487</td>\n",
       "      <td>0.0</td>\n",
       "      <td>0.0</td>\n",
       "      <td>0</td>\n",
       "      <td>0</td>\n",
       "    </tr>\n",
       "    <tr>\n",
       "      <th>6362314</th>\n",
       "      <td>718</td>\n",
       "      <td>PAYMENT</td>\n",
       "      <td>17841.23</td>\n",
       "      <td>C1045048098</td>\n",
       "      <td>10182.0</td>\n",
       "      <td>0.00</td>\n",
       "      <td>M1878955882</td>\n",
       "      <td>0.0</td>\n",
       "      <td>0.0</td>\n",
       "      <td>0</td>\n",
       "      <td>0</td>\n",
       "    </tr>\n",
       "    <tr>\n",
       "      <th>6362316</th>\n",
       "      <td>718</td>\n",
       "      <td>PAYMENT</td>\n",
       "      <td>1022.91</td>\n",
       "      <td>C1203084509</td>\n",
       "      <td>12.0</td>\n",
       "      <td>0.00</td>\n",
       "      <td>M675916850</td>\n",
       "      <td>0.0</td>\n",
       "      <td>0.0</td>\n",
       "      <td>0</td>\n",
       "      <td>0</td>\n",
       "    </tr>\n",
       "    <tr>\n",
       "      <th>6362318</th>\n",
       "      <td>718</td>\n",
       "      <td>PAYMENT</td>\n",
       "      <td>4109.57</td>\n",
       "      <td>C673558958</td>\n",
       "      <td>5521.0</td>\n",
       "      <td>1411.43</td>\n",
       "      <td>M1126011651</td>\n",
       "      <td>0.0</td>\n",
       "      <td>0.0</td>\n",
       "      <td>0</td>\n",
       "      <td>0</td>\n",
       "    </tr>\n",
       "    <tr>\n",
       "      <th>6362319</th>\n",
       "      <td>718</td>\n",
       "      <td>PAYMENT</td>\n",
       "      <td>8634.29</td>\n",
       "      <td>C642813806</td>\n",
       "      <td>518802.0</td>\n",
       "      <td>510167.71</td>\n",
       "      <td>M747723689</td>\n",
       "      <td>0.0</td>\n",
       "      <td>0.0</td>\n",
       "      <td>0</td>\n",
       "      <td>0</td>\n",
       "    </tr>\n",
       "  </tbody>\n",
       "</table>\n",
       "<p>2151349 rows × 11 columns</p>\n",
       "</div>"
      ],
      "text/plain": [
       "         step     type    amount     nameOrig  oldbalanceOrg  newbalanceOrig  \\\n",
       "0           1  PAYMENT   9839.64  C1231006815       170136.0       160296.36   \n",
       "1           1  PAYMENT   1864.28  C1666544295        21249.0        19384.72   \n",
       "4           1  PAYMENT  11668.14  C2048537720        41554.0        29885.86   \n",
       "5           1  PAYMENT   7817.71    C90045638        53860.0        46042.29   \n",
       "6           1  PAYMENT   7107.77   C154988899       183195.0       176087.23   \n",
       "...       ...      ...       ...          ...            ...             ...   \n",
       "6362312   718  PAYMENT   8178.01  C1213413071        11742.0         3563.99   \n",
       "6362314   718  PAYMENT  17841.23  C1045048098        10182.0            0.00   \n",
       "6362316   718  PAYMENT   1022.91  C1203084509           12.0            0.00   \n",
       "6362318   718  PAYMENT   4109.57   C673558958         5521.0         1411.43   \n",
       "6362319   718  PAYMENT   8634.29   C642813806       518802.0       510167.71   \n",
       "\n",
       "            nameDest  oldbalanceDest  newbalanceDest  isFraud  isFlaggedFraud  \n",
       "0        M1979787155             0.0             0.0        0               0  \n",
       "1        M2044282225             0.0             0.0        0               0  \n",
       "4        M1230701703             0.0             0.0        0               0  \n",
       "5         M573487274             0.0             0.0        0               0  \n",
       "6         M408069119             0.0             0.0        0               0  \n",
       "...              ...             ...             ...      ...             ...  \n",
       "6362312  M1112540487             0.0             0.0        0               0  \n",
       "6362314  M1878955882             0.0             0.0        0               0  \n",
       "6362316   M675916850             0.0             0.0        0               0  \n",
       "6362318  M1126011651             0.0             0.0        0               0  \n",
       "6362319   M747723689             0.0             0.0        0               0  \n",
       "\n",
       "[2151349 rows x 11 columns]"
      ]
     },
     "execution_count": 40,
     "metadata": {},
     "output_type": "execute_result"
    }
   ],
   "source": [
    "dataset.loc[dataset['nameDest'].str.startswith('M')]"
   ]
  },
  {
   "cell_type": "code",
   "execution_count": 41,
   "id": "10a6fc7c",
   "metadata": {
    "execution": {
     "iopub.execute_input": "2022-04-13T16:07:32.748450Z",
     "iopub.status.busy": "2022-04-13T16:07:32.747623Z",
     "iopub.status.idle": "2022-04-13T16:07:35.386684Z",
     "shell.execute_reply": "2022-04-13T16:07:35.385982Z",
     "shell.execute_reply.started": "2022-04-13T15:06:21.959143Z"
    },
    "papermill": {
     "duration": 3.421848,
     "end_time": "2022-04-13T16:07:35.386839",
     "exception": false,
     "start_time": "2022-04-13T16:07:31.964991",
     "status": "completed"
    },
    "tags": []
   },
   "outputs": [
    {
     "data": {
      "text/plain": [
       "count    3.826402e+06\n",
       "mean     1.632251e+06\n",
       "std      4.071666e+06\n",
       "min      0.000000e+00\n",
       "25%      1.165770e+05\n",
       "50%      5.218018e+05\n",
       "75%      1.650417e+06\n",
       "max      3.560159e+08\n",
       "Name: oldbalanceDest, dtype: float64"
      ]
     },
     "execution_count": 41,
     "metadata": {},
     "output_type": "execute_result"
    }
   ],
   "source": [
    "dataset.loc[~dataset['nameDest'].str.startswith('M')]['oldbalanceDest'].describe()"
   ]
  },
  {
   "cell_type": "code",
   "execution_count": 42,
   "id": "741ef377",
   "metadata": {
    "execution": {
     "iopub.execute_input": "2022-04-13T16:07:35.677524Z",
     "iopub.status.busy": "2022-04-13T16:07:35.676522Z",
     "iopub.status.idle": "2022-04-13T16:07:38.880333Z",
     "shell.execute_reply": "2022-04-13T16:07:38.880878Z",
     "shell.execute_reply.started": "2022-04-13T15:06:25.201686Z"
    },
    "papermill": {
     "duration": 3.351311,
     "end_time": "2022-04-13T16:07:38.881064",
     "exception": false,
     "start_time": "2022-04-13T16:07:35.529753",
     "status": "completed"
    },
    "tags": []
   },
   "outputs": [
    {
     "data": {
      "text/plain": [
       "count    3.826402e+06\n",
       "mean     1.853100e+06\n",
       "std      4.423903e+06\n",
       "min      0.000000e+00\n",
       "25%      2.242694e+05\n",
       "50%      6.858243e+05\n",
       "75%      1.908355e+06\n",
       "max      3.561793e+08\n",
       "Name: newbalanceDest, dtype: float64"
      ]
     },
     "execution_count": 42,
     "metadata": {},
     "output_type": "execute_result"
    }
   ],
   "source": [
    "dataset.loc[~dataset['nameDest'].str.startswith('M')]['newbalanceDest'].describe()"
   ]
  },
  {
   "cell_type": "markdown",
   "id": "93cf4483",
   "metadata": {
    "papermill": {
     "duration": 0.14112,
     "end_time": "2022-04-13T16:07:39.163286",
     "exception": false,
     "start_time": "2022-04-13T16:07:39.022166",
     "status": "completed"
    },
    "tags": []
   },
   "source": [
    "Strategy : We have found all the rows with 'M's in there customer ID, we will have to impute all those 0.0s with median of the remaining values."
   ]
  },
  {
   "cell_type": "code",
   "execution_count": 43,
   "id": "f893478e",
   "metadata": {
    "execution": {
     "iopub.execute_input": "2022-04-13T16:07:39.448117Z",
     "iopub.status.busy": "2022-04-13T16:07:39.447083Z",
     "iopub.status.idle": "2022-04-13T16:07:45.269802Z",
     "shell.execute_reply": "2022-04-13T16:07:45.270330Z",
     "shell.execute_reply.started": "2022-04-13T15:06:28.470540Z"
    },
    "papermill": {
     "duration": 5.965891,
     "end_time": "2022-04-13T16:07:45.270536",
     "exception": false,
     "start_time": "2022-04-13T16:07:39.304645",
     "status": "completed"
    },
    "tags": []
   },
   "outputs": [],
   "source": [
    "med_oldbalanceDest = dataset[~dataset['nameDest'].str.startswith('M')]['oldbalanceDest'].median()\n",
    "dataset.loc[dataset['nameDest'].str.startswith('M'), 'oldbalanceDest'] = med_oldbalanceDest"
   ]
  },
  {
   "cell_type": "code",
   "execution_count": 44,
   "id": "c2b3f047",
   "metadata": {
    "execution": {
     "iopub.execute_input": "2022-04-13T16:07:46.200305Z",
     "iopub.status.busy": "2022-04-13T16:07:46.199596Z",
     "iopub.status.idle": "2022-04-13T16:07:52.315450Z",
     "shell.execute_reply": "2022-04-13T16:07:52.314883Z",
     "shell.execute_reply.started": "2022-04-13T15:06:34.362545Z"
    },
    "papermill": {
     "duration": 6.904521,
     "end_time": "2022-04-13T16:07:52.315635",
     "exception": false,
     "start_time": "2022-04-13T16:07:45.411114",
     "status": "completed"
    },
    "tags": []
   },
   "outputs": [],
   "source": [
    "med_newbalanceDest = dataset[~dataset['nameDest'].str.startswith('M')]['newbalanceDest'].median()\n",
    "dataset.loc[dataset['nameDest'].str.startswith('M'), 'newbalanceDest'] = med_newbalanceDest"
   ]
  },
  {
   "cell_type": "code",
   "execution_count": 45,
   "id": "9680fca8",
   "metadata": {
    "execution": {
     "iopub.execute_input": "2022-04-13T16:07:52.607905Z",
     "iopub.status.busy": "2022-04-13T16:07:52.607242Z",
     "iopub.status.idle": "2022-04-13T16:07:52.648045Z",
     "shell.execute_reply": "2022-04-13T16:07:52.647257Z",
     "shell.execute_reply.started": "2022-04-13T15:06:41.305475Z"
    },
    "papermill": {
     "duration": 0.189613,
     "end_time": "2022-04-13T16:07:52.648233",
     "exception": false,
     "start_time": "2022-04-13T16:07:52.458620",
     "status": "completed"
    },
    "tags": []
   },
   "outputs": [
    {
     "data": {
      "text/plain": [
       "0    5977743\n",
       "1          8\n",
       "Name: isFlaggedFraud, dtype: int64"
      ]
     },
     "execution_count": 45,
     "metadata": {},
     "output_type": "execute_result"
    }
   ],
   "source": [
    "dataset['isFlaggedFraud'].value_counts()"
   ]
  },
  {
   "cell_type": "markdown",
   "id": "76c8a7a6",
   "metadata": {
    "papermill": {
     "duration": 0.139977,
     "end_time": "2022-04-13T16:07:52.951176",
     "exception": false,
     "start_time": "2022-04-13T16:07:52.811199",
     "status": "completed"
    },
    "tags": []
   },
   "source": [
    "We will drop this feature"
   ]
  },
  {
   "cell_type": "code",
   "execution_count": 46,
   "id": "7a11ee05",
   "metadata": {
    "execution": {
     "iopub.execute_input": "2022-04-13T16:07:53.234352Z",
     "iopub.status.busy": "2022-04-13T16:07:53.233697Z",
     "iopub.status.idle": "2022-04-13T16:07:53.249076Z",
     "shell.execute_reply": "2022-04-13T16:07:53.249691Z",
     "shell.execute_reply.started": "2022-04-13T15:06:41.346221Z"
    },
    "papermill": {
     "duration": 0.158265,
     "end_time": "2022-04-13T16:07:53.249877",
     "exception": false,
     "start_time": "2022-04-13T16:07:53.091612",
     "status": "completed"
    },
    "tags": []
   },
   "outputs": [
    {
     "data": {
      "text/html": [
       "<div>\n",
       "<style scoped>\n",
       "    .dataframe tbody tr th:only-of-type {\n",
       "        vertical-align: middle;\n",
       "    }\n",
       "\n",
       "    .dataframe tbody tr th {\n",
       "        vertical-align: top;\n",
       "    }\n",
       "\n",
       "    .dataframe thead th {\n",
       "        text-align: right;\n",
       "    }\n",
       "</style>\n",
       "<table border=\"1\" class=\"dataframe\">\n",
       "  <thead>\n",
       "    <tr style=\"text-align: right;\">\n",
       "      <th></th>\n",
       "      <th>step</th>\n",
       "      <th>type</th>\n",
       "      <th>amount</th>\n",
       "      <th>nameOrig</th>\n",
       "      <th>oldbalanceOrg</th>\n",
       "      <th>newbalanceOrig</th>\n",
       "      <th>nameDest</th>\n",
       "      <th>oldbalanceDest</th>\n",
       "      <th>newbalanceDest</th>\n",
       "      <th>isFraud</th>\n",
       "      <th>isFlaggedFraud</th>\n",
       "    </tr>\n",
       "  </thead>\n",
       "  <tbody>\n",
       "    <tr>\n",
       "      <th>0</th>\n",
       "      <td>1</td>\n",
       "      <td>PAYMENT</td>\n",
       "      <td>9839.64</td>\n",
       "      <td>C1231006815</td>\n",
       "      <td>170136.0</td>\n",
       "      <td>160296.36</td>\n",
       "      <td>M1979787155</td>\n",
       "      <td>521801.835</td>\n",
       "      <td>685824.345</td>\n",
       "      <td>0</td>\n",
       "      <td>0</td>\n",
       "    </tr>\n",
       "    <tr>\n",
       "      <th>1</th>\n",
       "      <td>1</td>\n",
       "      <td>PAYMENT</td>\n",
       "      <td>1864.28</td>\n",
       "      <td>C1666544295</td>\n",
       "      <td>21249.0</td>\n",
       "      <td>19384.72</td>\n",
       "      <td>M2044282225</td>\n",
       "      <td>521801.835</td>\n",
       "      <td>685824.345</td>\n",
       "      <td>0</td>\n",
       "      <td>0</td>\n",
       "    </tr>\n",
       "    <tr>\n",
       "      <th>2</th>\n",
       "      <td>1</td>\n",
       "      <td>TRANSFER</td>\n",
       "      <td>181.00</td>\n",
       "      <td>C1305486145</td>\n",
       "      <td>181.0</td>\n",
       "      <td>0.00</td>\n",
       "      <td>C553264065</td>\n",
       "      <td>0.000</td>\n",
       "      <td>0.000</td>\n",
       "      <td>1</td>\n",
       "      <td>0</td>\n",
       "    </tr>\n",
       "    <tr>\n",
       "      <th>3</th>\n",
       "      <td>1</td>\n",
       "      <td>CASH_OUT</td>\n",
       "      <td>181.00</td>\n",
       "      <td>C840083671</td>\n",
       "      <td>181.0</td>\n",
       "      <td>0.00</td>\n",
       "      <td>C38997010</td>\n",
       "      <td>21182.000</td>\n",
       "      <td>0.000</td>\n",
       "      <td>1</td>\n",
       "      <td>0</td>\n",
       "    </tr>\n",
       "    <tr>\n",
       "      <th>4</th>\n",
       "      <td>1</td>\n",
       "      <td>PAYMENT</td>\n",
       "      <td>11668.14</td>\n",
       "      <td>C2048537720</td>\n",
       "      <td>41554.0</td>\n",
       "      <td>29885.86</td>\n",
       "      <td>M1230701703</td>\n",
       "      <td>521801.835</td>\n",
       "      <td>685824.345</td>\n",
       "      <td>0</td>\n",
       "      <td>0</td>\n",
       "    </tr>\n",
       "  </tbody>\n",
       "</table>\n",
       "</div>"
      ],
      "text/plain": [
       "   step      type    amount     nameOrig  oldbalanceOrg  newbalanceOrig  \\\n",
       "0     1   PAYMENT   9839.64  C1231006815       170136.0       160296.36   \n",
       "1     1   PAYMENT   1864.28  C1666544295        21249.0        19384.72   \n",
       "2     1  TRANSFER    181.00  C1305486145          181.0            0.00   \n",
       "3     1  CASH_OUT    181.00   C840083671          181.0            0.00   \n",
       "4     1   PAYMENT  11668.14  C2048537720        41554.0        29885.86   \n",
       "\n",
       "      nameDest  oldbalanceDest  newbalanceDest  isFraud  isFlaggedFraud  \n",
       "0  M1979787155      521801.835      685824.345        0               0  \n",
       "1  M2044282225      521801.835      685824.345        0               0  \n",
       "2   C553264065           0.000           0.000        1               0  \n",
       "3    C38997010       21182.000           0.000        1               0  \n",
       "4  M1230701703      521801.835      685824.345        0               0  "
      ]
     },
     "execution_count": 46,
     "metadata": {},
     "output_type": "execute_result"
    }
   ],
   "source": [
    "dataset.head()"
   ]
  },
  {
   "cell_type": "code",
   "execution_count": 47,
   "id": "3288d082",
   "metadata": {
    "execution": {
     "iopub.execute_input": "2022-04-13T16:07:53.532455Z",
     "iopub.status.busy": "2022-04-13T16:07:53.531838Z",
     "iopub.status.idle": "2022-04-13T16:07:55.303774Z",
     "shell.execute_reply": "2022-04-13T16:07:55.304352Z",
     "shell.execute_reply.started": "2022-04-13T15:06:41.370836Z"
    },
    "papermill": {
     "duration": 1.915269,
     "end_time": "2022-04-13T16:07:55.304597",
     "exception": false,
     "start_time": "2022-04-13T16:07:53.389328",
     "status": "completed"
    },
    "tags": []
   },
   "outputs": [
    {
     "data": {
      "text/html": [
       "<div>\n",
       "<style scoped>\n",
       "    .dataframe tbody tr th:only-of-type {\n",
       "        vertical-align: middle;\n",
       "    }\n",
       "\n",
       "    .dataframe tbody tr th {\n",
       "        vertical-align: top;\n",
       "    }\n",
       "\n",
       "    .dataframe thead th {\n",
       "        text-align: right;\n",
       "    }\n",
       "</style>\n",
       "<table border=\"1\" class=\"dataframe\">\n",
       "  <thead>\n",
       "    <tr style=\"text-align: right;\">\n",
       "      <th></th>\n",
       "      <th>step</th>\n",
       "      <th>amount</th>\n",
       "      <th>oldbalanceOrg</th>\n",
       "      <th>newbalanceOrig</th>\n",
       "      <th>oldbalanceDest</th>\n",
       "      <th>newbalanceDest</th>\n",
       "      <th>isFraud</th>\n",
       "      <th>isFlaggedFraud</th>\n",
       "    </tr>\n",
       "  </thead>\n",
       "  <tbody>\n",
       "    <tr>\n",
       "      <th>count</th>\n",
       "      <td>5.977751e+06</td>\n",
       "      <td>5.977751e+06</td>\n",
       "      <td>5.977751e+06</td>\n",
       "      <td>5.977751e+06</td>\n",
       "      <td>5.977751e+06</td>\n",
       "      <td>5.977751e+06</td>\n",
       "      <td>5.977751e+06</td>\n",
       "      <td>5.977751e+06</td>\n",
       "    </tr>\n",
       "    <tr>\n",
       "      <th>mean</th>\n",
       "      <td>2.435811e+02</td>\n",
       "      <td>1.804237e+05</td>\n",
       "      <td>2.148974e+05</td>\n",
       "      <td>2.275171e+05</td>\n",
       "      <td>1.232609e+06</td>\n",
       "      <td>1.433006e+06</td>\n",
       "      <td>1.321400e-03</td>\n",
       "      <td>1.338296e-06</td>\n",
       "    </tr>\n",
       "    <tr>\n",
       "      <th>std</th>\n",
       "      <td>1.424990e+02</td>\n",
       "      <td>6.181132e+05</td>\n",
       "      <td>6.811729e+05</td>\n",
       "      <td>7.142910e+05</td>\n",
       "      <td>3.300919e+06</td>\n",
       "      <td>3.583486e+06</td>\n",
       "      <td>3.632704e-02</td>\n",
       "      <td>1.156847e-03</td>\n",
       "    </tr>\n",
       "    <tr>\n",
       "      <th>min</th>\n",
       "      <td>1.000000e+00</td>\n",
       "      <td>0.000000e+00</td>\n",
       "      <td>0.000000e+00</td>\n",
       "      <td>0.000000e+00</td>\n",
       "      <td>0.000000e+00</td>\n",
       "      <td>0.000000e+00</td>\n",
       "      <td>0.000000e+00</td>\n",
       "      <td>0.000000e+00</td>\n",
       "    </tr>\n",
       "    <tr>\n",
       "      <th>25%</th>\n",
       "      <td>1.560000e+02</td>\n",
       "      <td>1.244322e+04</td>\n",
       "      <td>0.000000e+00</td>\n",
       "      <td>0.000000e+00</td>\n",
       "      <td>3.098470e+05</td>\n",
       "      <td>4.393596e+05</td>\n",
       "      <td>0.000000e+00</td>\n",
       "      <td>0.000000e+00</td>\n",
       "    </tr>\n",
       "    <tr>\n",
       "      <th>50%</th>\n",
       "      <td>2.390000e+02</td>\n",
       "      <td>6.839515e+04</td>\n",
       "      <td>1.091000e+04</td>\n",
       "      <td>0.000000e+00</td>\n",
       "      <td>5.218018e+05</td>\n",
       "      <td>6.858243e+05</td>\n",
       "      <td>0.000000e+00</td>\n",
       "      <td>0.000000e+00</td>\n",
       "    </tr>\n",
       "    <tr>\n",
       "      <th>75%</th>\n",
       "      <td>3.350000e+02</td>\n",
       "      <td>2.064838e+05</td>\n",
       "      <td>7.212165e+04</td>\n",
       "      <td>8.192764e+04</td>\n",
       "      <td>8.568732e+05</td>\n",
       "      <td>1.057022e+06</td>\n",
       "      <td>0.000000e+00</td>\n",
       "      <td>0.000000e+00</td>\n",
       "    </tr>\n",
       "    <tr>\n",
       "      <th>max</th>\n",
       "      <td>7.430000e+02</td>\n",
       "      <td>9.244552e+07</td>\n",
       "      <td>9.468064e+06</td>\n",
       "      <td>4.916134e+06</td>\n",
       "      <td>3.560159e+08</td>\n",
       "      <td>3.561793e+08</td>\n",
       "      <td>1.000000e+00</td>\n",
       "      <td>1.000000e+00</td>\n",
       "    </tr>\n",
       "  </tbody>\n",
       "</table>\n",
       "</div>"
      ],
      "text/plain": [
       "               step        amount  oldbalanceOrg  newbalanceOrig  \\\n",
       "count  5.977751e+06  5.977751e+06   5.977751e+06    5.977751e+06   \n",
       "mean   2.435811e+02  1.804237e+05   2.148974e+05    2.275171e+05   \n",
       "std    1.424990e+02  6.181132e+05   6.811729e+05    7.142910e+05   \n",
       "min    1.000000e+00  0.000000e+00   0.000000e+00    0.000000e+00   \n",
       "25%    1.560000e+02  1.244322e+04   0.000000e+00    0.000000e+00   \n",
       "50%    2.390000e+02  6.839515e+04   1.091000e+04    0.000000e+00   \n",
       "75%    3.350000e+02  2.064838e+05   7.212165e+04    8.192764e+04   \n",
       "max    7.430000e+02  9.244552e+07   9.468064e+06    4.916134e+06   \n",
       "\n",
       "       oldbalanceDest  newbalanceDest       isFraud  isFlaggedFraud  \n",
       "count    5.977751e+06    5.977751e+06  5.977751e+06    5.977751e+06  \n",
       "mean     1.232609e+06    1.433006e+06  1.321400e-03    1.338296e-06  \n",
       "std      3.300919e+06    3.583486e+06  3.632704e-02    1.156847e-03  \n",
       "min      0.000000e+00    0.000000e+00  0.000000e+00    0.000000e+00  \n",
       "25%      3.098470e+05    4.393596e+05  0.000000e+00    0.000000e+00  \n",
       "50%      5.218018e+05    6.858243e+05  0.000000e+00    0.000000e+00  \n",
       "75%      8.568732e+05    1.057022e+06  0.000000e+00    0.000000e+00  \n",
       "max      3.560159e+08    3.561793e+08  1.000000e+00    1.000000e+00  "
      ]
     },
     "metadata": {},
     "output_type": "display_data"
    }
   ],
   "source": [
    "display(dataset.describe())"
   ]
  },
  {
   "cell_type": "markdown",
   "id": "a818b878",
   "metadata": {
    "papermill": {
     "duration": 0.143309,
     "end_time": "2022-04-13T16:07:55.590322",
     "exception": false,
     "start_time": "2022-04-13T16:07:55.447013",
     "status": "completed"
    },
    "tags": []
   },
   "source": [
    "Let's analyse some features"
   ]
  },
  {
   "cell_type": "code",
   "execution_count": 48,
   "id": "e98f3c9d",
   "metadata": {
    "execution": {
     "iopub.execute_input": "2022-04-13T16:07:55.877309Z",
     "iopub.status.busy": "2022-04-13T16:07:55.876696Z",
     "iopub.status.idle": "2022-04-13T16:07:56.442189Z",
     "shell.execute_reply": "2022-04-13T16:07:56.441644Z",
     "shell.execute_reply.started": "2022-04-13T15:06:42.991599Z"
    },
    "papermill": {
     "duration": 0.709397,
     "end_time": "2022-04-13T16:07:56.442345",
     "exception": false,
     "start_time": "2022-04-13T16:07:55.732948",
     "status": "completed"
    },
    "tags": []
   },
   "outputs": [
    {
     "data": {
      "text/plain": [
       "0.00         2102449\n",
       "184.00           918\n",
       "133.00           914\n",
       "195.00           912\n",
       "164.00           909\n",
       "              ...   \n",
       "8232.03            1\n",
       "500665.47          1\n",
       "130969.88          1\n",
       "270587.15          1\n",
       "170136.00          1\n",
       "Name: oldbalanceOrg, Length: 1461191, dtype: int64"
      ]
     },
     "execution_count": 48,
     "metadata": {},
     "output_type": "execute_result"
    }
   ],
   "source": [
    "dataset['oldbalanceOrg'].value_counts()"
   ]
  },
  {
   "cell_type": "code",
   "execution_count": 49,
   "id": "5da66cc2",
   "metadata": {
    "execution": {
     "iopub.execute_input": "2022-04-13T16:07:57.300677Z",
     "iopub.status.busy": "2022-04-13T16:07:57.299961Z",
     "iopub.status.idle": "2022-04-13T16:07:57.419326Z",
     "shell.execute_reply": "2022-04-13T16:07:57.418790Z",
     "shell.execute_reply.started": "2022-04-13T15:06:43.561743Z"
    },
    "papermill": {
     "duration": 0.831906,
     "end_time": "2022-04-13T16:07:57.419474",
     "exception": false,
     "start_time": "2022-04-13T16:07:56.587568",
     "status": "completed"
    },
    "tags": []
   },
   "outputs": [
    {
     "data": {
      "text/plain": [
       "0.00         3609402\n",
       "698.06             4\n",
       "3420.22            4\n",
       "15515.98           4\n",
       "5317.90            4\n",
       "              ...   \n",
       "601732.44          1\n",
       "29460.17           1\n",
       "280088.20          1\n",
       "521801.24          1\n",
       "510167.71          1\n",
       "Name: newbalanceOrig, Length: 2297957, dtype: int64"
      ]
     },
     "execution_count": 49,
     "metadata": {},
     "output_type": "execute_result"
    }
   ],
   "source": [
    "dataset['newbalanceOrig'].value_counts()"
   ]
  },
  {
   "cell_type": "code",
   "execution_count": 50,
   "id": "b14c9b91",
   "metadata": {
    "execution": {
     "iopub.execute_input": "2022-04-13T16:07:57.714136Z",
     "iopub.status.busy": "2022-04-13T16:07:57.713342Z",
     "iopub.status.idle": "2022-04-13T16:07:57.980628Z",
     "shell.execute_reply": "2022-04-13T16:07:57.979924Z",
     "shell.execute_reply.started": "2022-04-13T15:06:44.227342Z"
    },
    "papermill": {
     "duration": 0.417228,
     "end_time": "2022-04-13T16:07:57.980777",
     "exception": false,
     "start_time": "2022-04-13T16:07:57.563549",
     "status": "completed"
    },
    "tags": []
   },
   "outputs": [
    {
     "data": {
      "text/html": [
       "<div>\n",
       "<style scoped>\n",
       "    .dataframe tbody tr th:only-of-type {\n",
       "        vertical-align: middle;\n",
       "    }\n",
       "\n",
       "    .dataframe tbody tr th {\n",
       "        vertical-align: top;\n",
       "    }\n",
       "\n",
       "    .dataframe thead th {\n",
       "        text-align: right;\n",
       "    }\n",
       "</style>\n",
       "<table border=\"1\" class=\"dataframe\">\n",
       "  <thead>\n",
       "    <tr style=\"text-align: right;\">\n",
       "      <th></th>\n",
       "      <th>step</th>\n",
       "      <th>type</th>\n",
       "      <th>amount</th>\n",
       "      <th>nameOrig</th>\n",
       "      <th>oldbalanceOrg</th>\n",
       "      <th>newbalanceOrig</th>\n",
       "      <th>nameDest</th>\n",
       "      <th>oldbalanceDest</th>\n",
       "      <th>newbalanceDest</th>\n",
       "      <th>isFraud</th>\n",
       "      <th>isFlaggedFraud</th>\n",
       "    </tr>\n",
       "  </thead>\n",
       "  <tbody>\n",
       "    <tr>\n",
       "      <th>29</th>\n",
       "      <td>1</td>\n",
       "      <td>PAYMENT</td>\n",
       "      <td>9920.52</td>\n",
       "      <td>C764826684</td>\n",
       "      <td>0.0</td>\n",
       "      <td>0.0</td>\n",
       "      <td>M1940055334</td>\n",
       "      <td>521801.835</td>\n",
       "      <td>685824.345</td>\n",
       "      <td>0</td>\n",
       "      <td>0</td>\n",
       "    </tr>\n",
       "    <tr>\n",
       "      <th>30</th>\n",
       "      <td>1</td>\n",
       "      <td>PAYMENT</td>\n",
       "      <td>3448.92</td>\n",
       "      <td>C2103763750</td>\n",
       "      <td>0.0</td>\n",
       "      <td>0.0</td>\n",
       "      <td>M335107734</td>\n",
       "      <td>521801.835</td>\n",
       "      <td>685824.345</td>\n",
       "      <td>0</td>\n",
       "      <td>0</td>\n",
       "    </tr>\n",
       "    <tr>\n",
       "      <th>31</th>\n",
       "      <td>1</td>\n",
       "      <td>PAYMENT</td>\n",
       "      <td>4206.84</td>\n",
       "      <td>C215078753</td>\n",
       "      <td>0.0</td>\n",
       "      <td>0.0</td>\n",
       "      <td>M1757317128</td>\n",
       "      <td>521801.835</td>\n",
       "      <td>685824.345</td>\n",
       "      <td>0</td>\n",
       "      <td>0</td>\n",
       "    </tr>\n",
       "    <tr>\n",
       "      <th>32</th>\n",
       "      <td>1</td>\n",
       "      <td>PAYMENT</td>\n",
       "      <td>5885.56</td>\n",
       "      <td>C840514538</td>\n",
       "      <td>0.0</td>\n",
       "      <td>0.0</td>\n",
       "      <td>M1804441305</td>\n",
       "      <td>521801.835</td>\n",
       "      <td>685824.345</td>\n",
       "      <td>0</td>\n",
       "      <td>0</td>\n",
       "    </tr>\n",
       "    <tr>\n",
       "      <th>33</th>\n",
       "      <td>1</td>\n",
       "      <td>PAYMENT</td>\n",
       "      <td>5307.88</td>\n",
       "      <td>C1768242710</td>\n",
       "      <td>0.0</td>\n",
       "      <td>0.0</td>\n",
       "      <td>M1971783162</td>\n",
       "      <td>521801.835</td>\n",
       "      <td>685824.345</td>\n",
       "      <td>0</td>\n",
       "      <td>0</td>\n",
       "    </tr>\n",
       "    <tr>\n",
       "      <th>...</th>\n",
       "      <td>...</td>\n",
       "      <td>...</td>\n",
       "      <td>...</td>\n",
       "      <td>...</td>\n",
       "      <td>...</td>\n",
       "      <td>...</td>\n",
       "      <td>...</td>\n",
       "      <td>...</td>\n",
       "      <td>...</td>\n",
       "      <td>...</td>\n",
       "      <td>...</td>\n",
       "    </tr>\n",
       "    <tr>\n",
       "      <th>6356052</th>\n",
       "      <td>709</td>\n",
       "      <td>CASH_OUT</td>\n",
       "      <td>123403.11</td>\n",
       "      <td>C1054278487</td>\n",
       "      <td>0.0</td>\n",
       "      <td>0.0</td>\n",
       "      <td>C1948756721</td>\n",
       "      <td>606875.620</td>\n",
       "      <td>730278.740</td>\n",
       "      <td>0</td>\n",
       "      <td>0</td>\n",
       "    </tr>\n",
       "    <tr>\n",
       "      <th>6356244</th>\n",
       "      <td>709</td>\n",
       "      <td>PAYMENT</td>\n",
       "      <td>14499.40</td>\n",
       "      <td>C1009494758</td>\n",
       "      <td>0.0</td>\n",
       "      <td>0.0</td>\n",
       "      <td>M840318507</td>\n",
       "      <td>521801.835</td>\n",
       "      <td>685824.345</td>\n",
       "      <td>0</td>\n",
       "      <td>0</td>\n",
       "    </tr>\n",
       "    <tr>\n",
       "      <th>6362461</th>\n",
       "      <td>730</td>\n",
       "      <td>CASH_OUT</td>\n",
       "      <td>0.00</td>\n",
       "      <td>C729003789</td>\n",
       "      <td>0.0</td>\n",
       "      <td>0.0</td>\n",
       "      <td>C1388096959</td>\n",
       "      <td>1008609.530</td>\n",
       "      <td>1008609.530</td>\n",
       "      <td>1</td>\n",
       "      <td>0</td>\n",
       "    </tr>\n",
       "    <tr>\n",
       "      <th>6362463</th>\n",
       "      <td>730</td>\n",
       "      <td>CASH_OUT</td>\n",
       "      <td>0.00</td>\n",
       "      <td>C2088151490</td>\n",
       "      <td>0.0</td>\n",
       "      <td>0.0</td>\n",
       "      <td>C1156763710</td>\n",
       "      <td>0.000</td>\n",
       "      <td>0.000</td>\n",
       "      <td>1</td>\n",
       "      <td>0</td>\n",
       "    </tr>\n",
       "    <tr>\n",
       "      <th>6362585</th>\n",
       "      <td>741</td>\n",
       "      <td>CASH_OUT</td>\n",
       "      <td>0.00</td>\n",
       "      <td>C312737633</td>\n",
       "      <td>0.0</td>\n",
       "      <td>0.0</td>\n",
       "      <td>C1400061387</td>\n",
       "      <td>267522.870</td>\n",
       "      <td>267522.870</td>\n",
       "      <td>1</td>\n",
       "      <td>0</td>\n",
       "    </tr>\n",
       "  </tbody>\n",
       "</table>\n",
       "<p>2102449 rows × 11 columns</p>\n",
       "</div>"
      ],
      "text/plain": [
       "         step      type     amount     nameOrig  oldbalanceOrg  \\\n",
       "29          1   PAYMENT    9920.52   C764826684            0.0   \n",
       "30          1   PAYMENT    3448.92  C2103763750            0.0   \n",
       "31          1   PAYMENT    4206.84   C215078753            0.0   \n",
       "32          1   PAYMENT    5885.56   C840514538            0.0   \n",
       "33          1   PAYMENT    5307.88  C1768242710            0.0   \n",
       "...       ...       ...        ...          ...            ...   \n",
       "6356052   709  CASH_OUT  123403.11  C1054278487            0.0   \n",
       "6356244   709   PAYMENT   14499.40  C1009494758            0.0   \n",
       "6362461   730  CASH_OUT       0.00   C729003789            0.0   \n",
       "6362463   730  CASH_OUT       0.00  C2088151490            0.0   \n",
       "6362585   741  CASH_OUT       0.00   C312737633            0.0   \n",
       "\n",
       "         newbalanceOrig     nameDest  oldbalanceDest  newbalanceDest  isFraud  \\\n",
       "29                  0.0  M1940055334      521801.835      685824.345        0   \n",
       "30                  0.0   M335107734      521801.835      685824.345        0   \n",
       "31                  0.0  M1757317128      521801.835      685824.345        0   \n",
       "32                  0.0  M1804441305      521801.835      685824.345        0   \n",
       "33                  0.0  M1971783162      521801.835      685824.345        0   \n",
       "...                 ...          ...             ...             ...      ...   \n",
       "6356052             0.0  C1948756721      606875.620      730278.740        0   \n",
       "6356244             0.0   M840318507      521801.835      685824.345        0   \n",
       "6362461             0.0  C1388096959     1008609.530     1008609.530        1   \n",
       "6362463             0.0  C1156763710           0.000           0.000        1   \n",
       "6362585             0.0  C1400061387      267522.870      267522.870        1   \n",
       "\n",
       "         isFlaggedFraud  \n",
       "29                    0  \n",
       "30                    0  \n",
       "31                    0  \n",
       "32                    0  \n",
       "33                    0  \n",
       "...                 ...  \n",
       "6356052               0  \n",
       "6356244               0  \n",
       "6362461               0  \n",
       "6362463               0  \n",
       "6362585               0  \n",
       "\n",
       "[2102449 rows x 11 columns]"
      ]
     },
     "execution_count": 50,
     "metadata": {},
     "output_type": "execute_result"
    }
   ],
   "source": [
    "dataset.loc[dataset['oldbalanceOrg'] == 0.0, :]"
   ]
  },
  {
   "cell_type": "code",
   "execution_count": 51,
   "id": "6dc69dba",
   "metadata": {
    "execution": {
     "iopub.execute_input": "2022-04-13T16:07:58.275272Z",
     "iopub.status.busy": "2022-04-13T16:07:58.274643Z",
     "iopub.status.idle": "2022-04-13T16:07:58.648674Z",
     "shell.execute_reply": "2022-04-13T16:07:58.648079Z",
     "shell.execute_reply.started": "2022-04-13T15:06:44.488122Z"
    },
    "papermill": {
     "duration": 0.52141,
     "end_time": "2022-04-13T16:07:58.648829",
     "exception": false,
     "start_time": "2022-04-13T16:07:58.127419",
     "status": "completed"
    },
    "tags": []
   },
   "outputs": [
    {
     "data": {
      "text/html": [
       "<div>\n",
       "<style scoped>\n",
       "    .dataframe tbody tr th:only-of-type {\n",
       "        vertical-align: middle;\n",
       "    }\n",
       "\n",
       "    .dataframe tbody tr th {\n",
       "        vertical-align: top;\n",
       "    }\n",
       "\n",
       "    .dataframe thead th {\n",
       "        text-align: right;\n",
       "    }\n",
       "</style>\n",
       "<table border=\"1\" class=\"dataframe\">\n",
       "  <thead>\n",
       "    <tr style=\"text-align: right;\">\n",
       "      <th></th>\n",
       "      <th>step</th>\n",
       "      <th>type</th>\n",
       "      <th>amount</th>\n",
       "      <th>nameOrig</th>\n",
       "      <th>oldbalanceOrg</th>\n",
       "      <th>newbalanceOrig</th>\n",
       "      <th>nameDest</th>\n",
       "      <th>oldbalanceDest</th>\n",
       "      <th>newbalanceDest</th>\n",
       "      <th>isFraud</th>\n",
       "      <th>isFlaggedFraud</th>\n",
       "    </tr>\n",
       "  </thead>\n",
       "  <tbody>\n",
       "    <tr>\n",
       "      <th>2</th>\n",
       "      <td>1</td>\n",
       "      <td>TRANSFER</td>\n",
       "      <td>181.00</td>\n",
       "      <td>C1305486145</td>\n",
       "      <td>181.00</td>\n",
       "      <td>0.0</td>\n",
       "      <td>C553264065</td>\n",
       "      <td>0.000</td>\n",
       "      <td>0.000</td>\n",
       "      <td>1</td>\n",
       "      <td>0</td>\n",
       "    </tr>\n",
       "    <tr>\n",
       "      <th>3</th>\n",
       "      <td>1</td>\n",
       "      <td>CASH_OUT</td>\n",
       "      <td>181.00</td>\n",
       "      <td>C840083671</td>\n",
       "      <td>181.00</td>\n",
       "      <td>0.0</td>\n",
       "      <td>C38997010</td>\n",
       "      <td>21182.000</td>\n",
       "      <td>0.000</td>\n",
       "      <td>1</td>\n",
       "      <td>0</td>\n",
       "    </tr>\n",
       "    <tr>\n",
       "      <th>8</th>\n",
       "      <td>1</td>\n",
       "      <td>PAYMENT</td>\n",
       "      <td>4024.36</td>\n",
       "      <td>C1265012928</td>\n",
       "      <td>2671.00</td>\n",
       "      <td>0.0</td>\n",
       "      <td>M1176932104</td>\n",
       "      <td>521801.835</td>\n",
       "      <td>685824.345</td>\n",
       "      <td>0</td>\n",
       "      <td>0</td>\n",
       "    </tr>\n",
       "    <tr>\n",
       "      <th>10</th>\n",
       "      <td>1</td>\n",
       "      <td>DEBIT</td>\n",
       "      <td>9644.94</td>\n",
       "      <td>C1900366749</td>\n",
       "      <td>4465.00</td>\n",
       "      <td>0.0</td>\n",
       "      <td>C997608398</td>\n",
       "      <td>10845.000</td>\n",
       "      <td>157982.120</td>\n",
       "      <td>0</td>\n",
       "      <td>0</td>\n",
       "    </tr>\n",
       "    <tr>\n",
       "      <th>13</th>\n",
       "      <td>1</td>\n",
       "      <td>PAYMENT</td>\n",
       "      <td>11633.76</td>\n",
       "      <td>C1716932897</td>\n",
       "      <td>10127.00</td>\n",
       "      <td>0.0</td>\n",
       "      <td>M801569151</td>\n",
       "      <td>521801.835</td>\n",
       "      <td>685824.345</td>\n",
       "      <td>0</td>\n",
       "      <td>0</td>\n",
       "    </tr>\n",
       "    <tr>\n",
       "      <th>...</th>\n",
       "      <td>...</td>\n",
       "      <td>...</td>\n",
       "      <td>...</td>\n",
       "      <td>...</td>\n",
       "      <td>...</td>\n",
       "      <td>...</td>\n",
       "      <td>...</td>\n",
       "      <td>...</td>\n",
       "      <td>...</td>\n",
       "      <td>...</td>\n",
       "      <td>...</td>\n",
       "    </tr>\n",
       "    <tr>\n",
       "      <th>6362615</th>\n",
       "      <td>743</td>\n",
       "      <td>CASH_OUT</td>\n",
       "      <td>339682.13</td>\n",
       "      <td>C786484425</td>\n",
       "      <td>339682.13</td>\n",
       "      <td>0.0</td>\n",
       "      <td>C776919290</td>\n",
       "      <td>0.000</td>\n",
       "      <td>339682.130</td>\n",
       "      <td>1</td>\n",
       "      <td>0</td>\n",
       "    </tr>\n",
       "    <tr>\n",
       "      <th>6362616</th>\n",
       "      <td>743</td>\n",
       "      <td>TRANSFER</td>\n",
       "      <td>6311409.28</td>\n",
       "      <td>C1529008245</td>\n",
       "      <td>6311409.28</td>\n",
       "      <td>0.0</td>\n",
       "      <td>C1881841831</td>\n",
       "      <td>0.000</td>\n",
       "      <td>0.000</td>\n",
       "      <td>1</td>\n",
       "      <td>0</td>\n",
       "    </tr>\n",
       "    <tr>\n",
       "      <th>6362617</th>\n",
       "      <td>743</td>\n",
       "      <td>CASH_OUT</td>\n",
       "      <td>6311409.28</td>\n",
       "      <td>C1162922333</td>\n",
       "      <td>6311409.28</td>\n",
       "      <td>0.0</td>\n",
       "      <td>C1365125890</td>\n",
       "      <td>68488.840</td>\n",
       "      <td>6379898.110</td>\n",
       "      <td>1</td>\n",
       "      <td>0</td>\n",
       "    </tr>\n",
       "    <tr>\n",
       "      <th>6362618</th>\n",
       "      <td>743</td>\n",
       "      <td>TRANSFER</td>\n",
       "      <td>850002.52</td>\n",
       "      <td>C1685995037</td>\n",
       "      <td>850002.52</td>\n",
       "      <td>0.0</td>\n",
       "      <td>C2080388513</td>\n",
       "      <td>0.000</td>\n",
       "      <td>0.000</td>\n",
       "      <td>1</td>\n",
       "      <td>0</td>\n",
       "    </tr>\n",
       "    <tr>\n",
       "      <th>6362619</th>\n",
       "      <td>743</td>\n",
       "      <td>CASH_OUT</td>\n",
       "      <td>850002.52</td>\n",
       "      <td>C1280323807</td>\n",
       "      <td>850002.52</td>\n",
       "      <td>0.0</td>\n",
       "      <td>C873221189</td>\n",
       "      <td>6510099.110</td>\n",
       "      <td>7360101.630</td>\n",
       "      <td>1</td>\n",
       "      <td>0</td>\n",
       "    </tr>\n",
       "  </tbody>\n",
       "</table>\n",
       "<p>3609402 rows × 11 columns</p>\n",
       "</div>"
      ],
      "text/plain": [
       "         step      type      amount     nameOrig  oldbalanceOrg  \\\n",
       "2           1  TRANSFER      181.00  C1305486145         181.00   \n",
       "3           1  CASH_OUT      181.00   C840083671         181.00   \n",
       "8           1   PAYMENT     4024.36  C1265012928        2671.00   \n",
       "10          1     DEBIT     9644.94  C1900366749        4465.00   \n",
       "13          1   PAYMENT    11633.76  C1716932897       10127.00   \n",
       "...       ...       ...         ...          ...            ...   \n",
       "6362615   743  CASH_OUT   339682.13   C786484425      339682.13   \n",
       "6362616   743  TRANSFER  6311409.28  C1529008245     6311409.28   \n",
       "6362617   743  CASH_OUT  6311409.28  C1162922333     6311409.28   \n",
       "6362618   743  TRANSFER   850002.52  C1685995037      850002.52   \n",
       "6362619   743  CASH_OUT   850002.52  C1280323807      850002.52   \n",
       "\n",
       "         newbalanceOrig     nameDest  oldbalanceDest  newbalanceDest  isFraud  \\\n",
       "2                   0.0   C553264065           0.000           0.000        1   \n",
       "3                   0.0    C38997010       21182.000           0.000        1   \n",
       "8                   0.0  M1176932104      521801.835      685824.345        0   \n",
       "10                  0.0   C997608398       10845.000      157982.120        0   \n",
       "13                  0.0   M801569151      521801.835      685824.345        0   \n",
       "...                 ...          ...             ...             ...      ...   \n",
       "6362615             0.0   C776919290           0.000      339682.130        1   \n",
       "6362616             0.0  C1881841831           0.000           0.000        1   \n",
       "6362617             0.0  C1365125890       68488.840     6379898.110        1   \n",
       "6362618             0.0  C2080388513           0.000           0.000        1   \n",
       "6362619             0.0   C873221189     6510099.110     7360101.630        1   \n",
       "\n",
       "         isFlaggedFraud  \n",
       "2                     0  \n",
       "3                     0  \n",
       "8                     0  \n",
       "10                    0  \n",
       "13                    0  \n",
       "...                 ...  \n",
       "6362615               0  \n",
       "6362616               0  \n",
       "6362617               0  \n",
       "6362618               0  \n",
       "6362619               0  \n",
       "\n",
       "[3609402 rows x 11 columns]"
      ]
     },
     "execution_count": 51,
     "metadata": {},
     "output_type": "execute_result"
    }
   ],
   "source": [
    "dataset.loc[dataset['newbalanceOrig'] == 0.0, :]"
   ]
  },
  {
   "cell_type": "markdown",
   "id": "42197eeb",
   "metadata": {
    "papermill": {
     "duration": 0.148553,
     "end_time": "2022-04-13T16:07:58.944835",
     "exception": false,
     "start_time": "2022-04-13T16:07:58.796282",
     "status": "completed"
    },
    "tags": []
   },
   "source": [
    "Grouping these zero values of 'oldbalanceOrg' with type feature"
   ]
  },
  {
   "cell_type": "code",
   "execution_count": 52,
   "id": "fa4df69a",
   "metadata": {
    "execution": {
     "iopub.execute_input": "2022-04-13T16:07:59.241644Z",
     "iopub.status.busy": "2022-04-13T16:07:59.240603Z",
     "iopub.status.idle": "2022-04-13T16:07:59.777843Z",
     "shell.execute_reply": "2022-04-13T16:07:59.777097Z",
     "shell.execute_reply.started": "2022-04-13T15:06:44.862429Z"
    },
    "papermill": {
     "duration": 0.68691,
     "end_time": "2022-04-13T16:07:59.778003",
     "exception": false,
     "start_time": "2022-04-13T16:07:59.091093",
     "status": "completed"
    },
    "tags": []
   },
   "outputs": [
    {
     "data": {
      "text/plain": [
       "type\n",
       "CASH_IN       13464\n",
       "CASH_OUT    1025799\n",
       "DEBIT          6158\n",
       "PAYMENT      774245\n",
       "TRANSFER     282783\n",
       "dtype: int64"
      ]
     },
     "execution_count": 52,
     "metadata": {},
     "output_type": "execute_result"
    }
   ],
   "source": [
    "dataset.loc[dataset['oldbalanceOrg'] == 0, :].groupby(['type']).size()"
   ]
  },
  {
   "cell_type": "markdown",
   "id": "63d5f964",
   "metadata": {
    "papermill": {
     "duration": 0.144258,
     "end_time": "2022-04-13T16:08:00.069695",
     "exception": false,
     "start_time": "2022-04-13T16:07:59.925437",
     "status": "completed"
    },
    "tags": []
   },
   "source": [
    "Doing the same with 'newbalanceOrig'"
   ]
  },
  {
   "cell_type": "code",
   "execution_count": 53,
   "id": "655bef1c",
   "metadata": {
    "execution": {
     "iopub.execute_input": "2022-04-13T16:08:00.365217Z",
     "iopub.status.busy": "2022-04-13T16:08:00.364582Z",
     "iopub.status.idle": "2022-04-13T16:08:01.189838Z",
     "shell.execute_reply": "2022-04-13T16:08:01.189139Z",
     "shell.execute_reply.started": "2022-04-13T15:06:45.398149Z"
    },
    "papermill": {
     "duration": 0.973807,
     "end_time": "2022-04-13T16:08:01.189989",
     "exception": false,
     "start_time": "2022-04-13T16:08:00.216182",
     "status": "completed"
    },
    "tags": []
   },
   "outputs": [
    {
     "data": {
      "text/plain": [
       "type\n",
       "CASH_OUT    1985058\n",
       "DEBIT         11786\n",
       "PAYMENT     1101124\n",
       "TRANSFER     511434\n",
       "dtype: int64"
      ]
     },
     "execution_count": 53,
     "metadata": {},
     "output_type": "execute_result"
    }
   ],
   "source": [
    "dataset.loc[dataset['newbalanceOrig'] == 0, :].groupby(['type']).size()"
   ]
  },
  {
   "cell_type": "code",
   "execution_count": 54,
   "id": "e2c86e69",
   "metadata": {
    "execution": {
     "iopub.execute_input": "2022-04-13T16:08:01.508073Z",
     "iopub.status.busy": "2022-04-13T16:08:01.494205Z",
     "iopub.status.idle": "2022-04-13T16:08:01.512825Z",
     "shell.execute_reply": "2022-04-13T16:08:01.512178Z",
     "shell.execute_reply.started": "2022-04-13T15:06:46.215267Z"
    },
    "papermill": {
     "duration": 0.175083,
     "end_time": "2022-04-13T16:08:01.512976",
     "exception": false,
     "start_time": "2022-04-13T16:08:01.337893",
     "status": "completed"
    },
    "tags": []
   },
   "outputs": [
    {
     "data": {
      "text/html": [
       "<div>\n",
       "<style scoped>\n",
       "    .dataframe tbody tr th:only-of-type {\n",
       "        vertical-align: middle;\n",
       "    }\n",
       "\n",
       "    .dataframe tbody tr th {\n",
       "        vertical-align: top;\n",
       "    }\n",
       "\n",
       "    .dataframe thead th {\n",
       "        text-align: right;\n",
       "    }\n",
       "</style>\n",
       "<table border=\"1\" class=\"dataframe\">\n",
       "  <thead>\n",
       "    <tr style=\"text-align: right;\">\n",
       "      <th></th>\n",
       "      <th>step</th>\n",
       "      <th>type</th>\n",
       "      <th>amount</th>\n",
       "      <th>nameOrig</th>\n",
       "      <th>oldbalanceOrg</th>\n",
       "      <th>newbalanceOrig</th>\n",
       "      <th>nameDest</th>\n",
       "      <th>oldbalanceDest</th>\n",
       "      <th>newbalanceDest</th>\n",
       "      <th>isFraud</th>\n",
       "      <th>isFlaggedFraud</th>\n",
       "    </tr>\n",
       "  </thead>\n",
       "  <tbody>\n",
       "    <tr>\n",
       "      <th>0</th>\n",
       "      <td>1</td>\n",
       "      <td>PAYMENT</td>\n",
       "      <td>9839.64</td>\n",
       "      <td>C1231006815</td>\n",
       "      <td>170136.0</td>\n",
       "      <td>160296.36</td>\n",
       "      <td>M1979787155</td>\n",
       "      <td>521801.835</td>\n",
       "      <td>685824.345</td>\n",
       "      <td>0</td>\n",
       "      <td>0</td>\n",
       "    </tr>\n",
       "    <tr>\n",
       "      <th>1</th>\n",
       "      <td>1</td>\n",
       "      <td>PAYMENT</td>\n",
       "      <td>1864.28</td>\n",
       "      <td>C1666544295</td>\n",
       "      <td>21249.0</td>\n",
       "      <td>19384.72</td>\n",
       "      <td>M2044282225</td>\n",
       "      <td>521801.835</td>\n",
       "      <td>685824.345</td>\n",
       "      <td>0</td>\n",
       "      <td>0</td>\n",
       "    </tr>\n",
       "    <tr>\n",
       "      <th>2</th>\n",
       "      <td>1</td>\n",
       "      <td>TRANSFER</td>\n",
       "      <td>181.00</td>\n",
       "      <td>C1305486145</td>\n",
       "      <td>181.0</td>\n",
       "      <td>0.00</td>\n",
       "      <td>C553264065</td>\n",
       "      <td>0.000</td>\n",
       "      <td>0.000</td>\n",
       "      <td>1</td>\n",
       "      <td>0</td>\n",
       "    </tr>\n",
       "    <tr>\n",
       "      <th>3</th>\n",
       "      <td>1</td>\n",
       "      <td>CASH_OUT</td>\n",
       "      <td>181.00</td>\n",
       "      <td>C840083671</td>\n",
       "      <td>181.0</td>\n",
       "      <td>0.00</td>\n",
       "      <td>C38997010</td>\n",
       "      <td>21182.000</td>\n",
       "      <td>0.000</td>\n",
       "      <td>1</td>\n",
       "      <td>0</td>\n",
       "    </tr>\n",
       "    <tr>\n",
       "      <th>4</th>\n",
       "      <td>1</td>\n",
       "      <td>PAYMENT</td>\n",
       "      <td>11668.14</td>\n",
       "      <td>C2048537720</td>\n",
       "      <td>41554.0</td>\n",
       "      <td>29885.86</td>\n",
       "      <td>M1230701703</td>\n",
       "      <td>521801.835</td>\n",
       "      <td>685824.345</td>\n",
       "      <td>0</td>\n",
       "      <td>0</td>\n",
       "    </tr>\n",
       "  </tbody>\n",
       "</table>\n",
       "</div>"
      ],
      "text/plain": [
       "   step      type    amount     nameOrig  oldbalanceOrg  newbalanceOrig  \\\n",
       "0     1   PAYMENT   9839.64  C1231006815       170136.0       160296.36   \n",
       "1     1   PAYMENT   1864.28  C1666544295        21249.0        19384.72   \n",
       "2     1  TRANSFER    181.00  C1305486145          181.0            0.00   \n",
       "3     1  CASH_OUT    181.00   C840083671          181.0            0.00   \n",
       "4     1   PAYMENT  11668.14  C2048537720        41554.0        29885.86   \n",
       "\n",
       "      nameDest  oldbalanceDest  newbalanceDest  isFraud  isFlaggedFraud  \n",
       "0  M1979787155      521801.835      685824.345        0               0  \n",
       "1  M2044282225      521801.835      685824.345        0               0  \n",
       "2   C553264065           0.000           0.000        1               0  \n",
       "3    C38997010       21182.000           0.000        1               0  \n",
       "4  M1230701703      521801.835      685824.345        0               0  "
      ]
     },
     "execution_count": 54,
     "metadata": {},
     "output_type": "execute_result"
    }
   ],
   "source": [
    "dataset.head()"
   ]
  },
  {
   "cell_type": "markdown",
   "id": "debc3647",
   "metadata": {
    "papermill": {
     "duration": 0.152213,
     "end_time": "2022-04-13T16:08:01.816898",
     "exception": false,
     "start_time": "2022-04-13T16:08:01.664685",
     "status": "completed"
    },
    "tags": []
   },
   "source": [
    "We are seeing a lot of 0.0 values this might be actually zero or these can be missing values, we will need to impute them if that is the case, but for now let's treat them actual 0.0s"
   ]
  },
  {
   "cell_type": "markdown",
   "id": "49b5c5d3",
   "metadata": {
    "papermill": {
     "duration": 0.148298,
     "end_time": "2022-04-13T16:08:02.115775",
     "exception": false,
     "start_time": "2022-04-13T16:08:01.967477",
     "status": "completed"
    },
    "tags": []
   },
   "source": [
    "Checking the correlation of these zero values with the customer ID"
   ]
  },
  {
   "cell_type": "code",
   "execution_count": 55,
   "id": "5695ed54",
   "metadata": {
    "execution": {
     "iopub.execute_input": "2022-04-13T16:08:02.420904Z",
     "iopub.status.busy": "2022-04-13T16:08:02.419854Z",
     "iopub.status.idle": "2022-04-13T16:08:06.105060Z",
     "shell.execute_reply": "2022-04-13T16:08:06.104480Z",
     "shell.execute_reply.started": "2022-04-13T15:06:46.234360Z"
    },
    "papermill": {
     "duration": 3.839156,
     "end_time": "2022-04-13T16:08:06.105224",
     "exception": false,
     "start_time": "2022-04-13T16:08:02.266068",
     "status": "completed"
    },
    "tags": []
   },
   "outputs": [
    {
     "data": {
      "text/html": [
       "<div>\n",
       "<style scoped>\n",
       "    .dataframe tbody tr th:only-of-type {\n",
       "        vertical-align: middle;\n",
       "    }\n",
       "\n",
       "    .dataframe tbody tr th {\n",
       "        vertical-align: top;\n",
       "    }\n",
       "\n",
       "    .dataframe thead th {\n",
       "        text-align: right;\n",
       "    }\n",
       "</style>\n",
       "<table border=\"1\" class=\"dataframe\">\n",
       "  <thead>\n",
       "    <tr style=\"text-align: right;\">\n",
       "      <th></th>\n",
       "      <th>step</th>\n",
       "      <th>type</th>\n",
       "      <th>amount</th>\n",
       "      <th>nameOrig</th>\n",
       "      <th>oldbalanceOrg</th>\n",
       "      <th>newbalanceOrig</th>\n",
       "      <th>nameDest</th>\n",
       "      <th>oldbalanceDest</th>\n",
       "      <th>newbalanceDest</th>\n",
       "      <th>isFraud</th>\n",
       "      <th>isFlaggedFraud</th>\n",
       "    </tr>\n",
       "  </thead>\n",
       "  <tbody>\n",
       "    <tr>\n",
       "      <th>29</th>\n",
       "      <td>1</td>\n",
       "      <td>PAYMENT</td>\n",
       "      <td>9920.52</td>\n",
       "      <td>C764826684</td>\n",
       "      <td>0.0</td>\n",
       "      <td>0.0</td>\n",
       "      <td>M1940055334</td>\n",
       "      <td>521801.835</td>\n",
       "      <td>685824.345</td>\n",
       "      <td>0</td>\n",
       "      <td>0</td>\n",
       "    </tr>\n",
       "    <tr>\n",
       "      <th>30</th>\n",
       "      <td>1</td>\n",
       "      <td>PAYMENT</td>\n",
       "      <td>3448.92</td>\n",
       "      <td>C2103763750</td>\n",
       "      <td>0.0</td>\n",
       "      <td>0.0</td>\n",
       "      <td>M335107734</td>\n",
       "      <td>521801.835</td>\n",
       "      <td>685824.345</td>\n",
       "      <td>0</td>\n",
       "      <td>0</td>\n",
       "    </tr>\n",
       "    <tr>\n",
       "      <th>31</th>\n",
       "      <td>1</td>\n",
       "      <td>PAYMENT</td>\n",
       "      <td>4206.84</td>\n",
       "      <td>C215078753</td>\n",
       "      <td>0.0</td>\n",
       "      <td>0.0</td>\n",
       "      <td>M1757317128</td>\n",
       "      <td>521801.835</td>\n",
       "      <td>685824.345</td>\n",
       "      <td>0</td>\n",
       "      <td>0</td>\n",
       "    </tr>\n",
       "    <tr>\n",
       "      <th>32</th>\n",
       "      <td>1</td>\n",
       "      <td>PAYMENT</td>\n",
       "      <td>5885.56</td>\n",
       "      <td>C840514538</td>\n",
       "      <td>0.0</td>\n",
       "      <td>0.0</td>\n",
       "      <td>M1804441305</td>\n",
       "      <td>521801.835</td>\n",
       "      <td>685824.345</td>\n",
       "      <td>0</td>\n",
       "      <td>0</td>\n",
       "    </tr>\n",
       "    <tr>\n",
       "      <th>33</th>\n",
       "      <td>1</td>\n",
       "      <td>PAYMENT</td>\n",
       "      <td>5307.88</td>\n",
       "      <td>C1768242710</td>\n",
       "      <td>0.0</td>\n",
       "      <td>0.0</td>\n",
       "      <td>M1971783162</td>\n",
       "      <td>521801.835</td>\n",
       "      <td>685824.345</td>\n",
       "      <td>0</td>\n",
       "      <td>0</td>\n",
       "    </tr>\n",
       "    <tr>\n",
       "      <th>...</th>\n",
       "      <td>...</td>\n",
       "      <td>...</td>\n",
       "      <td>...</td>\n",
       "      <td>...</td>\n",
       "      <td>...</td>\n",
       "      <td>...</td>\n",
       "      <td>...</td>\n",
       "      <td>...</td>\n",
       "      <td>...</td>\n",
       "      <td>...</td>\n",
       "      <td>...</td>\n",
       "    </tr>\n",
       "    <tr>\n",
       "      <th>6356052</th>\n",
       "      <td>709</td>\n",
       "      <td>CASH_OUT</td>\n",
       "      <td>123403.11</td>\n",
       "      <td>C1054278487</td>\n",
       "      <td>0.0</td>\n",
       "      <td>0.0</td>\n",
       "      <td>C1948756721</td>\n",
       "      <td>606875.620</td>\n",
       "      <td>730278.740</td>\n",
       "      <td>0</td>\n",
       "      <td>0</td>\n",
       "    </tr>\n",
       "    <tr>\n",
       "      <th>6356244</th>\n",
       "      <td>709</td>\n",
       "      <td>PAYMENT</td>\n",
       "      <td>14499.40</td>\n",
       "      <td>C1009494758</td>\n",
       "      <td>0.0</td>\n",
       "      <td>0.0</td>\n",
       "      <td>M840318507</td>\n",
       "      <td>521801.835</td>\n",
       "      <td>685824.345</td>\n",
       "      <td>0</td>\n",
       "      <td>0</td>\n",
       "    </tr>\n",
       "    <tr>\n",
       "      <th>6362461</th>\n",
       "      <td>730</td>\n",
       "      <td>CASH_OUT</td>\n",
       "      <td>0.00</td>\n",
       "      <td>C729003789</td>\n",
       "      <td>0.0</td>\n",
       "      <td>0.0</td>\n",
       "      <td>C1388096959</td>\n",
       "      <td>1008609.530</td>\n",
       "      <td>1008609.530</td>\n",
       "      <td>1</td>\n",
       "      <td>0</td>\n",
       "    </tr>\n",
       "    <tr>\n",
       "      <th>6362463</th>\n",
       "      <td>730</td>\n",
       "      <td>CASH_OUT</td>\n",
       "      <td>0.00</td>\n",
       "      <td>C2088151490</td>\n",
       "      <td>0.0</td>\n",
       "      <td>0.0</td>\n",
       "      <td>C1156763710</td>\n",
       "      <td>0.000</td>\n",
       "      <td>0.000</td>\n",
       "      <td>1</td>\n",
       "      <td>0</td>\n",
       "    </tr>\n",
       "    <tr>\n",
       "      <th>6362585</th>\n",
       "      <td>741</td>\n",
       "      <td>CASH_OUT</td>\n",
       "      <td>0.00</td>\n",
       "      <td>C312737633</td>\n",
       "      <td>0.0</td>\n",
       "      <td>0.0</td>\n",
       "      <td>C1400061387</td>\n",
       "      <td>267522.870</td>\n",
       "      <td>267522.870</td>\n",
       "      <td>1</td>\n",
       "      <td>0</td>\n",
       "    </tr>\n",
       "  </tbody>\n",
       "</table>\n",
       "<p>2102449 rows × 11 columns</p>\n",
       "</div>"
      ],
      "text/plain": [
       "         step      type     amount     nameOrig  oldbalanceOrg  \\\n",
       "29          1   PAYMENT    9920.52   C764826684            0.0   \n",
       "30          1   PAYMENT    3448.92  C2103763750            0.0   \n",
       "31          1   PAYMENT    4206.84   C215078753            0.0   \n",
       "32          1   PAYMENT    5885.56   C840514538            0.0   \n",
       "33          1   PAYMENT    5307.88  C1768242710            0.0   \n",
       "...       ...       ...        ...          ...            ...   \n",
       "6356052   709  CASH_OUT  123403.11  C1054278487            0.0   \n",
       "6356244   709   PAYMENT   14499.40  C1009494758            0.0   \n",
       "6362461   730  CASH_OUT       0.00   C729003789            0.0   \n",
       "6362463   730  CASH_OUT       0.00  C2088151490            0.0   \n",
       "6362585   741  CASH_OUT       0.00   C312737633            0.0   \n",
       "\n",
       "         newbalanceOrig     nameDest  oldbalanceDest  newbalanceDest  isFraud  \\\n",
       "29                  0.0  M1940055334      521801.835      685824.345        0   \n",
       "30                  0.0   M335107734      521801.835      685824.345        0   \n",
       "31                  0.0  M1757317128      521801.835      685824.345        0   \n",
       "32                  0.0  M1804441305      521801.835      685824.345        0   \n",
       "33                  0.0  M1971783162      521801.835      685824.345        0   \n",
       "...                 ...          ...             ...             ...      ...   \n",
       "6356052             0.0  C1948756721      606875.620      730278.740        0   \n",
       "6356244             0.0   M840318507      521801.835      685824.345        0   \n",
       "6362461             0.0  C1388096959     1008609.530     1008609.530        1   \n",
       "6362463             0.0  C1156763710           0.000           0.000        1   \n",
       "6362585             0.0  C1400061387      267522.870      267522.870        1   \n",
       "\n",
       "         isFlaggedFraud  \n",
       "29                    0  \n",
       "30                    0  \n",
       "31                    0  \n",
       "32                    0  \n",
       "33                    0  \n",
       "...                 ...  \n",
       "6356052               0  \n",
       "6356244               0  \n",
       "6362461               0  \n",
       "6362463               0  \n",
       "6362585               0  \n",
       "\n",
       "[2102449 rows x 11 columns]"
      ]
     },
     "execution_count": 55,
     "metadata": {},
     "output_type": "execute_result"
    }
   ],
   "source": [
    "dataset.loc[(dataset['oldbalanceOrg'] == 0) & (dataset['nameOrig'].str.startswith('C')), :]"
   ]
  },
  {
   "cell_type": "markdown",
   "id": "e5b712e8",
   "metadata": {
    "papermill": {
     "duration": 0.146544,
     "end_time": "2022-04-13T16:08:06.403451",
     "exception": false,
     "start_time": "2022-04-13T16:08:06.256907",
     "status": "completed"
    },
    "tags": []
   },
   "source": [
    "There are a lot of 0.0 values with customers who have ID starting with 'C's, we will have to check this out. This is true for both columns for 'oldbalanceOrg' and 'newbalanceOrig'. Seems like there isn't a single value in these columns which is zero and have IDs starting with 'M'"
   ]
  },
  {
   "cell_type": "markdown",
   "id": "dd9acf1a",
   "metadata": {
    "papermill": {
     "duration": 0.155216,
     "end_time": "2022-04-13T16:08:06.706802",
     "exception": false,
     "start_time": "2022-04-13T16:08:06.551586",
     "status": "completed"
    },
    "tags": []
   },
   "source": [
    "Lets check this out for each of the different types"
   ]
  },
  {
   "cell_type": "code",
   "execution_count": 56,
   "id": "ac184fbd",
   "metadata": {
    "execution": {
     "iopub.execute_input": "2022-04-13T16:08:07.031107Z",
     "iopub.status.busy": "2022-04-13T16:08:07.030325Z",
     "iopub.status.idle": "2022-04-13T16:08:10.254374Z",
     "shell.execute_reply": "2022-04-13T16:08:10.253850Z",
     "shell.execute_reply.started": "2022-04-13T15:06:49.960133Z"
    },
    "papermill": {
     "duration": 3.396739,
     "end_time": "2022-04-13T16:08:10.254529",
     "exception": false,
     "start_time": "2022-04-13T16:08:06.857790",
     "status": "completed"
    },
    "tags": []
   },
   "outputs": [
    {
     "data": {
      "text/html": [
       "<div>\n",
       "<style scoped>\n",
       "    .dataframe tbody tr th:only-of-type {\n",
       "        vertical-align: middle;\n",
       "    }\n",
       "\n",
       "    .dataframe tbody tr th {\n",
       "        vertical-align: top;\n",
       "    }\n",
       "\n",
       "    .dataframe thead th {\n",
       "        text-align: right;\n",
       "    }\n",
       "</style>\n",
       "<table border=\"1\" class=\"dataframe\">\n",
       "  <thead>\n",
       "    <tr style=\"text-align: right;\">\n",
       "      <th>type</th>\n",
       "      <th>CASH_IN</th>\n",
       "      <th>CASH_OUT</th>\n",
       "      <th>DEBIT</th>\n",
       "      <th>PAYMENT</th>\n",
       "      <th>TRANSFER</th>\n",
       "    </tr>\n",
       "    <tr>\n",
       "      <th>isFraud</th>\n",
       "      <th></th>\n",
       "      <th></th>\n",
       "      <th></th>\n",
       "      <th></th>\n",
       "      <th></th>\n",
       "    </tr>\n",
       "  </thead>\n",
       "  <tbody>\n",
       "    <tr>\n",
       "      <th>0</th>\n",
       "      <td>13464.0</td>\n",
       "      <td>1025762.0</td>\n",
       "      <td>6158.0</td>\n",
       "      <td>774245.0</td>\n",
       "      <td>282779.0</td>\n",
       "    </tr>\n",
       "    <tr>\n",
       "      <th>1</th>\n",
       "      <td>NaN</td>\n",
       "      <td>37.0</td>\n",
       "      <td>NaN</td>\n",
       "      <td>NaN</td>\n",
       "      <td>4.0</td>\n",
       "    </tr>\n",
       "  </tbody>\n",
       "</table>\n",
       "</div>"
      ],
      "text/plain": [
       "type     CASH_IN   CASH_OUT   DEBIT   PAYMENT  TRANSFER\n",
       "isFraud                                                \n",
       "0        13464.0  1025762.0  6158.0  774245.0  282779.0\n",
       "1            NaN       37.0     NaN       NaN       4.0"
      ]
     },
     "execution_count": 56,
     "metadata": {},
     "output_type": "execute_result"
    }
   ],
   "source": [
    "dataset.loc[(dataset['oldbalanceOrg'] == 0) & (dataset['nameOrig'].str.startswith('C')), :].groupby([target, 'type']).size().unstack()\n"
   ]
  },
  {
   "cell_type": "code",
   "execution_count": 57,
   "id": "05aa79a7",
   "metadata": {
    "execution": {
     "iopub.execute_input": "2022-04-13T16:08:10.551980Z",
     "iopub.status.busy": "2022-04-13T16:08:10.551304Z",
     "iopub.status.idle": "2022-04-13T16:08:14.094331Z",
     "shell.execute_reply": "2022-04-13T16:08:14.093777Z",
     "shell.execute_reply.started": "2022-04-13T15:06:53.174746Z"
    },
    "papermill": {
     "duration": 3.692953,
     "end_time": "2022-04-13T16:08:14.094474",
     "exception": false,
     "start_time": "2022-04-13T16:08:10.401521",
     "status": "completed"
    },
    "tags": []
   },
   "outputs": [
    {
     "data": {
      "text/html": [
       "<div>\n",
       "<style scoped>\n",
       "    .dataframe tbody tr th:only-of-type {\n",
       "        vertical-align: middle;\n",
       "    }\n",
       "\n",
       "    .dataframe tbody tr th {\n",
       "        vertical-align: top;\n",
       "    }\n",
       "\n",
       "    .dataframe thead th {\n",
       "        text-align: right;\n",
       "    }\n",
       "</style>\n",
       "<table border=\"1\" class=\"dataframe\">\n",
       "  <thead>\n",
       "    <tr style=\"text-align: right;\">\n",
       "      <th>type</th>\n",
       "      <th>CASH_OUT</th>\n",
       "      <th>DEBIT</th>\n",
       "      <th>PAYMENT</th>\n",
       "      <th>TRANSFER</th>\n",
       "    </tr>\n",
       "    <tr>\n",
       "      <th>isFraud</th>\n",
       "      <th></th>\n",
       "      <th></th>\n",
       "      <th></th>\n",
       "      <th></th>\n",
       "    </tr>\n",
       "  </thead>\n",
       "  <tbody>\n",
       "    <tr>\n",
       "      <th>0</th>\n",
       "      <td>1981096.0</td>\n",
       "      <td>11786.0</td>\n",
       "      <td>1101124.0</td>\n",
       "      <td>507507.0</td>\n",
       "    </tr>\n",
       "    <tr>\n",
       "      <th>1</th>\n",
       "      <td>3962.0</td>\n",
       "      <td>NaN</td>\n",
       "      <td>NaN</td>\n",
       "      <td>3927.0</td>\n",
       "    </tr>\n",
       "  </tbody>\n",
       "</table>\n",
       "</div>"
      ],
      "text/plain": [
       "type      CASH_OUT    DEBIT    PAYMENT  TRANSFER\n",
       "isFraud                                         \n",
       "0        1981096.0  11786.0  1101124.0  507507.0\n",
       "1           3962.0      NaN        NaN    3927.0"
      ]
     },
     "execution_count": 57,
     "metadata": {},
     "output_type": "execute_result"
    }
   ],
   "source": [
    "dataset.loc[(dataset['newbalanceOrig'] == 0) & (dataset['nameOrig'].str.startswith('C')), :].groupby([target, 'type']).size().unstack()\n"
   ]
  },
  {
   "cell_type": "code",
   "execution_count": 58,
   "id": "0ee084c4",
   "metadata": {
    "execution": {
     "iopub.execute_input": "2022-04-13T16:08:14.400135Z",
     "iopub.status.busy": "2022-04-13T16:08:14.399150Z",
     "iopub.status.idle": "2022-04-13T16:08:15.266578Z",
     "shell.execute_reply": "2022-04-13T16:08:15.267167Z",
     "shell.execute_reply.started": "2022-04-13T15:06:56.748215Z"
    },
    "papermill": {
     "duration": 1.020898,
     "end_time": "2022-04-13T16:08:15.267339",
     "exception": false,
     "start_time": "2022-04-13T16:08:14.246441",
     "status": "completed"
    },
    "tags": []
   },
   "outputs": [
    {
     "data": {
      "text/html": [
       "<div>\n",
       "<style scoped>\n",
       "    .dataframe tbody tr th:only-of-type {\n",
       "        vertical-align: middle;\n",
       "    }\n",
       "\n",
       "    .dataframe tbody tr th {\n",
       "        vertical-align: top;\n",
       "    }\n",
       "\n",
       "    .dataframe thead th {\n",
       "        text-align: right;\n",
       "    }\n",
       "</style>\n",
       "<table border=\"1\" class=\"dataframe\">\n",
       "  <thead>\n",
       "    <tr style=\"text-align: right;\">\n",
       "      <th>type</th>\n",
       "      <th>CASH_IN</th>\n",
       "      <th>CASH_OUT</th>\n",
       "      <th>DEBIT</th>\n",
       "      <th>PAYMENT</th>\n",
       "      <th>TRANSFER</th>\n",
       "    </tr>\n",
       "    <tr>\n",
       "      <th>isFraud</th>\n",
       "      <th></th>\n",
       "      <th></th>\n",
       "      <th></th>\n",
       "      <th></th>\n",
       "      <th></th>\n",
       "    </tr>\n",
       "  </thead>\n",
       "  <tbody>\n",
       "    <tr>\n",
       "      <th>0</th>\n",
       "      <td>1014941.0</td>\n",
       "      <td>2233336.0</td>\n",
       "      <td>41432.0</td>\n",
       "      <td>2151349.0</td>\n",
       "      <td>528794.0</td>\n",
       "    </tr>\n",
       "    <tr>\n",
       "      <th>1</th>\n",
       "      <td>NaN</td>\n",
       "      <td>3963.0</td>\n",
       "      <td>NaN</td>\n",
       "      <td>NaN</td>\n",
       "      <td>3936.0</td>\n",
       "    </tr>\n",
       "  </tbody>\n",
       "</table>\n",
       "</div>"
      ],
      "text/plain": [
       "type       CASH_IN   CASH_OUT    DEBIT    PAYMENT  TRANSFER\n",
       "isFraud                                                    \n",
       "0        1014941.0  2233336.0  41432.0  2151349.0  528794.0\n",
       "1              NaN     3963.0      NaN        NaN    3936.0"
      ]
     },
     "execution_count": 58,
     "metadata": {},
     "output_type": "execute_result"
    }
   ],
   "source": [
    "dataset.groupby([target, 'type']).size().unstack()"
   ]
  },
  {
   "cell_type": "markdown",
   "id": "f2838469",
   "metadata": {
    "papermill": {
     "duration": 0.149754,
     "end_time": "2022-04-13T16:08:15.567549",
     "exception": false,
     "start_time": "2022-04-13T16:08:15.417795",
     "status": "completed"
    },
    "tags": []
   },
   "source": [
    "As we can observe that we are seeing a weird trend that most of the fraudulent transactions happened with people having customer ID starting with 'C's. And no fraud transactions happened with transaction types other then CASH_OUT, TRANSFER. This might be due to the fact that we don't have data about others or it might actually be the case."
   ]
  },
  {
   "cell_type": "markdown",
   "id": "6e7a2b0a",
   "metadata": {
    "papermill": {
     "duration": 0.151133,
     "end_time": "2022-04-13T16:08:15.869102",
     "exception": false,
     "start_time": "2022-04-13T16:08:15.717969",
     "status": "completed"
    },
    "tags": []
   },
   "source": [
    "Let's create a new column containing binary variable for 'nameOrig' and 'nameDest' starting with C or not."
   ]
  },
  {
   "cell_type": "code",
   "execution_count": 59,
   "id": "d7c8623c",
   "metadata": {
    "execution": {
     "iopub.execute_input": "2022-04-13T16:08:16.877537Z",
     "iopub.status.busy": "2022-04-13T16:08:16.245626Z",
     "iopub.status.idle": "2022-04-13T16:08:18.865827Z",
     "shell.execute_reply": "2022-04-13T16:08:18.866346Z",
     "shell.execute_reply.started": "2022-04-13T15:06:57.612413Z"
    },
    "papermill": {
     "duration": 2.777959,
     "end_time": "2022-04-13T16:08:18.866548",
     "exception": false,
     "start_time": "2022-04-13T16:08:16.088589",
     "status": "completed"
    },
    "tags": []
   },
   "outputs": [
    {
     "data": {
      "text/plain": [
       "True    5977751\n",
       "Name: nameOrig, dtype: int64"
      ]
     },
     "execution_count": 59,
     "metadata": {},
     "output_type": "execute_result"
    }
   ],
   "source": [
    "dataset['nameOrig'].str.startswith('C').value_counts()"
   ]
  },
  {
   "cell_type": "markdown",
   "id": "f5097b8a",
   "metadata": {
    "papermill": {
     "duration": 0.148946,
     "end_time": "2022-04-13T16:08:19.165722",
     "exception": false,
     "start_time": "2022-04-13T16:08:19.016776",
     "status": "completed"
    },
    "tags": []
   },
   "source": [
    "As we can see all the customer IDs in this column starts with 'C' so we won't make a new column for this feature"
   ]
  },
  {
   "cell_type": "code",
   "execution_count": 60,
   "id": "d83b427f",
   "metadata": {
    "execution": {
     "iopub.execute_input": "2022-04-13T16:08:19.473478Z",
     "iopub.status.busy": "2022-04-13T16:08:19.472452Z",
     "iopub.status.idle": "2022-04-13T16:08:23.101570Z",
     "shell.execute_reply": "2022-04-13T16:08:23.102086Z",
     "shell.execute_reply.started": "2022-04-13T15:07:00.278937Z"
    },
    "papermill": {
     "duration": 3.786984,
     "end_time": "2022-04-13T16:08:23.102256",
     "exception": false,
     "start_time": "2022-04-13T16:08:19.315272",
     "status": "completed"
    },
    "tags": []
   },
   "outputs": [
    {
     "data": {
      "text/html": [
       "<div>\n",
       "<style scoped>\n",
       "    .dataframe tbody tr th:only-of-type {\n",
       "        vertical-align: middle;\n",
       "    }\n",
       "\n",
       "    .dataframe tbody tr th {\n",
       "        vertical-align: top;\n",
       "    }\n",
       "\n",
       "    .dataframe thead th {\n",
       "        text-align: right;\n",
       "    }\n",
       "</style>\n",
       "<table border=\"1\" class=\"dataframe\">\n",
       "  <thead>\n",
       "    <tr style=\"text-align: right;\">\n",
       "      <th></th>\n",
       "      <th>step</th>\n",
       "      <th>type</th>\n",
       "      <th>amount</th>\n",
       "      <th>nameOrig</th>\n",
       "      <th>oldbalanceOrg</th>\n",
       "      <th>newbalanceOrig</th>\n",
       "      <th>nameDest</th>\n",
       "      <th>oldbalanceDest</th>\n",
       "      <th>newbalanceDest</th>\n",
       "      <th>isFraud</th>\n",
       "      <th>isFlaggedFraud</th>\n",
       "    </tr>\n",
       "  </thead>\n",
       "  <tbody>\n",
       "    <tr>\n",
       "      <th>2</th>\n",
       "      <td>1</td>\n",
       "      <td>TRANSFER</td>\n",
       "      <td>181.00</td>\n",
       "      <td>C1305486145</td>\n",
       "      <td>181.00</td>\n",
       "      <td>0.0</td>\n",
       "      <td>C553264065</td>\n",
       "      <td>0.00</td>\n",
       "      <td>0.00</td>\n",
       "      <td>1</td>\n",
       "      <td>0</td>\n",
       "    </tr>\n",
       "    <tr>\n",
       "      <th>3</th>\n",
       "      <td>1</td>\n",
       "      <td>CASH_OUT</td>\n",
       "      <td>181.00</td>\n",
       "      <td>C840083671</td>\n",
       "      <td>181.00</td>\n",
       "      <td>0.0</td>\n",
       "      <td>C38997010</td>\n",
       "      <td>21182.00</td>\n",
       "      <td>0.00</td>\n",
       "      <td>1</td>\n",
       "      <td>0</td>\n",
       "    </tr>\n",
       "    <tr>\n",
       "      <th>251</th>\n",
       "      <td>1</td>\n",
       "      <td>TRANSFER</td>\n",
       "      <td>2806.00</td>\n",
       "      <td>C1420196421</td>\n",
       "      <td>2806.00</td>\n",
       "      <td>0.0</td>\n",
       "      <td>C972765878</td>\n",
       "      <td>0.00</td>\n",
       "      <td>0.00</td>\n",
       "      <td>1</td>\n",
       "      <td>0</td>\n",
       "    </tr>\n",
       "    <tr>\n",
       "      <th>252</th>\n",
       "      <td>1</td>\n",
       "      <td>CASH_OUT</td>\n",
       "      <td>2806.00</td>\n",
       "      <td>C2101527076</td>\n",
       "      <td>2806.00</td>\n",
       "      <td>0.0</td>\n",
       "      <td>C1007251739</td>\n",
       "      <td>26202.00</td>\n",
       "      <td>0.00</td>\n",
       "      <td>1</td>\n",
       "      <td>0</td>\n",
       "    </tr>\n",
       "    <tr>\n",
       "      <th>680</th>\n",
       "      <td>1</td>\n",
       "      <td>TRANSFER</td>\n",
       "      <td>20128.00</td>\n",
       "      <td>C137533655</td>\n",
       "      <td>20128.00</td>\n",
       "      <td>0.0</td>\n",
       "      <td>C1848415041</td>\n",
       "      <td>0.00</td>\n",
       "      <td>0.00</td>\n",
       "      <td>1</td>\n",
       "      <td>0</td>\n",
       "    </tr>\n",
       "    <tr>\n",
       "      <th>...</th>\n",
       "      <td>...</td>\n",
       "      <td>...</td>\n",
       "      <td>...</td>\n",
       "      <td>...</td>\n",
       "      <td>...</td>\n",
       "      <td>...</td>\n",
       "      <td>...</td>\n",
       "      <td>...</td>\n",
       "      <td>...</td>\n",
       "      <td>...</td>\n",
       "      <td>...</td>\n",
       "    </tr>\n",
       "    <tr>\n",
       "      <th>6362615</th>\n",
       "      <td>743</td>\n",
       "      <td>CASH_OUT</td>\n",
       "      <td>339682.13</td>\n",
       "      <td>C786484425</td>\n",
       "      <td>339682.13</td>\n",
       "      <td>0.0</td>\n",
       "      <td>C776919290</td>\n",
       "      <td>0.00</td>\n",
       "      <td>339682.13</td>\n",
       "      <td>1</td>\n",
       "      <td>0</td>\n",
       "    </tr>\n",
       "    <tr>\n",
       "      <th>6362616</th>\n",
       "      <td>743</td>\n",
       "      <td>TRANSFER</td>\n",
       "      <td>6311409.28</td>\n",
       "      <td>C1529008245</td>\n",
       "      <td>6311409.28</td>\n",
       "      <td>0.0</td>\n",
       "      <td>C1881841831</td>\n",
       "      <td>0.00</td>\n",
       "      <td>0.00</td>\n",
       "      <td>1</td>\n",
       "      <td>0</td>\n",
       "    </tr>\n",
       "    <tr>\n",
       "      <th>6362617</th>\n",
       "      <td>743</td>\n",
       "      <td>CASH_OUT</td>\n",
       "      <td>6311409.28</td>\n",
       "      <td>C1162922333</td>\n",
       "      <td>6311409.28</td>\n",
       "      <td>0.0</td>\n",
       "      <td>C1365125890</td>\n",
       "      <td>68488.84</td>\n",
       "      <td>6379898.11</td>\n",
       "      <td>1</td>\n",
       "      <td>0</td>\n",
       "    </tr>\n",
       "    <tr>\n",
       "      <th>6362618</th>\n",
       "      <td>743</td>\n",
       "      <td>TRANSFER</td>\n",
       "      <td>850002.52</td>\n",
       "      <td>C1685995037</td>\n",
       "      <td>850002.52</td>\n",
       "      <td>0.0</td>\n",
       "      <td>C2080388513</td>\n",
       "      <td>0.00</td>\n",
       "      <td>0.00</td>\n",
       "      <td>1</td>\n",
       "      <td>0</td>\n",
       "    </tr>\n",
       "    <tr>\n",
       "      <th>6362619</th>\n",
       "      <td>743</td>\n",
       "      <td>CASH_OUT</td>\n",
       "      <td>850002.52</td>\n",
       "      <td>C1280323807</td>\n",
       "      <td>850002.52</td>\n",
       "      <td>0.0</td>\n",
       "      <td>C873221189</td>\n",
       "      <td>6510099.11</td>\n",
       "      <td>7360101.63</td>\n",
       "      <td>1</td>\n",
       "      <td>0</td>\n",
       "    </tr>\n",
       "  </tbody>\n",
       "</table>\n",
       "<p>7899 rows × 11 columns</p>\n",
       "</div>"
      ],
      "text/plain": [
       "         step      type      amount     nameOrig  oldbalanceOrg  \\\n",
       "2           1  TRANSFER      181.00  C1305486145         181.00   \n",
       "3           1  CASH_OUT      181.00   C840083671         181.00   \n",
       "251         1  TRANSFER     2806.00  C1420196421        2806.00   \n",
       "252         1  CASH_OUT     2806.00  C2101527076        2806.00   \n",
       "680         1  TRANSFER    20128.00   C137533655       20128.00   \n",
       "...       ...       ...         ...          ...            ...   \n",
       "6362615   743  CASH_OUT   339682.13   C786484425      339682.13   \n",
       "6362616   743  TRANSFER  6311409.28  C1529008245     6311409.28   \n",
       "6362617   743  CASH_OUT  6311409.28  C1162922333     6311409.28   \n",
       "6362618   743  TRANSFER   850002.52  C1685995037      850002.52   \n",
       "6362619   743  CASH_OUT   850002.52  C1280323807      850002.52   \n",
       "\n",
       "         newbalanceOrig     nameDest  oldbalanceDest  newbalanceDest  isFraud  \\\n",
       "2                   0.0   C553264065            0.00            0.00        1   \n",
       "3                   0.0    C38997010        21182.00            0.00        1   \n",
       "251                 0.0   C972765878            0.00            0.00        1   \n",
       "252                 0.0  C1007251739        26202.00            0.00        1   \n",
       "680                 0.0  C1848415041            0.00            0.00        1   \n",
       "...                 ...          ...             ...             ...      ...   \n",
       "6362615             0.0   C776919290            0.00       339682.13        1   \n",
       "6362616             0.0  C1881841831            0.00            0.00        1   \n",
       "6362617             0.0  C1365125890        68488.84      6379898.11        1   \n",
       "6362618             0.0  C2080388513            0.00            0.00        1   \n",
       "6362619             0.0   C873221189      6510099.11      7360101.63        1   \n",
       "\n",
       "         isFlaggedFraud  \n",
       "2                     0  \n",
       "3                     0  \n",
       "251                   0  \n",
       "252                   0  \n",
       "680                   0  \n",
       "...                 ...  \n",
       "6362615               0  \n",
       "6362616               0  \n",
       "6362617               0  \n",
       "6362618               0  \n",
       "6362619               0  \n",
       "\n",
       "[7899 rows x 11 columns]"
      ]
     },
     "execution_count": 60,
     "metadata": {},
     "output_type": "execute_result"
    }
   ],
   "source": [
    "dataset[dataset['nameDest'].str.startswith('C') & dataset[target] == 1]"
   ]
  },
  {
   "cell_type": "code",
   "execution_count": 61,
   "id": "cd23f5f2",
   "metadata": {
    "execution": {
     "iopub.execute_input": "2022-04-13T16:08:23.409981Z",
     "iopub.status.busy": "2022-04-13T16:08:23.408988Z",
     "iopub.status.idle": "2022-04-13T16:08:23.450753Z",
     "shell.execute_reply": "2022-04-13T16:08:23.450125Z",
     "shell.execute_reply.started": "2022-04-13T15:07:03.949736Z"
    },
    "papermill": {
     "duration": 0.196466,
     "end_time": "2022-04-13T16:08:23.450907",
     "exception": false,
     "start_time": "2022-04-13T16:08:23.254441",
     "status": "completed"
    },
    "tags": []
   },
   "outputs": [
    {
     "data": {
      "text/plain": [
       "0    5969852\n",
       "1       7899\n",
       "Name: isFraud, dtype: int64"
      ]
     },
     "execution_count": 61,
     "metadata": {},
     "output_type": "execute_result"
    }
   ],
   "source": [
    "dataset[target].value_counts()"
   ]
  },
  {
   "cell_type": "markdown",
   "id": "b69e8af8",
   "metadata": {
    "papermill": {
     "duration": 0.153887,
     "end_time": "2022-04-13T16:08:23.756052",
     "exception": false,
     "start_time": "2022-04-13T16:08:23.602165",
     "status": "completed"
    },
    "tags": []
   },
   "source": [
    "As we can see all the fraud transactions have their 'nameDest' customer ID starting with 'C', so we will make a new column out it"
   ]
  },
  {
   "cell_type": "code",
   "execution_count": 62,
   "id": "873e1ebd",
   "metadata": {
    "execution": {
     "iopub.execute_input": "2022-04-13T16:08:24.718218Z",
     "iopub.status.busy": "2022-04-13T16:08:24.717211Z",
     "iopub.status.idle": "2022-04-13T16:08:26.741582Z",
     "shell.execute_reply": "2022-04-13T16:08:26.740937Z",
     "shell.execute_reply.started": "2022-04-13T15:07:03.990063Z"
    },
    "papermill": {
     "duration": 2.834454,
     "end_time": "2022-04-13T16:08:26.741756",
     "exception": false,
     "start_time": "2022-04-13T16:08:23.907302",
     "status": "completed"
    },
    "tags": []
   },
   "outputs": [],
   "source": [
    "dataset['nameDest_startswith_C'] = dataset['nameDest'].str.startswith('C')"
   ]
  },
  {
   "cell_type": "code",
   "execution_count": 63,
   "id": "bbc9c143",
   "metadata": {
    "execution": {
     "iopub.execute_input": "2022-04-13T16:08:27.048049Z",
     "iopub.status.busy": "2022-04-13T16:08:27.047336Z",
     "iopub.status.idle": "2022-04-13T16:08:27.082863Z",
     "shell.execute_reply": "2022-04-13T16:08:27.083374Z",
     "shell.execute_reply.started": "2022-04-13T15:07:06.670244Z"
    },
    "papermill": {
     "duration": 0.190174,
     "end_time": "2022-04-13T16:08:27.083576",
     "exception": false,
     "start_time": "2022-04-13T16:08:26.893402",
     "status": "completed"
    },
    "tags": []
   },
   "outputs": [
    {
     "data": {
      "text/plain": [
       "True     3826402\n",
       "False    2151349\n",
       "Name: nameDest_startswith_C, dtype: int64"
      ]
     },
     "execution_count": 63,
     "metadata": {},
     "output_type": "execute_result"
    }
   ],
   "source": [
    "dataset['nameDest_startswith_C'].value_counts()"
   ]
  },
  {
   "cell_type": "code",
   "execution_count": 64,
   "id": "9e4feb04",
   "metadata": {
    "execution": {
     "iopub.execute_input": "2022-04-13T16:08:27.397268Z",
     "iopub.status.busy": "2022-04-13T16:08:27.396291Z",
     "iopub.status.idle": "2022-04-13T16:08:27.786172Z",
     "shell.execute_reply": "2022-04-13T16:08:27.785612Z",
     "shell.execute_reply.started": "2022-04-13T15:07:06.713831Z"
    },
    "papermill": {
     "duration": 0.547104,
     "end_time": "2022-04-13T16:08:27.786329",
     "exception": false,
     "start_time": "2022-04-13T16:08:27.239225",
     "status": "completed"
    },
    "tags": []
   },
   "outputs": [
    {
     "data": {
      "text/html": [
       "<div>\n",
       "<style scoped>\n",
       "    .dataframe tbody tr th:only-of-type {\n",
       "        vertical-align: middle;\n",
       "    }\n",
       "\n",
       "    .dataframe tbody tr th {\n",
       "        vertical-align: top;\n",
       "    }\n",
       "\n",
       "    .dataframe thead th {\n",
       "        text-align: right;\n",
       "    }\n",
       "</style>\n",
       "<table border=\"1\" class=\"dataframe\">\n",
       "  <thead>\n",
       "    <tr style=\"text-align: right;\">\n",
       "      <th>nameDest_startswith_C</th>\n",
       "      <th>False</th>\n",
       "      <th>True</th>\n",
       "    </tr>\n",
       "    <tr>\n",
       "      <th>isFraud</th>\n",
       "      <th></th>\n",
       "      <th></th>\n",
       "    </tr>\n",
       "  </thead>\n",
       "  <tbody>\n",
       "    <tr>\n",
       "      <th>0</th>\n",
       "      <td>2151349.0</td>\n",
       "      <td>3818503.0</td>\n",
       "    </tr>\n",
       "    <tr>\n",
       "      <th>1</th>\n",
       "      <td>NaN</td>\n",
       "      <td>7899.0</td>\n",
       "    </tr>\n",
       "  </tbody>\n",
       "</table>\n",
       "</div>"
      ],
      "text/plain": [
       "nameDest_startswith_C      False       True\n",
       "isFraud                                    \n",
       "0                      2151349.0  3818503.0\n",
       "1                            NaN     7899.0"
      ]
     },
     "execution_count": 64,
     "metadata": {},
     "output_type": "execute_result"
    }
   ],
   "source": [
    "dataset.groupby([target, 'nameDest_startswith_C']).size().unstack()"
   ]
  },
  {
   "cell_type": "code",
   "execution_count": 65,
   "id": "50a7867e",
   "metadata": {
    "execution": {
     "iopub.execute_input": "2022-04-13T16:08:28.110194Z",
     "iopub.status.busy": "2022-04-13T16:08:28.109442Z",
     "iopub.status.idle": "2022-04-13T16:08:28.127062Z",
     "shell.execute_reply": "2022-04-13T16:08:28.126383Z",
     "shell.execute_reply.started": "2022-04-13T15:07:07.111002Z"
    },
    "papermill": {
     "duration": 0.179198,
     "end_time": "2022-04-13T16:08:28.127212",
     "exception": false,
     "start_time": "2022-04-13T16:08:27.948014",
     "status": "completed"
    },
    "tags": []
   },
   "outputs": [
    {
     "data": {
      "text/html": [
       "<div>\n",
       "<style scoped>\n",
       "    .dataframe tbody tr th:only-of-type {\n",
       "        vertical-align: middle;\n",
       "    }\n",
       "\n",
       "    .dataframe tbody tr th {\n",
       "        vertical-align: top;\n",
       "    }\n",
       "\n",
       "    .dataframe thead th {\n",
       "        text-align: right;\n",
       "    }\n",
       "</style>\n",
       "<table border=\"1\" class=\"dataframe\">\n",
       "  <thead>\n",
       "    <tr style=\"text-align: right;\">\n",
       "      <th></th>\n",
       "      <th>step</th>\n",
       "      <th>type</th>\n",
       "      <th>amount</th>\n",
       "      <th>nameOrig</th>\n",
       "      <th>oldbalanceOrg</th>\n",
       "      <th>newbalanceOrig</th>\n",
       "      <th>nameDest</th>\n",
       "      <th>oldbalanceDest</th>\n",
       "      <th>newbalanceDest</th>\n",
       "      <th>isFraud</th>\n",
       "      <th>isFlaggedFraud</th>\n",
       "      <th>nameDest_startswith_C</th>\n",
       "    </tr>\n",
       "  </thead>\n",
       "  <tbody>\n",
       "    <tr>\n",
       "      <th>0</th>\n",
       "      <td>1</td>\n",
       "      <td>PAYMENT</td>\n",
       "      <td>9839.64</td>\n",
       "      <td>C1231006815</td>\n",
       "      <td>170136.0</td>\n",
       "      <td>160296.36</td>\n",
       "      <td>M1979787155</td>\n",
       "      <td>521801.835</td>\n",
       "      <td>685824.345</td>\n",
       "      <td>0</td>\n",
       "      <td>0</td>\n",
       "      <td>False</td>\n",
       "    </tr>\n",
       "    <tr>\n",
       "      <th>1</th>\n",
       "      <td>1</td>\n",
       "      <td>PAYMENT</td>\n",
       "      <td>1864.28</td>\n",
       "      <td>C1666544295</td>\n",
       "      <td>21249.0</td>\n",
       "      <td>19384.72</td>\n",
       "      <td>M2044282225</td>\n",
       "      <td>521801.835</td>\n",
       "      <td>685824.345</td>\n",
       "      <td>0</td>\n",
       "      <td>0</td>\n",
       "      <td>False</td>\n",
       "    </tr>\n",
       "    <tr>\n",
       "      <th>2</th>\n",
       "      <td>1</td>\n",
       "      <td>TRANSFER</td>\n",
       "      <td>181.00</td>\n",
       "      <td>C1305486145</td>\n",
       "      <td>181.0</td>\n",
       "      <td>0.00</td>\n",
       "      <td>C553264065</td>\n",
       "      <td>0.000</td>\n",
       "      <td>0.000</td>\n",
       "      <td>1</td>\n",
       "      <td>0</td>\n",
       "      <td>True</td>\n",
       "    </tr>\n",
       "    <tr>\n",
       "      <th>3</th>\n",
       "      <td>1</td>\n",
       "      <td>CASH_OUT</td>\n",
       "      <td>181.00</td>\n",
       "      <td>C840083671</td>\n",
       "      <td>181.0</td>\n",
       "      <td>0.00</td>\n",
       "      <td>C38997010</td>\n",
       "      <td>21182.000</td>\n",
       "      <td>0.000</td>\n",
       "      <td>1</td>\n",
       "      <td>0</td>\n",
       "      <td>True</td>\n",
       "    </tr>\n",
       "    <tr>\n",
       "      <th>4</th>\n",
       "      <td>1</td>\n",
       "      <td>PAYMENT</td>\n",
       "      <td>11668.14</td>\n",
       "      <td>C2048537720</td>\n",
       "      <td>41554.0</td>\n",
       "      <td>29885.86</td>\n",
       "      <td>M1230701703</td>\n",
       "      <td>521801.835</td>\n",
       "      <td>685824.345</td>\n",
       "      <td>0</td>\n",
       "      <td>0</td>\n",
       "      <td>False</td>\n",
       "    </tr>\n",
       "  </tbody>\n",
       "</table>\n",
       "</div>"
      ],
      "text/plain": [
       "   step      type    amount     nameOrig  oldbalanceOrg  newbalanceOrig  \\\n",
       "0     1   PAYMENT   9839.64  C1231006815       170136.0       160296.36   \n",
       "1     1   PAYMENT   1864.28  C1666544295        21249.0        19384.72   \n",
       "2     1  TRANSFER    181.00  C1305486145          181.0            0.00   \n",
       "3     1  CASH_OUT    181.00   C840083671          181.0            0.00   \n",
       "4     1   PAYMENT  11668.14  C2048537720        41554.0        29885.86   \n",
       "\n",
       "      nameDest  oldbalanceDest  newbalanceDest  isFraud  isFlaggedFraud  \\\n",
       "0  M1979787155      521801.835      685824.345        0               0   \n",
       "1  M2044282225      521801.835      685824.345        0               0   \n",
       "2   C553264065           0.000           0.000        1               0   \n",
       "3    C38997010       21182.000           0.000        1               0   \n",
       "4  M1230701703      521801.835      685824.345        0               0   \n",
       "\n",
       "   nameDest_startswith_C  \n",
       "0                  False  \n",
       "1                  False  \n",
       "2                   True  \n",
       "3                   True  \n",
       "4                  False  "
      ]
     },
     "execution_count": 65,
     "metadata": {},
     "output_type": "execute_result"
    }
   ],
   "source": [
    "dataset.head()"
   ]
  },
  {
   "cell_type": "code",
   "execution_count": 66,
   "id": "b3b8519d",
   "metadata": {
    "execution": {
     "iopub.execute_input": "2022-04-13T16:08:28.438394Z",
     "iopub.status.busy": "2022-04-13T16:08:28.437777Z",
     "iopub.status.idle": "2022-04-13T16:08:28.440218Z",
     "shell.execute_reply": "2022-04-13T16:08:28.440820Z",
     "shell.execute_reply.started": "2022-04-13T15:07:07.135583Z"
    },
    "papermill": {
     "duration": 0.159694,
     "end_time": "2022-04-13T16:08:28.440991",
     "exception": false,
     "start_time": "2022-04-13T16:08:28.281297",
     "status": "completed"
    },
    "tags": []
   },
   "outputs": [
    {
     "data": {
      "text/plain": [
       "(5977751, 12)"
      ]
     },
     "execution_count": 66,
     "metadata": {},
     "output_type": "execute_result"
    }
   ],
   "source": [
    "dataset.shape"
   ]
  },
  {
   "cell_type": "markdown",
   "id": "15dba009",
   "metadata": {
    "papermill": {
     "duration": 0.152281,
     "end_time": "2022-04-13T16:08:28.746362",
     "exception": false,
     "start_time": "2022-04-13T16:08:28.594081",
     "status": "completed"
    },
    "tags": []
   },
   "source": [
    "**Encoding categorical variables**"
   ]
  },
  {
   "cell_type": "markdown",
   "id": "b88a5c4e",
   "metadata": {
    "papermill": {
     "duration": 0.155228,
     "end_time": "2022-04-13T16:08:29.055767",
     "exception": false,
     "start_time": "2022-04-13T16:08:28.900539",
     "status": "completed"
    },
    "tags": []
   },
   "source": [
    "Encoding 'nameDest_startswith_C' first, then we'll move on to 'type'"
   ]
  },
  {
   "cell_type": "code",
   "execution_count": 67,
   "id": "5f54d91f",
   "metadata": {
    "execution": {
     "iopub.execute_input": "2022-04-13T16:08:29.404102Z",
     "iopub.status.busy": "2022-04-13T16:08:29.372710Z",
     "iopub.status.idle": "2022-04-13T16:08:29.410258Z",
     "shell.execute_reply": "2022-04-13T16:08:29.410813Z",
     "shell.execute_reply.started": "2022-04-13T15:07:07.144362Z"
    },
    "papermill": {
     "duration": 0.199004,
     "end_time": "2022-04-13T16:08:29.410993",
     "exception": false,
     "start_time": "2022-04-13T16:08:29.211989",
     "status": "completed"
    },
    "tags": []
   },
   "outputs": [
    {
     "data": {
      "text/plain": [
       "True     3826402\n",
       "False    2151349\n",
       "Name: nameDest_startswith_C, dtype: int64"
      ]
     },
     "execution_count": 67,
     "metadata": {},
     "output_type": "execute_result"
    }
   ],
   "source": [
    "dataset['nameDest_startswith_C'].value_counts()"
   ]
  },
  {
   "cell_type": "code",
   "execution_count": 68,
   "id": "57824cfa",
   "metadata": {
    "execution": {
     "iopub.execute_input": "2022-04-13T16:08:29.727937Z",
     "iopub.status.busy": "2022-04-13T16:08:29.727251Z",
     "iopub.status.idle": "2022-04-13T16:08:30.286650Z",
     "shell.execute_reply": "2022-04-13T16:08:30.285941Z",
     "shell.execute_reply.started": "2022-04-13T15:07:07.192086Z"
    },
    "papermill": {
     "duration": 0.716665,
     "end_time": "2022-04-13T16:08:30.286801",
     "exception": false,
     "start_time": "2022-04-13T16:08:29.570136",
     "status": "completed"
    },
    "tags": []
   },
   "outputs": [],
   "source": [
    "from sklearn.preprocessing import OrdinalEncoder\n",
    "dataset[['nameDest_startswith_C']] = OrdinalEncoder(categories=[[False, True]]).fit_transform(dataset[['nameDest_startswith_C']])"
   ]
  },
  {
   "cell_type": "code",
   "execution_count": 69,
   "id": "1c9b6338",
   "metadata": {
    "execution": {
     "iopub.execute_input": "2022-04-13T16:08:30.602103Z",
     "iopub.status.busy": "2022-04-13T16:08:30.601384Z",
     "iopub.status.idle": "2022-04-13T16:08:32.553614Z",
     "shell.execute_reply": "2022-04-13T16:08:32.552963Z",
     "shell.execute_reply.started": "2022-04-13T15:07:07.778311Z"
    },
    "papermill": {
     "duration": 2.109115,
     "end_time": "2022-04-13T16:08:32.553768",
     "exception": false,
     "start_time": "2022-04-13T16:08:30.444653",
     "status": "completed"
    },
    "tags": []
   },
   "outputs": [],
   "source": [
    "dataset = pd.get_dummies(dataset, columns=['type'], drop_first=True)"
   ]
  },
  {
   "cell_type": "code",
   "execution_count": 70,
   "id": "ebad5a4d",
   "metadata": {
    "execution": {
     "iopub.execute_input": "2022-04-13T16:08:32.864710Z",
     "iopub.status.busy": "2022-04-13T16:08:32.864060Z",
     "iopub.status.idle": "2022-04-13T16:08:32.881595Z",
     "shell.execute_reply": "2022-04-13T16:08:32.882095Z",
     "shell.execute_reply.started": "2022-04-13T15:07:09.741949Z"
    },
    "papermill": {
     "duration": 0.175246,
     "end_time": "2022-04-13T16:08:32.882265",
     "exception": false,
     "start_time": "2022-04-13T16:08:32.707019",
     "status": "completed"
    },
    "tags": []
   },
   "outputs": [
    {
     "data": {
      "text/html": [
       "<div>\n",
       "<style scoped>\n",
       "    .dataframe tbody tr th:only-of-type {\n",
       "        vertical-align: middle;\n",
       "    }\n",
       "\n",
       "    .dataframe tbody tr th {\n",
       "        vertical-align: top;\n",
       "    }\n",
       "\n",
       "    .dataframe thead th {\n",
       "        text-align: right;\n",
       "    }\n",
       "</style>\n",
       "<table border=\"1\" class=\"dataframe\">\n",
       "  <thead>\n",
       "    <tr style=\"text-align: right;\">\n",
       "      <th></th>\n",
       "      <th>step</th>\n",
       "      <th>amount</th>\n",
       "      <th>nameOrig</th>\n",
       "      <th>oldbalanceOrg</th>\n",
       "      <th>newbalanceOrig</th>\n",
       "      <th>nameDest</th>\n",
       "      <th>oldbalanceDest</th>\n",
       "      <th>newbalanceDest</th>\n",
       "      <th>isFraud</th>\n",
       "      <th>isFlaggedFraud</th>\n",
       "      <th>nameDest_startswith_C</th>\n",
       "      <th>type_CASH_OUT</th>\n",
       "      <th>type_DEBIT</th>\n",
       "      <th>type_PAYMENT</th>\n",
       "      <th>type_TRANSFER</th>\n",
       "    </tr>\n",
       "  </thead>\n",
       "  <tbody>\n",
       "    <tr>\n",
       "      <th>0</th>\n",
       "      <td>1</td>\n",
       "      <td>9839.64</td>\n",
       "      <td>C1231006815</td>\n",
       "      <td>170136.0</td>\n",
       "      <td>160296.36</td>\n",
       "      <td>M1979787155</td>\n",
       "      <td>521801.835</td>\n",
       "      <td>685824.345</td>\n",
       "      <td>0</td>\n",
       "      <td>0</td>\n",
       "      <td>0.0</td>\n",
       "      <td>0</td>\n",
       "      <td>0</td>\n",
       "      <td>1</td>\n",
       "      <td>0</td>\n",
       "    </tr>\n",
       "    <tr>\n",
       "      <th>1</th>\n",
       "      <td>1</td>\n",
       "      <td>1864.28</td>\n",
       "      <td>C1666544295</td>\n",
       "      <td>21249.0</td>\n",
       "      <td>19384.72</td>\n",
       "      <td>M2044282225</td>\n",
       "      <td>521801.835</td>\n",
       "      <td>685824.345</td>\n",
       "      <td>0</td>\n",
       "      <td>0</td>\n",
       "      <td>0.0</td>\n",
       "      <td>0</td>\n",
       "      <td>0</td>\n",
       "      <td>1</td>\n",
       "      <td>0</td>\n",
       "    </tr>\n",
       "    <tr>\n",
       "      <th>2</th>\n",
       "      <td>1</td>\n",
       "      <td>181.00</td>\n",
       "      <td>C1305486145</td>\n",
       "      <td>181.0</td>\n",
       "      <td>0.00</td>\n",
       "      <td>C553264065</td>\n",
       "      <td>0.000</td>\n",
       "      <td>0.000</td>\n",
       "      <td>1</td>\n",
       "      <td>0</td>\n",
       "      <td>1.0</td>\n",
       "      <td>0</td>\n",
       "      <td>0</td>\n",
       "      <td>0</td>\n",
       "      <td>1</td>\n",
       "    </tr>\n",
       "    <tr>\n",
       "      <th>3</th>\n",
       "      <td>1</td>\n",
       "      <td>181.00</td>\n",
       "      <td>C840083671</td>\n",
       "      <td>181.0</td>\n",
       "      <td>0.00</td>\n",
       "      <td>C38997010</td>\n",
       "      <td>21182.000</td>\n",
       "      <td>0.000</td>\n",
       "      <td>1</td>\n",
       "      <td>0</td>\n",
       "      <td>1.0</td>\n",
       "      <td>1</td>\n",
       "      <td>0</td>\n",
       "      <td>0</td>\n",
       "      <td>0</td>\n",
       "    </tr>\n",
       "    <tr>\n",
       "      <th>4</th>\n",
       "      <td>1</td>\n",
       "      <td>11668.14</td>\n",
       "      <td>C2048537720</td>\n",
       "      <td>41554.0</td>\n",
       "      <td>29885.86</td>\n",
       "      <td>M1230701703</td>\n",
       "      <td>521801.835</td>\n",
       "      <td>685824.345</td>\n",
       "      <td>0</td>\n",
       "      <td>0</td>\n",
       "      <td>0.0</td>\n",
       "      <td>0</td>\n",
       "      <td>0</td>\n",
       "      <td>1</td>\n",
       "      <td>0</td>\n",
       "    </tr>\n",
       "  </tbody>\n",
       "</table>\n",
       "</div>"
      ],
      "text/plain": [
       "   step    amount     nameOrig  oldbalanceOrg  newbalanceOrig     nameDest  \\\n",
       "0     1   9839.64  C1231006815       170136.0       160296.36  M1979787155   \n",
       "1     1   1864.28  C1666544295        21249.0        19384.72  M2044282225   \n",
       "2     1    181.00  C1305486145          181.0            0.00   C553264065   \n",
       "3     1    181.00   C840083671          181.0            0.00    C38997010   \n",
       "4     1  11668.14  C2048537720        41554.0        29885.86  M1230701703   \n",
       "\n",
       "   oldbalanceDest  newbalanceDest  isFraud  isFlaggedFraud  \\\n",
       "0      521801.835      685824.345        0               0   \n",
       "1      521801.835      685824.345        0               0   \n",
       "2           0.000           0.000        1               0   \n",
       "3       21182.000           0.000        1               0   \n",
       "4      521801.835      685824.345        0               0   \n",
       "\n",
       "   nameDest_startswith_C  type_CASH_OUT  type_DEBIT  type_PAYMENT  \\\n",
       "0                    0.0              0           0             1   \n",
       "1                    0.0              0           0             1   \n",
       "2                    1.0              0           0             0   \n",
       "3                    1.0              1           0             0   \n",
       "4                    0.0              0           0             1   \n",
       "\n",
       "   type_TRANSFER  \n",
       "0              0  \n",
       "1              0  \n",
       "2              1  \n",
       "3              0  \n",
       "4              0  "
      ]
     },
     "execution_count": 70,
     "metadata": {},
     "output_type": "execute_result"
    }
   ],
   "source": [
    "dataset.head()"
   ]
  },
  {
   "cell_type": "code",
   "execution_count": 71,
   "id": "a7d6a4ff",
   "metadata": {
    "execution": {
     "iopub.execute_input": "2022-04-13T16:08:33.195579Z",
     "iopub.status.busy": "2022-04-13T16:08:33.194743Z",
     "iopub.status.idle": "2022-04-13T16:08:33.198862Z",
     "shell.execute_reply": "2022-04-13T16:08:33.199340Z",
     "shell.execute_reply.started": "2022-04-13T15:07:09.764479Z"
    },
    "papermill": {
     "duration": 0.163143,
     "end_time": "2022-04-13T16:08:33.199521",
     "exception": false,
     "start_time": "2022-04-13T16:08:33.036378",
     "status": "completed"
    },
    "tags": []
   },
   "outputs": [
    {
     "data": {
      "text/plain": [
       "(5977751, 15)"
      ]
     },
     "execution_count": 71,
     "metadata": {},
     "output_type": "execute_result"
    }
   ],
   "source": [
    "dataset.shape"
   ]
  },
  {
   "cell_type": "markdown",
   "id": "c901a6d7",
   "metadata": {
    "papermill": {
     "duration": 0.157024,
     "end_time": "2022-04-13T16:08:33.513800",
     "exception": false,
     "start_time": "2022-04-13T16:08:33.356776",
     "status": "completed"
    },
    "tags": []
   },
   "source": [
    "CASH_IN, DEBIT, PAYMENT do not have any fraudulent transactions associated with them, so it would be good to drop their columns."
   ]
  },
  {
   "cell_type": "code",
   "execution_count": 72,
   "id": "e4d893dd",
   "metadata": {
    "execution": {
     "iopub.execute_input": "2022-04-13T16:08:33.832023Z",
     "iopub.status.busy": "2022-04-13T16:08:33.831262Z",
     "iopub.status.idle": "2022-04-13T16:08:35.111638Z",
     "shell.execute_reply": "2022-04-13T16:08:35.111028Z",
     "shell.execute_reply.started": "2022-04-13T15:07:09.772671Z"
    },
    "papermill": {
     "duration": 1.43802,
     "end_time": "2022-04-13T16:08:35.111824",
     "exception": false,
     "start_time": "2022-04-13T16:08:33.673804",
     "status": "completed"
    },
    "tags": []
   },
   "outputs": [],
   "source": [
    "dataset = dataset.drop(['type_DEBIT', 'type_PAYMENT'], axis=1)"
   ]
  },
  {
   "cell_type": "code",
   "execution_count": 73,
   "id": "a2aaa58d",
   "metadata": {
    "execution": {
     "iopub.execute_input": "2022-04-13T16:08:35.423430Z",
     "iopub.status.busy": "2022-04-13T16:08:35.422817Z",
     "iopub.status.idle": "2022-04-13T16:08:35.427753Z",
     "shell.execute_reply": "2022-04-13T16:08:35.428205Z",
     "shell.execute_reply.started": "2022-04-13T15:07:11.052435Z"
    },
    "papermill": {
     "duration": 0.161113,
     "end_time": "2022-04-13T16:08:35.428379",
     "exception": false,
     "start_time": "2022-04-13T16:08:35.267266",
     "status": "completed"
    },
    "tags": []
   },
   "outputs": [
    {
     "data": {
      "text/plain": [
       "(5977751, 13)"
      ]
     },
     "execution_count": 73,
     "metadata": {},
     "output_type": "execute_result"
    }
   ],
   "source": [
    "dataset.shape"
   ]
  },
  {
   "cell_type": "markdown",
   "id": "ef2acc2c",
   "metadata": {
    "papermill": {
     "duration": 0.154705,
     "end_time": "2022-04-13T16:08:35.737083",
     "exception": false,
     "start_time": "2022-04-13T16:08:35.582378",
     "status": "completed"
    },
    "tags": []
   },
   "source": [
    "**Splitting the dataset into training set and test set**"
   ]
  },
  {
   "cell_type": "code",
   "execution_count": 74,
   "id": "131ee9c5",
   "metadata": {
    "execution": {
     "iopub.execute_input": "2022-04-13T16:08:36.055986Z",
     "iopub.status.busy": "2022-04-13T16:08:36.055304Z",
     "iopub.status.idle": "2022-04-13T16:08:42.292897Z",
     "shell.execute_reply": "2022-04-13T16:08:42.293431Z",
     "shell.execute_reply.started": "2022-04-13T15:07:11.060586Z"
    },
    "papermill": {
     "duration": 6.399893,
     "end_time": "2022-04-13T16:08:42.293662",
     "exception": false,
     "start_time": "2022-04-13T16:08:35.893769",
     "status": "completed"
    },
    "tags": []
   },
   "outputs": [
    {
     "name": "stdout",
     "output_type": "stream",
     "text": [
      "Original dataset size --> (5977751, 13)\n",
      "Training set size --> (5738640, 12)\n",
      "Testing set size --> (239111, 12)\n"
     ]
    }
   ],
   "source": [
    "from sklearn.model_selection import train_test_split\n",
    "\n",
    "X = dataset.drop([target], axis=1)\n",
    "y = dataset[target]\n",
    "\n",
    "X_train, X_test, y_train, y_test = train_test_split(X, y, test_size=0.04, random_state=403)\n",
    "X_train.reset_index(drop=True, inplace=True)\n",
    "\n",
    "print('Original dataset size --> ({}, {})'.format(dataset.shape[0], dataset.shape[1]))\n",
    "print('Training set size --> ({}, {})'.format(X_train.shape[0], X_train.shape[1]))\n",
    "print('Testing set size --> ({}, {})'.format(X_test.shape[0], X_test.shape[1]))\n"
   ]
  },
  {
   "cell_type": "code",
   "execution_count": 75,
   "id": "1e47528f",
   "metadata": {
    "execution": {
     "iopub.execute_input": "2022-04-13T16:08:42.609080Z",
     "iopub.status.busy": "2022-04-13T16:08:42.608432Z",
     "iopub.status.idle": "2022-04-13T16:08:42.624348Z",
     "shell.execute_reply": "2022-04-13T16:08:42.624959Z",
     "shell.execute_reply.started": "2022-04-13T15:07:16.796450Z"
    },
    "papermill": {
     "duration": 0.176715,
     "end_time": "2022-04-13T16:08:42.625128",
     "exception": false,
     "start_time": "2022-04-13T16:08:42.448413",
     "status": "completed"
    },
    "tags": []
   },
   "outputs": [
    {
     "data": {
      "text/html": [
       "<div>\n",
       "<style scoped>\n",
       "    .dataframe tbody tr th:only-of-type {\n",
       "        vertical-align: middle;\n",
       "    }\n",
       "\n",
       "    .dataframe tbody tr th {\n",
       "        vertical-align: top;\n",
       "    }\n",
       "\n",
       "    .dataframe thead th {\n",
       "        text-align: right;\n",
       "    }\n",
       "</style>\n",
       "<table border=\"1\" class=\"dataframe\">\n",
       "  <thead>\n",
       "    <tr style=\"text-align: right;\">\n",
       "      <th></th>\n",
       "      <th>step</th>\n",
       "      <th>amount</th>\n",
       "      <th>nameOrig</th>\n",
       "      <th>oldbalanceOrg</th>\n",
       "      <th>newbalanceOrig</th>\n",
       "      <th>nameDest</th>\n",
       "      <th>oldbalanceDest</th>\n",
       "      <th>newbalanceDest</th>\n",
       "      <th>isFlaggedFraud</th>\n",
       "      <th>nameDest_startswith_C</th>\n",
       "      <th>type_CASH_OUT</th>\n",
       "      <th>type_TRANSFER</th>\n",
       "    </tr>\n",
       "  </thead>\n",
       "  <tbody>\n",
       "    <tr>\n",
       "      <th>0</th>\n",
       "      <td>326</td>\n",
       "      <td>135133.31</td>\n",
       "      <td>C61320343</td>\n",
       "      <td>0.00</td>\n",
       "      <td>0.00</td>\n",
       "      <td>C1963516031</td>\n",
       "      <td>8712517.100</td>\n",
       "      <td>8847650.400</td>\n",
       "      <td>0</td>\n",
       "      <td>1.0</td>\n",
       "      <td>1</td>\n",
       "      <td>0</td>\n",
       "    </tr>\n",
       "    <tr>\n",
       "      <th>1</th>\n",
       "      <td>331</td>\n",
       "      <td>73347.99</td>\n",
       "      <td>C2061757673</td>\n",
       "      <td>3192660.12</td>\n",
       "      <td>3266008.12</td>\n",
       "      <td>C1569772715</td>\n",
       "      <td>2225085.510</td>\n",
       "      <td>2151737.510</td>\n",
       "      <td>0</td>\n",
       "      <td>1.0</td>\n",
       "      <td>0</td>\n",
       "      <td>0</td>\n",
       "    </tr>\n",
       "    <tr>\n",
       "      <th>2</th>\n",
       "      <td>158</td>\n",
       "      <td>23640.83</td>\n",
       "      <td>C414221900</td>\n",
       "      <td>76488.49</td>\n",
       "      <td>52847.66</td>\n",
       "      <td>M643441925</td>\n",
       "      <td>521801.835</td>\n",
       "      <td>685824.345</td>\n",
       "      <td>0</td>\n",
       "      <td>0.0</td>\n",
       "      <td>0</td>\n",
       "      <td>0</td>\n",
       "    </tr>\n",
       "    <tr>\n",
       "      <th>3</th>\n",
       "      <td>297</td>\n",
       "      <td>145320.16</td>\n",
       "      <td>C902269039</td>\n",
       "      <td>0.00</td>\n",
       "      <td>0.00</td>\n",
       "      <td>C973929404</td>\n",
       "      <td>865019.170</td>\n",
       "      <td>1010339.330</td>\n",
       "      <td>0</td>\n",
       "      <td>1.0</td>\n",
       "      <td>1</td>\n",
       "      <td>0</td>\n",
       "    </tr>\n",
       "    <tr>\n",
       "      <th>4</th>\n",
       "      <td>303</td>\n",
       "      <td>8090.13</td>\n",
       "      <td>C1325671735</td>\n",
       "      <td>0.00</td>\n",
       "      <td>0.00</td>\n",
       "      <td>M1391903739</td>\n",
       "      <td>521801.835</td>\n",
       "      <td>685824.345</td>\n",
       "      <td>0</td>\n",
       "      <td>0.0</td>\n",
       "      <td>0</td>\n",
       "      <td>0</td>\n",
       "    </tr>\n",
       "  </tbody>\n",
       "</table>\n",
       "</div>"
      ],
      "text/plain": [
       "   step     amount     nameOrig  oldbalanceOrg  newbalanceOrig     nameDest  \\\n",
       "0   326  135133.31    C61320343           0.00            0.00  C1963516031   \n",
       "1   331   73347.99  C2061757673     3192660.12      3266008.12  C1569772715   \n",
       "2   158   23640.83   C414221900       76488.49        52847.66   M643441925   \n",
       "3   297  145320.16   C902269039           0.00            0.00   C973929404   \n",
       "4   303    8090.13  C1325671735           0.00            0.00  M1391903739   \n",
       "\n",
       "   oldbalanceDest  newbalanceDest  isFlaggedFraud  nameDest_startswith_C  \\\n",
       "0     8712517.100     8847650.400               0                    1.0   \n",
       "1     2225085.510     2151737.510               0                    1.0   \n",
       "2      521801.835      685824.345               0                    0.0   \n",
       "3      865019.170     1010339.330               0                    1.0   \n",
       "4      521801.835      685824.345               0                    0.0   \n",
       "\n",
       "   type_CASH_OUT  type_TRANSFER  \n",
       "0              1              0  \n",
       "1              0              0  \n",
       "2              0              0  \n",
       "3              1              0  \n",
       "4              0              0  "
      ]
     },
     "execution_count": 75,
     "metadata": {},
     "output_type": "execute_result"
    }
   ],
   "source": [
    "X_train.head()"
   ]
  },
  {
   "cell_type": "markdown",
   "id": "4d67d735",
   "metadata": {
    "papermill": {
     "duration": 0.155304,
     "end_time": "2022-04-13T16:08:42.938037",
     "exception": false,
     "start_time": "2022-04-13T16:08:42.782733",
     "status": "completed"
    },
    "tags": []
   },
   "source": [
    "**Standardizing the values**"
   ]
  },
  {
   "cell_type": "code",
   "execution_count": 76,
   "id": "53a9a99d",
   "metadata": {
    "execution": {
     "iopub.execute_input": "2022-04-13T16:08:43.377556Z",
     "iopub.status.busy": "2022-04-13T16:08:43.376822Z",
     "iopub.status.idle": "2022-04-13T16:08:46.763200Z",
     "shell.execute_reply": "2022-04-13T16:08:46.762632Z",
     "shell.execute_reply.started": "2022-04-13T15:07:16.817598Z"
    },
    "papermill": {
     "duration": 3.669016,
     "end_time": "2022-04-13T16:08:46.763354",
     "exception": false,
     "start_time": "2022-04-13T16:08:43.094338",
     "status": "completed"
    },
    "tags": []
   },
   "outputs": [
    {
     "name": "stdout",
     "output_type": "stream",
     "text": [
      "---- Standardizing the training set -----\n"
     ]
    },
    {
     "data": {
      "text/html": [
       "<div>\n",
       "<style scoped>\n",
       "    .dataframe tbody tr th:only-of-type {\n",
       "        vertical-align: middle;\n",
       "    }\n",
       "\n",
       "    .dataframe tbody tr th {\n",
       "        vertical-align: top;\n",
       "    }\n",
       "\n",
       "    .dataframe thead th {\n",
       "        text-align: right;\n",
       "    }\n",
       "</style>\n",
       "<table border=\"1\" class=\"dataframe\">\n",
       "  <thead>\n",
       "    <tr style=\"text-align: right;\">\n",
       "      <th></th>\n",
       "      <th>step</th>\n",
       "      <th>amount</th>\n",
       "      <th>oldbalanceOrg</th>\n",
       "      <th>newbalanceOrig</th>\n",
       "      <th>oldbalanceDest</th>\n",
       "      <th>newbalanceDest</th>\n",
       "      <th>isFlaggedFraud</th>\n",
       "      <th>nameDest_startswith_C</th>\n",
       "      <th>type_CASH_OUT</th>\n",
       "      <th>type_TRANSFER</th>\n",
       "    </tr>\n",
       "  </thead>\n",
       "  <tbody>\n",
       "    <tr>\n",
       "      <th>count</th>\n",
       "      <td>5.738640e+06</td>\n",
       "      <td>5.738640e+06</td>\n",
       "      <td>5.738640e+06</td>\n",
       "      <td>5.738640e+06</td>\n",
       "      <td>5.738640e+06</td>\n",
       "      <td>5.738640e+06</td>\n",
       "      <td>5.738640e+06</td>\n",
       "      <td>5.738640e+06</td>\n",
       "      <td>5.738640e+06</td>\n",
       "      <td>5.738640e+06</td>\n",
       "    </tr>\n",
       "    <tr>\n",
       "      <th>mean</th>\n",
       "      <td>8.827004e-16</td>\n",
       "      <td>3.865950e-16</td>\n",
       "      <td>-2.320635e-16</td>\n",
       "      <td>-1.496946e-15</td>\n",
       "      <td>3.122061e-14</td>\n",
       "      <td>9.177244e-15</td>\n",
       "      <td>1.394059e-06</td>\n",
       "      <td>6.401287e-01</td>\n",
       "      <td>3.742648e-01</td>\n",
       "      <td>8.911049e-02</td>\n",
       "    </tr>\n",
       "    <tr>\n",
       "      <th>std</th>\n",
       "      <td>1.000000e+00</td>\n",
       "      <td>1.000000e+00</td>\n",
       "      <td>1.000000e+00</td>\n",
       "      <td>1.000000e+00</td>\n",
       "      <td>1.000000e+00</td>\n",
       "      <td>1.000000e+00</td>\n",
       "      <td>1.180702e-03</td>\n",
       "      <td>4.799625e-01</td>\n",
       "      <td>4.839325e-01</td>\n",
       "      <td>2.849032e-01</td>\n",
       "    </tr>\n",
       "    <tr>\n",
       "      <th>min</th>\n",
       "      <td>-1.702369e+00</td>\n",
       "      <td>-2.917342e-01</td>\n",
       "      <td>-3.154311e-01</td>\n",
       "      <td>-3.184930e-01</td>\n",
       "      <td>-3.733167e-01</td>\n",
       "      <td>-3.997586e-01</td>\n",
       "      <td>0.000000e+00</td>\n",
       "      <td>0.000000e+00</td>\n",
       "      <td>0.000000e+00</td>\n",
       "      <td>0.000000e+00</td>\n",
       "    </tr>\n",
       "    <tr>\n",
       "      <th>25%</th>\n",
       "      <td>-6.146289e-01</td>\n",
       "      <td>-2.716150e-01</td>\n",
       "      <td>-3.154311e-01</td>\n",
       "      <td>-3.184930e-01</td>\n",
       "      <td>-2.795209e-01</td>\n",
       "      <td>-2.772117e-01</td>\n",
       "      <td>0.000000e+00</td>\n",
       "      <td>0.000000e+00</td>\n",
       "      <td>0.000000e+00</td>\n",
       "      <td>0.000000e+00</td>\n",
       "    </tr>\n",
       "    <tr>\n",
       "      <th>50%</th>\n",
       "      <td>-3.216194e-02</td>\n",
       "      <td>-1.811341e-01</td>\n",
       "      <td>-2.994084e-01</td>\n",
       "      <td>-3.184930e-01</td>\n",
       "      <td>-2.152810e-01</td>\n",
       "      <td>-2.084228e-01</td>\n",
       "      <td>0.000000e+00</td>\n",
       "      <td>1.000000e+00</td>\n",
       "      <td>0.000000e+00</td>\n",
       "      <td>0.000000e+00</td>\n",
       "    </tr>\n",
       "    <tr>\n",
       "      <th>75%</th>\n",
       "      <td>6.415348e-01</td>\n",
       "      <td>4.221309e-02</td>\n",
       "      <td>-2.095451e-01</td>\n",
       "      <td>-2.037726e-01</td>\n",
       "      <td>-1.138998e-01</td>\n",
       "      <td>-1.049979e-01</td>\n",
       "      <td>0.000000e+00</td>\n",
       "      <td>1.000000e+00</td>\n",
       "      <td>1.000000e+00</td>\n",
       "      <td>0.000000e+00</td>\n",
       "    </tr>\n",
       "    <tr>\n",
       "      <th>max</th>\n",
       "      <td>3.504746e+00</td>\n",
       "      <td>1.492141e+02</td>\n",
       "      <td>1.358705e+01</td>\n",
       "      <td>6.564968e+00</td>\n",
       "      <td>1.074516e+02</td>\n",
       "      <td>9.896949e+01</td>\n",
       "      <td>1.000000e+00</td>\n",
       "      <td>1.000000e+00</td>\n",
       "      <td>1.000000e+00</td>\n",
       "      <td>1.000000e+00</td>\n",
       "    </tr>\n",
       "  </tbody>\n",
       "</table>\n",
       "</div>"
      ],
      "text/plain": [
       "               step        amount  oldbalanceOrg  newbalanceOrig  \\\n",
       "count  5.738640e+06  5.738640e+06   5.738640e+06    5.738640e+06   \n",
       "mean   8.827004e-16  3.865950e-16  -2.320635e-16   -1.496946e-15   \n",
       "std    1.000000e+00  1.000000e+00   1.000000e+00    1.000000e+00   \n",
       "min   -1.702369e+00 -2.917342e-01  -3.154311e-01   -3.184930e-01   \n",
       "25%   -6.146289e-01 -2.716150e-01  -3.154311e-01   -3.184930e-01   \n",
       "50%   -3.216194e-02 -1.811341e-01  -2.994084e-01   -3.184930e-01   \n",
       "75%    6.415348e-01  4.221309e-02  -2.095451e-01   -2.037726e-01   \n",
       "max    3.504746e+00  1.492141e+02   1.358705e+01    6.564968e+00   \n",
       "\n",
       "       oldbalanceDest  newbalanceDest  isFlaggedFraud  nameDest_startswith_C  \\\n",
       "count    5.738640e+06    5.738640e+06    5.738640e+06           5.738640e+06   \n",
       "mean     3.122061e-14    9.177244e-15    1.394059e-06           6.401287e-01   \n",
       "std      1.000000e+00    1.000000e+00    1.180702e-03           4.799625e-01   \n",
       "min     -3.733167e-01   -3.997586e-01    0.000000e+00           0.000000e+00   \n",
       "25%     -2.795209e-01   -2.772117e-01    0.000000e+00           0.000000e+00   \n",
       "50%     -2.152810e-01   -2.084228e-01    0.000000e+00           1.000000e+00   \n",
       "75%     -1.138998e-01   -1.049979e-01    0.000000e+00           1.000000e+00   \n",
       "max      1.074516e+02    9.896949e+01    1.000000e+00           1.000000e+00   \n",
       "\n",
       "       type_CASH_OUT  type_TRANSFER  \n",
       "count   5.738640e+06   5.738640e+06  \n",
       "mean    3.742648e-01   8.911049e-02  \n",
       "std     4.839325e-01   2.849032e-01  \n",
       "min     0.000000e+00   0.000000e+00  \n",
       "25%     0.000000e+00   0.000000e+00  \n",
       "50%     0.000000e+00   0.000000e+00  \n",
       "75%     1.000000e+00   0.000000e+00  \n",
       "max     1.000000e+00   1.000000e+00  "
      ]
     },
     "metadata": {},
     "output_type": "display_data"
    },
    {
     "name": "stdout",
     "output_type": "stream",
     "text": [
      "---- Standardizing the testing set ----\n"
     ]
    },
    {
     "data": {
      "text/html": [
       "<div>\n",
       "<style scoped>\n",
       "    .dataframe tbody tr th:only-of-type {\n",
       "        vertical-align: middle;\n",
       "    }\n",
       "\n",
       "    .dataframe tbody tr th {\n",
       "        vertical-align: top;\n",
       "    }\n",
       "\n",
       "    .dataframe thead th {\n",
       "        text-align: right;\n",
       "    }\n",
       "</style>\n",
       "<table border=\"1\" class=\"dataframe\">\n",
       "  <thead>\n",
       "    <tr style=\"text-align: right;\">\n",
       "      <th></th>\n",
       "      <th>step</th>\n",
       "      <th>amount</th>\n",
       "      <th>oldbalanceOrg</th>\n",
       "      <th>newbalanceOrig</th>\n",
       "      <th>oldbalanceDest</th>\n",
       "      <th>newbalanceDest</th>\n",
       "      <th>isFlaggedFraud</th>\n",
       "      <th>nameDest_startswith_C</th>\n",
       "      <th>type_CASH_OUT</th>\n",
       "      <th>type_TRANSFER</th>\n",
       "    </tr>\n",
       "  </thead>\n",
       "  <tbody>\n",
       "    <tr>\n",
       "      <th>count</th>\n",
       "      <td>239111.000000</td>\n",
       "      <td>239111.000000</td>\n",
       "      <td>239111.000000</td>\n",
       "      <td>239111.000000</td>\n",
       "      <td>239111.000000</td>\n",
       "      <td>239111.000000</td>\n",
       "      <td>239111.0</td>\n",
       "      <td>239111.000000</td>\n",
       "      <td>239111.000000</td>\n",
       "      <td>239111.000000</td>\n",
       "    </tr>\n",
       "    <tr>\n",
       "      <th>mean</th>\n",
       "      <td>-0.000336</td>\n",
       "      <td>0.001319</td>\n",
       "      <td>0.002864</td>\n",
       "      <td>0.001783</td>\n",
       "      <td>-0.000054</td>\n",
       "      <td>0.000773</td>\n",
       "      <td>0.0</td>\n",
       "      <td>0.639594</td>\n",
       "      <td>0.374420</td>\n",
       "      <td>0.089318</td>\n",
       "    </tr>\n",
       "    <tr>\n",
       "      <th>std</th>\n",
       "      <td>1.000297</td>\n",
       "      <td>0.990763</td>\n",
       "      <td>1.005075</td>\n",
       "      <td>1.003349</td>\n",
       "      <td>0.993335</td>\n",
       "      <td>0.993596</td>\n",
       "      <td>0.0</td>\n",
       "      <td>0.480119</td>\n",
       "      <td>0.483974</td>\n",
       "      <td>0.285203</td>\n",
       "    </tr>\n",
       "    <tr>\n",
       "      <th>min</th>\n",
       "      <td>-1.702369</td>\n",
       "      <td>-0.291734</td>\n",
       "      <td>-0.315431</td>\n",
       "      <td>-0.318493</td>\n",
       "      <td>-0.373317</td>\n",
       "      <td>-0.399759</td>\n",
       "      <td>0.0</td>\n",
       "      <td>0.000000</td>\n",
       "      <td>0.000000</td>\n",
       "      <td>0.000000</td>\n",
       "    </tr>\n",
       "    <tr>\n",
       "      <th>25%</th>\n",
       "      <td>-0.621647</td>\n",
       "      <td>-0.271495</td>\n",
       "      <td>-0.315431</td>\n",
       "      <td>-0.318493</td>\n",
       "      <td>-0.278375</td>\n",
       "      <td>-0.276643</td>\n",
       "      <td>0.0</td>\n",
       "      <td>0.000000</td>\n",
       "      <td>0.000000</td>\n",
       "      <td>0.000000</td>\n",
       "    </tr>\n",
       "    <tr>\n",
       "      <th>50%</th>\n",
       "      <td>-0.032162</td>\n",
       "      <td>-0.180879</td>\n",
       "      <td>-0.299458</td>\n",
       "      <td>-0.318493</td>\n",
       "      <td>-0.215281</td>\n",
       "      <td>-0.208423</td>\n",
       "      <td>0.0</td>\n",
       "      <td>1.000000</td>\n",
       "      <td>0.000000</td>\n",
       "      <td>0.000000</td>\n",
       "    </tr>\n",
       "    <tr>\n",
       "      <th>75%</th>\n",
       "      <td>0.641535</td>\n",
       "      <td>0.041696</td>\n",
       "      <td>-0.209239</td>\n",
       "      <td>-0.204023</td>\n",
       "      <td>-0.111134</td>\n",
       "      <td>-0.101503</td>\n",
       "      <td>0.0</td>\n",
       "      <td>1.000000</td>\n",
       "      <td>1.000000</td>\n",
       "      <td>0.000000</td>\n",
       "    </tr>\n",
       "    <tr>\n",
       "      <th>max</th>\n",
       "      <td>3.504746</td>\n",
       "      <td>90.685626</td>\n",
       "      <td>13.587048</td>\n",
       "      <td>6.564851</td>\n",
       "      <td>91.175447</td>\n",
       "      <td>83.944307</td>\n",
       "      <td>0.0</td>\n",
       "      <td>1.000000</td>\n",
       "      <td>1.000000</td>\n",
       "      <td>1.000000</td>\n",
       "    </tr>\n",
       "  </tbody>\n",
       "</table>\n",
       "</div>"
      ],
      "text/plain": [
       "                step         amount  oldbalanceOrg  newbalanceOrig  \\\n",
       "count  239111.000000  239111.000000  239111.000000   239111.000000   \n",
       "mean       -0.000336       0.001319       0.002864        0.001783   \n",
       "std         1.000297       0.990763       1.005075        1.003349   \n",
       "min        -1.702369      -0.291734      -0.315431       -0.318493   \n",
       "25%        -0.621647      -0.271495      -0.315431       -0.318493   \n",
       "50%        -0.032162      -0.180879      -0.299458       -0.318493   \n",
       "75%         0.641535       0.041696      -0.209239       -0.204023   \n",
       "max         3.504746      90.685626      13.587048        6.564851   \n",
       "\n",
       "       oldbalanceDest  newbalanceDest  isFlaggedFraud  nameDest_startswith_C  \\\n",
       "count   239111.000000   239111.000000        239111.0          239111.000000   \n",
       "mean        -0.000054        0.000773             0.0               0.639594   \n",
       "std          0.993335        0.993596             0.0               0.480119   \n",
       "min         -0.373317       -0.399759             0.0               0.000000   \n",
       "25%         -0.278375       -0.276643             0.0               0.000000   \n",
       "50%         -0.215281       -0.208423             0.0               1.000000   \n",
       "75%         -0.111134       -0.101503             0.0               1.000000   \n",
       "max         91.175447       83.944307             0.0               1.000000   \n",
       "\n",
       "       type_CASH_OUT  type_TRANSFER  \n",
       "count  239111.000000  239111.000000  \n",
       "mean        0.374420       0.089318  \n",
       "std         0.483974       0.285203  \n",
       "min         0.000000       0.000000  \n",
       "25%         0.000000       0.000000  \n",
       "50%         0.000000       0.000000  \n",
       "75%         1.000000       0.000000  \n",
       "max         1.000000       1.000000  "
      ]
     },
     "metadata": {},
     "output_type": "display_data"
    }
   ],
   "source": [
    "from sklearn.preprocessing import StandardScaler\n",
    "std = StandardScaler()\n",
    "print('---- Standardizing the training set -----')\n",
    "X_train[['step', 'amount', 'oldbalanceOrg'\n",
    "         , 'newbalanceOrig', 'oldbalanceDest',\n",
    "         'newbalanceDest']] = std.fit_transform(X_train.loc[:, ['step',\n",
    "                                              'amount',\n",
    "                                              'oldbalanceOrg',\n",
    "                                              'newbalanceOrig',\n",
    "                                              'oldbalanceDest',\n",
    "                                              'newbalanceDest']])\n",
    "X_train_std = pd.DataFrame(X_train, columns=X_train.columns)\n",
    "display(X_train_std.describe())\n",
    "\n",
    "print('---- Standardizing the testing set ----')\n",
    "X_test[['step', 'amount', 'oldbalanceOrg'\n",
    "         , 'newbalanceOrig', 'oldbalanceDest',\n",
    "         'newbalanceDest']] = std.transform(X_test.loc[:, ['step',\n",
    "                                              'amount',\n",
    "                                              'oldbalanceOrg',\n",
    "                                              'newbalanceOrig',\n",
    "                                              'oldbalanceDest',\n",
    "                                              'newbalanceDest']])\n",
    "X_test_std = pd.DataFrame(X_test, columns=X_train.columns)\n",
    "display(X_test_std.describe())\n",
    "\n",
    "\n"
   ]
  },
  {
   "cell_type": "markdown",
   "id": "5b1168e2",
   "metadata": {
    "papermill": {
     "duration": 0.159607,
     "end_time": "2022-04-13T16:08:47.084537",
     "exception": false,
     "start_time": "2022-04-13T16:08:46.924930",
     "status": "completed"
    },
    "tags": []
   },
   "source": [
    "**Feature selection/Extraction**"
   ]
  },
  {
   "cell_type": "markdown",
   "id": "ab4e4755",
   "metadata": {
    "papermill": {
     "duration": 0.158355,
     "end_time": "2022-04-13T16:08:47.407249",
     "exception": false,
     "start_time": "2022-04-13T16:08:47.248894",
     "status": "completed"
    },
    "tags": []
   },
   "source": [
    "Correlation heatmap"
   ]
  },
  {
   "cell_type": "code",
   "execution_count": 77,
   "id": "990fc823",
   "metadata": {
    "execution": {
     "iopub.execute_input": "2022-04-13T16:08:47.744210Z",
     "iopub.status.busy": "2022-04-13T16:08:47.743269Z",
     "iopub.status.idle": "2022-04-13T16:08:51.035630Z",
     "shell.execute_reply": "2022-04-13T16:08:51.036112Z",
     "shell.execute_reply.started": "2022-04-13T15:07:20.240687Z"
    },
    "papermill": {
     "duration": 3.470194,
     "end_time": "2022-04-13T16:08:51.036289",
     "exception": false,
     "start_time": "2022-04-13T16:08:47.566095",
     "status": "completed"
    },
    "tags": []
   },
   "outputs": [
    {
     "data": {
      "image/png": "[encoded data removed]",
      "text/plain": [
       "<Figure size 864x720 with 2 Axes>"
      ]
     },
     "metadata": {
      "needs_background": "light"
     },
     "output_type": "display_data"
    }
   ],
   "source": [
    "plt.figure(figsize=[12, 10])\n",
    "\n",
    "sns.heatmap(dataset.corr(), annot=True, vmax=1, vmin=-1)\n",
    "plt.show()"
   ]
  },
  {
   "cell_type": "markdown",
   "id": "6422f242",
   "metadata": {
    "papermill": {
     "duration": 0.16444,
     "end_time": "2022-04-13T16:08:51.367877",
     "exception": false,
     "start_time": "2022-04-13T16:08:51.203437",
     "status": "completed"
    },
    "tags": []
   },
   "source": [
    "Since we have a binary target variable, corr heatmap won't be as such useful to figure out which features are better predictors. But we can get the idea about some correlated features, which makes a few features redundant in our predictive model(We will need to remove these redundant feature variable) We can see a few correlated features above."
   ]
  },
  {
   "cell_type": "markdown",
   "id": "f58d9d57",
   "metadata": {
    "papermill": {
     "duration": 0.162759,
     "end_time": "2022-04-13T16:08:51.691860",
     "exception": false,
     "start_time": "2022-04-13T16:08:51.529101",
     "status": "completed"
    },
    "tags": []
   },
   "source": [
    "Testing logistic regression with out data"
   ]
  },
  {
   "cell_type": "code",
   "execution_count": 78,
   "id": "64525a17",
   "metadata": {
    "execution": {
     "iopub.execute_input": "2022-04-13T16:08:52.027304Z",
     "iopub.status.busy": "2022-04-13T16:08:52.026647Z",
     "iopub.status.idle": "2022-04-13T16:08:52.028726Z",
     "shell.execute_reply": "2022-04-13T16:08:52.028122Z",
     "shell.execute_reply.started": "2022-04-13T15:07:23.564397Z"
    },
    "papermill": {
     "duration": 0.173756,
     "end_time": "2022-04-13T16:08:52.028868",
     "exception": false,
     "start_time": "2022-04-13T16:08:51.855112",
     "status": "completed"
    },
    "tags": []
   },
   "outputs": [],
   "source": [
    "y_train_ = y_train.values\n",
    "y_test_ = y_test.values"
   ]
  },
  {
   "cell_type": "code",
   "execution_count": 79,
   "id": "5119d9b0",
   "metadata": {
    "execution": {
     "iopub.execute_input": "2022-04-13T16:08:52.361803Z",
     "iopub.status.busy": "2022-04-13T16:08:52.361065Z",
     "iopub.status.idle": "2022-04-13T16:08:52.363665Z",
     "shell.execute_reply": "2022-04-13T16:08:52.364133Z",
     "shell.execute_reply.started": "2022-04-13T15:07:23.569619Z"
    },
    "papermill": {
     "duration": 0.168851,
     "end_time": "2022-04-13T16:08:52.364311",
     "exception": false,
     "start_time": "2022-04-13T16:08:52.195460",
     "status": "completed"
    },
    "tags": []
   },
   "outputs": [
    {
     "data": {
      "text/plain": [
       "(5738640, 12)"
      ]
     },
     "execution_count": 79,
     "metadata": {},
     "output_type": "execute_result"
    }
   ],
   "source": [
    "X_train_std.shape"
   ]
  },
  {
   "cell_type": "markdown",
   "id": "a393a1d5",
   "metadata": {
    "papermill": {
     "duration": 0.173297,
     "end_time": "2022-04-13T16:08:52.701753",
     "exception": false,
     "start_time": "2022-04-13T16:08:52.528456",
     "status": "completed"
    },
    "tags": []
   },
   "source": []
  },
  {
   "cell_type": "markdown",
   "id": "11d47ee1",
   "metadata": {
    "papermill": {
     "duration": 0.167117,
     "end_time": "2022-04-13T16:08:53.031880",
     "exception": false,
     "start_time": "2022-04-13T16:08:52.864763",
     "status": "completed"
    },
    "tags": []
   },
   "source": [
    "Computing the class weight for applyting modelling techniques"
   ]
  },
  {
   "cell_type": "code",
   "execution_count": 80,
   "id": "2a462f1f",
   "metadata": {
    "execution": {
     "iopub.execute_input": "2022-04-13T16:08:53.360555Z",
     "iopub.status.busy": "2022-04-13T16:08:53.359907Z",
     "iopub.status.idle": "2022-04-13T16:08:54.715831Z",
     "shell.execute_reply": "2022-04-13T16:08:54.715156Z",
     "shell.execute_reply.started": "2022-04-13T15:07:23.584422Z"
    },
    "papermill": {
     "duration": 1.520164,
     "end_time": "2022-04-13T16:08:54.715979",
     "exception": false,
     "start_time": "2022-04-13T16:08:53.195815",
     "status": "completed"
    },
    "tags": []
   },
   "outputs": [
    {
     "data": {
      "text/plain": [
       "array([  0.50066157, 378.38850059])"
      ]
     },
     "execution_count": 80,
     "metadata": {},
     "output_type": "execute_result"
    }
   ],
   "source": [
    "from sklearn.utils.class_weight import compute_class_weight\n",
    "compute_class_weight(class_weight='balanced', classes=[0, 1], y = y_train_)"
   ]
  },
  {
   "cell_type": "code",
   "execution_count": 81,
   "id": "62525166",
   "metadata": {
    "execution": {
     "iopub.execute_input": "2022-04-13T16:08:55.044267Z",
     "iopub.status.busy": "2022-04-13T16:08:55.043627Z",
     "iopub.status.idle": "2022-04-13T16:08:55.059061Z",
     "shell.execute_reply": "2022-04-13T16:08:55.059669Z",
     "shell.execute_reply.started": "2022-04-13T15:07:24.956833Z"
    },
    "papermill": {
     "duration": 0.182166,
     "end_time": "2022-04-13T16:08:55.059854",
     "exception": false,
     "start_time": "2022-04-13T16:08:54.877688",
     "status": "completed"
    },
    "tags": []
   },
   "outputs": [
    {
     "data": {
      "text/html": [
       "<div>\n",
       "<style scoped>\n",
       "    .dataframe tbody tr th:only-of-type {\n",
       "        vertical-align: middle;\n",
       "    }\n",
       "\n",
       "    .dataframe tbody tr th {\n",
       "        vertical-align: top;\n",
       "    }\n",
       "\n",
       "    .dataframe thead th {\n",
       "        text-align: right;\n",
       "    }\n",
       "</style>\n",
       "<table border=\"1\" class=\"dataframe\">\n",
       "  <thead>\n",
       "    <tr style=\"text-align: right;\">\n",
       "      <th></th>\n",
       "      <th>step</th>\n",
       "      <th>amount</th>\n",
       "      <th>nameOrig</th>\n",
       "      <th>oldbalanceOrg</th>\n",
       "      <th>newbalanceOrig</th>\n",
       "      <th>nameDest</th>\n",
       "      <th>oldbalanceDest</th>\n",
       "      <th>newbalanceDest</th>\n",
       "      <th>isFlaggedFraud</th>\n",
       "      <th>nameDest_startswith_C</th>\n",
       "      <th>type_CASH_OUT</th>\n",
       "      <th>type_TRANSFER</th>\n",
       "    </tr>\n",
       "  </thead>\n",
       "  <tbody>\n",
       "    <tr>\n",
       "      <th>0</th>\n",
       "      <td>0.578376</td>\n",
       "      <td>-0.073192</td>\n",
       "      <td>C61320343</td>\n",
       "      <td>-0.315431</td>\n",
       "      <td>-0.318493</td>\n",
       "      <td>C1963516031</td>\n",
       "      <td>2.265404</td>\n",
       "      <td>2.068617</td>\n",
       "      <td>0</td>\n",
       "      <td>1.0</td>\n",
       "      <td>1</td>\n",
       "      <td>0</td>\n",
       "    </tr>\n",
       "    <tr>\n",
       "      <th>1</th>\n",
       "      <td>0.613464</td>\n",
       "      <td>-0.173114</td>\n",
       "      <td>C2061757673</td>\n",
       "      <td>4.372527</td>\n",
       "      <td>4.254498</td>\n",
       "      <td>C1569772715</td>\n",
       "      <td>0.300585</td>\n",
       "      <td>0.200547</td>\n",
       "      <td>0</td>\n",
       "      <td>1.0</td>\n",
       "      <td>0</td>\n",
       "      <td>0</td>\n",
       "    </tr>\n",
       "    <tr>\n",
       "      <th>2</th>\n",
       "      <td>-0.600594</td>\n",
       "      <td>-0.253501</td>\n",
       "      <td>C414221900</td>\n",
       "      <td>-0.203119</td>\n",
       "      <td>-0.244497</td>\n",
       "      <td>M643441925</td>\n",
       "      <td>-0.215281</td>\n",
       "      <td>-0.208423</td>\n",
       "      <td>0</td>\n",
       "      <td>0.0</td>\n",
       "      <td>0</td>\n",
       "      <td>0</td>\n",
       "    </tr>\n",
       "    <tr>\n",
       "      <th>3</th>\n",
       "      <td>0.374863</td>\n",
       "      <td>-0.056718</td>\n",
       "      <td>C902269039</td>\n",
       "      <td>-0.315431</td>\n",
       "      <td>-0.318493</td>\n",
       "      <td>C973929404</td>\n",
       "      <td>-0.111332</td>\n",
       "      <td>-0.117887</td>\n",
       "      <td>0</td>\n",
       "      <td>1.0</td>\n",
       "      <td>1</td>\n",
       "      <td>0</td>\n",
       "    </tr>\n",
       "    <tr>\n",
       "      <th>4</th>\n",
       "      <td>0.416969</td>\n",
       "      <td>-0.278651</td>\n",
       "      <td>C1325671735</td>\n",
       "      <td>-0.315431</td>\n",
       "      <td>-0.318493</td>\n",
       "      <td>M1391903739</td>\n",
       "      <td>-0.215281</td>\n",
       "      <td>-0.208423</td>\n",
       "      <td>0</td>\n",
       "      <td>0.0</td>\n",
       "      <td>0</td>\n",
       "      <td>0</td>\n",
       "    </tr>\n",
       "  </tbody>\n",
       "</table>\n",
       "</div>"
      ],
      "text/plain": [
       "       step    amount     nameOrig  oldbalanceOrg  newbalanceOrig  \\\n",
       "0  0.578376 -0.073192    C61320343      -0.315431       -0.318493   \n",
       "1  0.613464 -0.173114  C2061757673       4.372527        4.254498   \n",
       "2 -0.600594 -0.253501   C414221900      -0.203119       -0.244497   \n",
       "3  0.374863 -0.056718   C902269039      -0.315431       -0.318493   \n",
       "4  0.416969 -0.278651  C1325671735      -0.315431       -0.318493   \n",
       "\n",
       "      nameDest  oldbalanceDest  newbalanceDest  isFlaggedFraud  \\\n",
       "0  C1963516031        2.265404        2.068617               0   \n",
       "1  C1569772715        0.300585        0.200547               0   \n",
       "2   M643441925       -0.215281       -0.208423               0   \n",
       "3   C973929404       -0.111332       -0.117887               0   \n",
       "4  M1391903739       -0.215281       -0.208423               0   \n",
       "\n",
       "   nameDest_startswith_C  type_CASH_OUT  type_TRANSFER  \n",
       "0                    1.0              1              0  \n",
       "1                    1.0              0              0  \n",
       "2                    0.0              0              0  \n",
       "3                    1.0              1              0  \n",
       "4                    0.0              0              0  "
      ]
     },
     "execution_count": 81,
     "metadata": {},
     "output_type": "execute_result"
    }
   ],
   "source": [
    "X_train_std.head()"
   ]
  },
  {
   "cell_type": "code",
   "execution_count": 82,
   "id": "5448d743",
   "metadata": {
    "execution": {
     "iopub.execute_input": "2022-04-13T16:08:55.391017Z",
     "iopub.status.busy": "2022-04-13T16:08:55.390360Z",
     "iopub.status.idle": "2022-04-13T16:08:55.993462Z",
     "shell.execute_reply": "2022-04-13T16:08:55.992888Z",
     "shell.execute_reply.started": "2022-04-13T15:07:24.984265Z"
    },
    "papermill": {
     "duration": 0.767913,
     "end_time": "2022-04-13T16:08:55.993633",
     "exception": false,
     "start_time": "2022-04-13T16:08:55.225720",
     "status": "completed"
    },
    "tags": []
   },
   "outputs": [],
   "source": [
    "X_train_std = X_train_std.drop(['isFlaggedFraud'], axis=1)\n",
    "X_test_std = X_test_std.drop(['isFlaggedFraud'], axis=1)"
   ]
  },
  {
   "cell_type": "code",
   "execution_count": 83,
   "id": "53c5699f",
   "metadata": {
    "execution": {
     "iopub.execute_input": "2022-04-13T16:08:56.325713Z",
     "iopub.status.busy": "2022-04-13T16:08:56.324989Z",
     "iopub.status.idle": "2022-04-13T16:08:56.341403Z",
     "shell.execute_reply": "2022-04-13T16:08:56.341985Z",
     "shell.execute_reply.started": "2022-04-13T15:07:25.565876Z"
    },
    "papermill": {
     "duration": 0.18271,
     "end_time": "2022-04-13T16:08:56.342169",
     "exception": false,
     "start_time": "2022-04-13T16:08:56.159459",
     "status": "completed"
    },
    "tags": []
   },
   "outputs": [
    {
     "data": {
      "text/html": [
       "<div>\n",
       "<style scoped>\n",
       "    .dataframe tbody tr th:only-of-type {\n",
       "        vertical-align: middle;\n",
       "    }\n",
       "\n",
       "    .dataframe tbody tr th {\n",
       "        vertical-align: top;\n",
       "    }\n",
       "\n",
       "    .dataframe thead th {\n",
       "        text-align: right;\n",
       "    }\n",
       "</style>\n",
       "<table border=\"1\" class=\"dataframe\">\n",
       "  <thead>\n",
       "    <tr style=\"text-align: right;\">\n",
       "      <th></th>\n",
       "      <th>step</th>\n",
       "      <th>amount</th>\n",
       "      <th>nameOrig</th>\n",
       "      <th>oldbalanceOrg</th>\n",
       "      <th>newbalanceOrig</th>\n",
       "      <th>nameDest</th>\n",
       "      <th>oldbalanceDest</th>\n",
       "      <th>newbalanceDest</th>\n",
       "      <th>nameDest_startswith_C</th>\n",
       "      <th>type_CASH_OUT</th>\n",
       "      <th>type_TRANSFER</th>\n",
       "    </tr>\n",
       "  </thead>\n",
       "  <tbody>\n",
       "    <tr>\n",
       "      <th>0</th>\n",
       "      <td>0.578376</td>\n",
       "      <td>-0.073192</td>\n",
       "      <td>C61320343</td>\n",
       "      <td>-0.315431</td>\n",
       "      <td>-0.318493</td>\n",
       "      <td>C1963516031</td>\n",
       "      <td>2.265404</td>\n",
       "      <td>2.068617</td>\n",
       "      <td>1.0</td>\n",
       "      <td>1</td>\n",
       "      <td>0</td>\n",
       "    </tr>\n",
       "    <tr>\n",
       "      <th>1</th>\n",
       "      <td>0.613464</td>\n",
       "      <td>-0.173114</td>\n",
       "      <td>C2061757673</td>\n",
       "      <td>4.372527</td>\n",
       "      <td>4.254498</td>\n",
       "      <td>C1569772715</td>\n",
       "      <td>0.300585</td>\n",
       "      <td>0.200547</td>\n",
       "      <td>1.0</td>\n",
       "      <td>0</td>\n",
       "      <td>0</td>\n",
       "    </tr>\n",
       "    <tr>\n",
       "      <th>2</th>\n",
       "      <td>-0.600594</td>\n",
       "      <td>-0.253501</td>\n",
       "      <td>C414221900</td>\n",
       "      <td>-0.203119</td>\n",
       "      <td>-0.244497</td>\n",
       "      <td>M643441925</td>\n",
       "      <td>-0.215281</td>\n",
       "      <td>-0.208423</td>\n",
       "      <td>0.0</td>\n",
       "      <td>0</td>\n",
       "      <td>0</td>\n",
       "    </tr>\n",
       "    <tr>\n",
       "      <th>3</th>\n",
       "      <td>0.374863</td>\n",
       "      <td>-0.056718</td>\n",
       "      <td>C902269039</td>\n",
       "      <td>-0.315431</td>\n",
       "      <td>-0.318493</td>\n",
       "      <td>C973929404</td>\n",
       "      <td>-0.111332</td>\n",
       "      <td>-0.117887</td>\n",
       "      <td>1.0</td>\n",
       "      <td>1</td>\n",
       "      <td>0</td>\n",
       "    </tr>\n",
       "    <tr>\n",
       "      <th>4</th>\n",
       "      <td>0.416969</td>\n",
       "      <td>-0.278651</td>\n",
       "      <td>C1325671735</td>\n",
       "      <td>-0.315431</td>\n",
       "      <td>-0.318493</td>\n",
       "      <td>M1391903739</td>\n",
       "      <td>-0.215281</td>\n",
       "      <td>-0.208423</td>\n",
       "      <td>0.0</td>\n",
       "      <td>0</td>\n",
       "      <td>0</td>\n",
       "    </tr>\n",
       "  </tbody>\n",
       "</table>\n",
       "</div>"
      ],
      "text/plain": [
       "       step    amount     nameOrig  oldbalanceOrg  newbalanceOrig  \\\n",
       "0  0.578376 -0.073192    C61320343      -0.315431       -0.318493   \n",
       "1  0.613464 -0.173114  C2061757673       4.372527        4.254498   \n",
       "2 -0.600594 -0.253501   C414221900      -0.203119       -0.244497   \n",
       "3  0.374863 -0.056718   C902269039      -0.315431       -0.318493   \n",
       "4  0.416969 -0.278651  C1325671735      -0.315431       -0.318493   \n",
       "\n",
       "      nameDest  oldbalanceDest  newbalanceDest  nameDest_startswith_C  \\\n",
       "0  C1963516031        2.265404        2.068617                    1.0   \n",
       "1  C1569772715        0.300585        0.200547                    1.0   \n",
       "2   M643441925       -0.215281       -0.208423                    0.0   \n",
       "3   C973929404       -0.111332       -0.117887                    1.0   \n",
       "4  M1391903739       -0.215281       -0.208423                    0.0   \n",
       "\n",
       "   type_CASH_OUT  type_TRANSFER  \n",
       "0              1              0  \n",
       "1              0              0  \n",
       "2              0              0  \n",
       "3              1              0  \n",
       "4              0              0  "
      ]
     },
     "execution_count": 83,
     "metadata": {},
     "output_type": "execute_result"
    }
   ],
   "source": [
    "X_train_std.head()"
   ]
  },
  {
   "cell_type": "code",
   "execution_count": 84,
   "id": "a43113cd",
   "metadata": {
    "execution": {
     "iopub.execute_input": "2022-04-13T16:08:56.676573Z",
     "iopub.status.busy": "2022-04-13T16:08:56.675862Z",
     "iopub.status.idle": "2022-04-13T16:08:56.834907Z",
     "shell.execute_reply": "2022-04-13T16:08:56.834316Z",
     "shell.execute_reply.started": "2022-04-13T15:07:25.585935Z"
    },
    "papermill": {
     "duration": 0.327273,
     "end_time": "2022-04-13T16:08:56.835049",
     "exception": false,
     "start_time": "2022-04-13T16:08:56.507776",
     "status": "completed"
    },
    "tags": []
   },
   "outputs": [],
   "source": [
    "X_train_std = X_train_std.drop(['nameOrig', 'nameDest'], axis=1)\n",
    "X_test_std = X_test_std.drop(['nameOrig', 'nameDest'], axis=1)"
   ]
  },
  {
   "cell_type": "markdown",
   "id": "4f8cf671",
   "metadata": {
    "papermill": {
     "duration": 0.164437,
     "end_time": "2022-04-13T16:08:57.165561",
     "exception": false,
     "start_time": "2022-04-13T16:08:57.001124",
     "status": "completed"
    },
    "tags": []
   },
   "source": [
    "**Predictive Modeling**"
   ]
  },
  {
   "cell_type": "markdown",
   "id": "87683a8f",
   "metadata": {
    "papermill": {
     "duration": 0.163784,
     "end_time": "2022-04-13T16:08:57.492208",
     "exception": false,
     "start_time": "2022-04-13T16:08:57.328424",
     "status": "completed"
    },
    "tags": []
   },
   "source": [
    "Random Forest"
   ]
  },
  {
   "cell_type": "code",
   "execution_count": 85,
   "id": "337b0ef3",
   "metadata": {
    "execution": {
     "iopub.execute_input": "2022-04-13T16:08:57.829786Z",
     "iopub.status.busy": "2022-04-13T16:08:57.829077Z",
     "iopub.status.idle": "2022-04-13T16:15:35.489739Z",
     "shell.execute_reply": "2022-04-13T16:15:35.490325Z",
     "shell.execute_reply.started": "2022-04-13T15:07:25.752237Z"
    },
    "papermill": {
     "duration": 397.82976,
     "end_time": "2022-04-13T16:15:35.490728",
     "exception": false,
     "start_time": "2022-04-13T16:08:57.660968",
     "status": "completed"
    },
    "tags": []
   },
   "outputs": [
    {
     "data": {
      "text/plain": [
       "RandomForestClassifier(class_weight='balanced', criterion='entropy',\n",
       "                       min_samples_leaf=3, n_jobs=-1)"
      ]
     },
     "execution_count": 85,
     "metadata": {},
     "output_type": "execute_result"
    }
   ],
   "source": [
    "from sklearn.ensemble import RandomForestClassifier\n",
    "RF = RandomForestClassifier(n_estimators=100, criterion='entropy', min_samples_leaf=3, class_weight='balanced', n_jobs=-1)\n",
    "RF.fit(X_train_std, y_train_)\n"
   ]
  },
  {
   "cell_type": "code",
   "execution_count": 86,
   "id": "814f6909",
   "metadata": {
    "execution": {
     "iopub.execute_input": "2022-04-13T16:15:35.833760Z",
     "iopub.status.busy": "2022-04-13T16:15:35.832302Z",
     "iopub.status.idle": "2022-04-13T16:16:07.224229Z",
     "shell.execute_reply": "2022-04-13T16:16:07.223118Z",
     "shell.execute_reply.started": "2022-04-13T15:13:58.423545Z"
    },
    "papermill": {
     "duration": 31.569199,
     "end_time": "2022-04-13T16:16:07.224481",
     "exception": false,
     "start_time": "2022-04-13T16:15:35.655282",
     "status": "completed"
    },
    "tags": []
   },
   "outputs": [
    {
     "name": "stdout",
     "output_type": "stream",
     "text": [
      "0.986789874406195\n",
      "0.8948247078464107\n",
      "              precision    recall  f1-score   support\n",
      "\n",
      "           0       1.00      1.00      1.00   5731057\n",
      "           1       0.97      1.00      0.99      7583\n",
      "\n",
      "    accuracy                           1.00   5738640\n",
      "   macro avg       0.99      1.00      0.99   5738640\n",
      "weighted avg       1.00      1.00      1.00   5738640\n",
      "\n",
      "              precision    recall  f1-score   support\n",
      "\n",
      "           0       1.00      1.00      1.00    238795\n",
      "           1       0.95      0.85      0.89       316\n",
      "\n",
      "    accuracy                           1.00    239111\n",
      "   macro avg       0.97      0.92      0.95    239111\n",
      "weighted avg       1.00      1.00      1.00    239111\n",
      "\n"
     ]
    }
   ],
   "source": [
    "from sklearn.metrics import f1_score, classification_report\n",
    "pred1 = RF.predict(X_train_std)\n",
    "pred2 = RF.predict(X_test_std)\n",
    "\n",
    "print(f1_score(y_train_, pred1))\n",
    "print(f1_score(y_test_, pred2))\n",
    "\n",
    "print(classification_report(y_train_, pred1))\n",
    "print(classification_report(y_test_, pred2))"
   ]
  },
  {
   "cell_type": "markdown",
   "id": "21274077",
   "metadata": {
    "papermill": {
     "duration": 0.169055,
     "end_time": "2022-04-13T16:16:07.562877",
     "exception": false,
     "start_time": "2022-04-13T16:16:07.393822",
     "status": "completed"
    },
    "tags": []
   },
   "source": [
    "Using BaggingClassifier"
   ]
  },
  {
   "cell_type": "code",
   "execution_count": 87,
   "id": "13736d1e",
   "metadata": {
    "execution": {
     "iopub.execute_input": "2022-04-13T16:16:07.925509Z",
     "iopub.status.busy": "2022-04-13T16:16:07.924001Z",
     "iopub.status.idle": "2022-04-13T16:31:48.299594Z",
     "shell.execute_reply": "2022-04-13T16:31:48.300156Z",
     "shell.execute_reply.started": "2022-04-13T15:14:29.405524Z"
    },
    "papermill": {
     "duration": 940.549744,
     "end_time": "2022-04-13T16:31:48.300423",
     "exception": false,
     "start_time": "2022-04-13T16:16:07.750679",
     "status": "completed"
    },
    "tags": []
   },
   "outputs": [
    {
     "data": {
      "text/plain": [
       "BaggingClassifier(base_estimator=DecisionTreeClassifier(class_weight='balanced',\n",
       "                                                        criterion='entropy'),\n",
       "                  n_estimators=100, n_jobs=-1)"
      ]
     },
     "execution_count": 87,
     "metadata": {},
     "output_type": "execute_result"
    }
   ],
   "source": [
    "from sklearn.ensemble import BaggingClassifier\n",
    "from sklearn.tree import DecisionTreeClassifier\n",
    "BC = BaggingClassifier(base_estimator=DecisionTreeClassifier(criterion='entropy', class_weight='balanced'), n_estimators=100, n_jobs=-1)\n",
    "BC.fit(X_train_std, y_train_)\n"
   ]
  },
  {
   "cell_type": "code",
   "execution_count": 88,
   "id": "fb583d97",
   "metadata": {
    "execution": {
     "iopub.execute_input": "2022-04-13T16:31:48.639351Z",
     "iopub.status.busy": "2022-04-13T16:31:48.638664Z",
     "iopub.status.idle": "2022-04-13T16:32:31.875344Z",
     "shell.execute_reply": "2022-04-13T16:32:31.876253Z",
     "shell.execute_reply.started": "2022-04-13T15:30:02.430283Z"
    },
    "papermill": {
     "duration": 43.406885,
     "end_time": "2022-04-13T16:32:31.876550",
     "exception": false,
     "start_time": "2022-04-13T16:31:48.469665",
     "status": "completed"
    },
    "tags": []
   },
   "outputs": [
    {
     "name": "stdout",
     "output_type": "stream",
     "text": [
      "1.0\n",
      "0.9\n",
      "              precision    recall  f1-score   support\n",
      "\n",
      "           0       1.00      1.00      1.00   5731057\n",
      "           1       1.00      1.00      1.00      7583\n",
      "\n",
      "    accuracy                           1.00   5738640\n",
      "   macro avg       1.00      1.00      1.00   5738640\n",
      "weighted avg       1.00      1.00      1.00   5738640\n",
      "\n",
      "              precision    recall  f1-score   support\n",
      "\n",
      "           0       1.00      1.00      1.00    238795\n",
      "           1       0.95      0.85      0.90       316\n",
      "\n",
      "    accuracy                           1.00    239111\n",
      "   macro avg       0.98      0.93      0.95    239111\n",
      "weighted avg       1.00      1.00      1.00    239111\n",
      "\n"
     ]
    }
   ],
   "source": [
    "from sklearn.metrics import f1_score, classification_report\n",
    "pred1 = BC.predict(X_train_std)\n",
    "pred2 = BC.predict(X_test_std)\n",
    "\n",
    "print(f1_score(y_train_, pred1))\n",
    "print(f1_score(y_test_, pred2))\n",
    "\n",
    "print(classification_report(y_train_, pred1))\n",
    "print(classification_report(y_test_, pred2))"
   ]
  },
  {
   "cell_type": "code",
   "execution_count": 89,
   "id": "c822f31f",
   "metadata": {
    "execution": {
     "iopub.execute_input": "2022-04-13T16:32:32.227326Z",
     "iopub.status.busy": "2022-04-13T16:32:32.226301Z",
     "iopub.status.idle": "2022-04-13T16:32:32.392407Z",
     "shell.execute_reply": "2022-04-13T16:32:32.391826Z",
     "shell.execute_reply.started": "2022-04-13T15:34:53.645498Z"
    },
    "papermill": {
     "duration": 0.345533,
     "end_time": "2022-04-13T16:32:32.392611",
     "exception": false,
     "start_time": "2022-04-13T16:32:32.047078",
     "status": "completed"
    },
    "tags": []
   },
   "outputs": [],
   "source": [
    "import xgboost as xgb"
   ]
  },
  {
   "cell_type": "code",
   "execution_count": 90,
   "id": "441b5755",
   "metadata": {
    "execution": {
     "iopub.execute_input": "2022-04-13T16:32:32.733764Z",
     "iopub.status.busy": "2022-04-13T16:32:32.732969Z",
     "iopub.status.idle": "2022-04-13T16:45:04.293679Z",
     "shell.execute_reply": "2022-04-13T16:45:04.294217Z",
     "shell.execute_reply.started": "2022-04-13T15:51:23.243320Z"
    },
    "papermill": {
     "duration": 751.734009,
     "end_time": "2022-04-13T16:45:04.294416",
     "exception": false,
     "start_time": "2022-04-13T16:32:32.560407",
     "status": "completed"
    },
    "tags": []
   },
   "outputs": [
    {
     "name": "stderr",
     "output_type": "stream",
     "text": [
      "/opt/conda/lib/python3.7/site-packages/xgboost/sklearn.py:1224: UserWarning: The use of label encoder in XGBClassifier is deprecated and will be removed in a future release. To remove this warning, do the following: 1) Pass option use_label_encoder=False when constructing XGBClassifier object; and 2) Encode your labels (y) as integers starting with 0, i.e. 0, 1, 2, ..., [num_class - 1].\n",
      "  warnings.warn(label_encoder_deprecation_msg, UserWarning)\n"
     ]
    },
    {
     "name": "stdout",
     "output_type": "stream",
     "text": [
      "[16:32:42] WARNING: ../src/learner.cc:1115: Starting in XGBoost 1.3.0, the default evaluation metric used with the objective 'binary:logistic' was changed from 'error' to 'logloss'. Explicitly set eval_metric if you'd like to restore the old behavior.\n"
     ]
    },
    {
     "data": {
      "text/plain": [
       "XGBClassifier(base_score=0.5, booster='gbtree', colsample_bylevel=1,\n",
       "              colsample_bynode=1, colsample_bytree=1, enable_categorical=False,\n",
       "              gamma=0, gpu_id=-1, importance_type=None,\n",
       "              interaction_constraints='', learning_rate=0.300000012,\n",
       "              max_delta_step=0, max_depth=6, min_child_weight=1, missing=nan,\n",
       "              monotone_constraints='()', n_estimators=100, n_jobs=4,\n",
       "              num_parallel_tree=1, predictor='auto', random_state=0,\n",
       "              reg_alpha=0, reg_lambda=1, scale_pos_weight=1, subsample=1,\n",
       "              tree_method='approx', validate_parameters=1, verbosity=None)"
      ]
     },
     "execution_count": 90,
     "metadata": {},
     "output_type": "execute_result"
    }
   ],
   "source": [
    "model = xgb.XGBClassifier()\n",
    "model.fit(X_train_std, y_train_)"
   ]
  },
  {
   "cell_type": "code",
   "execution_count": 91,
   "id": "0fe49afd",
   "metadata": {
    "execution": {
     "iopub.execute_input": "2022-04-13T16:45:04.744480Z",
     "iopub.status.busy": "2022-04-13T16:45:04.743776Z",
     "iopub.status.idle": "2022-04-13T16:45:27.290729Z",
     "shell.execute_reply": "2022-04-13T16:45:27.291262Z",
     "shell.execute_reply.started": "2022-04-13T16:03:41.304501Z"
    },
    "papermill": {
     "duration": 22.723908,
     "end_time": "2022-04-13T16:45:27.291469",
     "exception": false,
     "start_time": "2022-04-13T16:45:04.567561",
     "status": "completed"
    },
    "tags": []
   },
   "outputs": [
    {
     "name": "stdout",
     "output_type": "stream",
     "text": [
      "0.9339328951919751\n",
      "0.91\n",
      "              precision    recall  f1-score   support\n",
      "\n",
      "           0       1.00      1.00      1.00   5731057\n",
      "           1       0.98      0.89      0.93      7583\n",
      "\n",
      "    accuracy                           1.00   5738640\n",
      "   macro avg       0.99      0.95      0.97   5738640\n",
      "weighted avg       1.00      1.00      1.00   5738640\n",
      "\n",
      "              precision    recall  f1-score   support\n",
      "\n",
      "           0       1.00      1.00      1.00    238795\n",
      "           1       0.96      0.86      0.91       316\n",
      "\n",
      "    accuracy                           1.00    239111\n",
      "   macro avg       0.98      0.93      0.95    239111\n",
      "weighted avg       1.00      1.00      1.00    239111\n",
      "\n"
     ]
    }
   ],
   "source": [
    "from sklearn.metrics import f1_score, classification_report\n",
    "pred1 = model.predict(X_train_std)\n",
    "pred2 = model.predict(X_test_std)\n",
    "\n",
    "print(f1_score(y_train_, pred1))\n",
    "print(f1_score(y_test_, pred2))\n",
    "\n",
    "print(classification_report(y_train_, pred1))\n",
    "print(classification_report(y_test_, pred2))"
   ]
  }
 ],
 "metadata": {
  "kernelspec": {
   "display_name": "Python 3",
   "language": "python",
   "name": "python3"
  },
  "language_info": {
   "codemirror_mode": {
    "name": "ipython",
    "version": 3
   },
   "file_extension": ".py",
   "mimetype": "text/x-python",
   "name": "python",
   "nbconvert_exporter": "python",
   "pygments_lexer": "ipython3",
   "version": "3.7.12"
  },
  "papermill": {
   "default_parameters": {},
   "duration": 2453.986565,
   "end_time": "2022-04-13T16:45:30.458287",
   "environment_variables": {},
   "exception": null,
   "input_path": "__notebook__.ipynb",
   "output_path": "__notebook__.ipynb",
   "parameters": {},
   "start_time": "2022-04-13T16:04:36.471722",
   "version": "2.3.3"
  }
 },
 "nbformat": 4,
 "nbformat_minor": 5
}
